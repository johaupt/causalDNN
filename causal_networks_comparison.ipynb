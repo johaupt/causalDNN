{
 "cells": [
  {
   "cell_type": "code",
   "execution_count": 1,
   "metadata": {},
   "outputs": [],
   "source": [
    "import numpy as np\n",
    "import pandas as pd\n",
    "from collections import OrderedDict\n",
    "\n",
    "import torch\n",
    "import torch.nn as nn\n",
    "import torch.nn.functional as F\n",
    "from torch.autograd import Variable\n",
    "\n",
    "from torch.utils.data import Dataset, DataLoader\n",
    "\n",
    "from torch.optim import SGD, Adam\n",
    "\n",
    "from tqdm import tqdm\n",
    "\n",
    "import matplotlib.pyplot as plt"
   ]
  },
  {
   "cell_type": "markdown",
   "metadata": {},
   "source": [
    "The model is a standard multi-layer perceptron. Classification only requires a change to the output activation from None to sigmoid."
   ]
  },
  {
   "cell_type": "code",
   "execution_count": 2,
   "metadata": {},
   "outputs": [],
   "source": [
    "class nnet(nn.Module):\n",
    "    def __init__(self, input_dim, hidden_layer_sizes):\n",
    "        super(nnet, self).__init__()\n",
    "        \n",
    "        self.input_dim = input_dim\n",
    "        self.layer_sizes = hidden_layer_sizes\n",
    "        self.iter = 0\n",
    "        \n",
    "        hidden_layer_sizes = hidden_layer_sizes + [1] # Output layer\n",
    "        first_layer = nn.Linear(input_dim, hidden_layer_sizes[0])\n",
    "        self.layers = nn.ModuleList(\n",
    "            [first_layer] +\\\n",
    "            [nn.Linear(input_, output_)\n",
    "             for input_, output_ in \n",
    "             zip(hidden_layer_sizes, hidden_layer_sizes[1:])])\n",
    "\n",
    "        \n",
    "    def forward(self, x):\n",
    "        for layer in self.layers[:-1]:\n",
    "            x = F.relu(layer(x))\n",
    "        x = self.layers[-1](x)\n",
    "        \n",
    "        return x\n",
    "    \n",
    "    def train(self, data_loader, epochs):\n",
    "        for epoch in range(epochs):\n",
    "            loss = self._train_iteration(data_loader)\n",
    "            if epoch % 5 == 0:\n",
    "                print(f\"loss: {loss}\")\n",
    "                \n",
    "    def _train_iteration(self,data_loader):\n",
    "        for i, (X,y,g) in enumerate(data_loader):\n",
    "            \n",
    "            X = X.float()\n",
    "            y = y.unsqueeze(1).float()\n",
    "            \n",
    "            X = Variable(X, requires_grad=True)\n",
    "            y = Variable(y, requires_grad=True)\n",
    "                      \n",
    "            pred = self(X)\n",
    "            loss = ((y - pred)**2).mean()\n",
    "            \n",
    "            optim.zero_grad()\n",
    "            loss.backward()\n",
    "            optim.step()\n",
    "               \n",
    "        return loss.detach().numpy()"
   ]
  },
  {
   "cell_type": "markdown",
   "metadata": {},
   "source": [
    "# Data"
   ]
  },
  {
   "cell_type": "markdown",
   "metadata": {},
   "source": [
    "The data generating process works as follows (story just for reference):\n",
    "Revenue ($y_i$) depends on some characteristics $X_i$ of the customer i. Customers are given a coupon (treatment $g_i$) with 50% probability . Customer who receive a coupon will spend more or less money (treatment effect $\\tau_i$) depending linearly on their characteristics.\n",
    "\n",
    "$$y_i = X_i ^\\top \\beta_X + g_i \\cdot (\\tau_0 + X_i ^\\top \\beta_{\\tau} + \\epsilon^{\\tau}_i) + \\epsilon_i$$\n",
    "\n",
    "with \n",
    "\n",
    "$$\\epsilon_i \\sim \\text{Normal}(mean = 0, std = 0.1)$$\n",
    "\n",
    "$$g_i \\sim \\text{Bernoulli}(p=0.5)$$\n",
    "$$\\epsilon^{\\tau}_i \\sim \\text{Normal}(mean = 0, std = 0.001)$$\n",
    "\n",
    "I think there is merit to the assumption that the true reponse model is often more complex than the model behind the heterogeneity of treatment effects. \n"
   ]
  },
  {
   "cell_type": "code",
   "execution_count": 3,
   "metadata": {},
   "outputs": [],
   "source": [
    "#from scipy.stats import logistic\n",
    "\n",
    "def generate_experiment(n_obs,n_var, tau=None):\n",
    "    X = np.random.multivariate_normal(\n",
    "             np.zeros(n_var),\n",
    "             np.eye(n_var)*1,\n",
    "             n_obs\n",
    "             )\n",
    "    \n",
    "    \n",
    "    # Linear effects\n",
    "    beta     = np.random.normal(loc=0, scale=0.1, size=n_var)\n",
    "    # Non-linear effects (optional)\n",
    "    beta_X2  = np.random.normal(loc=0, scale=0.1, size=n_var)\n",
    "    # Linear effects on treatment effect\n",
    "    beta_tau = np.random.normal(loc=0.01, scale=0.1, size=n_var)\n",
    "    # Baseline treatment effect\n",
    "    tau_zero = np.random.normal(0.1,0.01)\n",
    "    \n",
    "    g = np.hstack([np.ones(n_obs//2), np.zeros(n_obs//2)])\n",
    "        #np.random.binomial(1,0.5,size=n_obs)\n",
    "        \n",
    "    if tau is None:\n",
    "        tau = tau_zero + np.dot(X,beta_tau) + np.random.normal(scale=0.001, size=n_obs)\n",
    "        \n",
    "    y = np.dot(X,beta) +\\\n",
    "        np.dot(np.power(X,2),beta_X2) +\\\n",
    "        g * tau + np.random.normal(scale=1, size=n_obs)\n",
    "    \n",
    "    \n",
    "    return X, y, g, tau, beta, beta_X2, tau_zero, beta_tau\n",
    "    \n",
    "    "
   ]
  },
  {
   "cell_type": "markdown",
   "metadata": {},
   "source": [
    "The Dataloader is currently a random sampler (see below) that returns $X_i$, $y_i$ and $g_i$ for a batch. \n",
    "\n",
    "TODO: I think a batch sampler stratified on $g$ makes more sense."
   ]
  },
  {
   "cell_type": "code",
   "execution_count": 4,
   "metadata": {},
   "outputs": [],
   "source": [
    "class ExperimentData(Dataset):\n",
    "    def __init__(self, X, y, g):\n",
    "        self.X = X\n",
    "        self.y = y\n",
    "        self.g = g\n",
    "        \n",
    "    def __len__(self):\n",
    "        return X.shape[0]\n",
    "    \n",
    "    def __getitem__(self, idx):\n",
    "        return X[idx,:], y[idx], g[idx]\n",
    "                "
   ]
  },
  {
   "cell_type": "code",
   "execution_count": 5,
   "metadata": {},
   "outputs": [],
   "source": [
    "X, y, g, tau, coef, coef_x2, tau_zero, coef_tau = generate_experiment(20000,10, tau=None)"
   ]
  },
  {
   "cell_type": "code",
   "execution_count": 6,
   "metadata": {},
   "outputs": [],
   "source": [
    "from sklearn.model_selection import train_test_split, StratifiedShuffleSplit\n",
    "splitter = StratifiedShuffleSplit(n_splits=2, test_size=0.5)\n",
    "idx_train, idx_test = next(splitter.split(X,g))"
   ]
  },
  {
   "cell_type": "code",
   "execution_count": 7,
   "metadata": {},
   "outputs": [],
   "source": [
    "import json\n",
    "with open('data/nonlinear_random_experiment_190313.json', 'w') as fp:\n",
    "    json.dump({\n",
    "        \"X\":X.tolist(), \"y\":y.tolist(), \n",
    "        \"g\":g.tolist(), \"tau\":tau.tolist(), \n",
    "        \"coef\":coef.tolist(), \"coef_x2\":coef_x2.tolist(), \n",
    "        \"tau_zero\":tau_zero, \"coef_tau\":coef_tau.tolist(),\n",
    "        \"train_idx\":idx_train.tolist()\n",
    "    }, fp)"
   ]
  },
  {
   "cell_type": "code",
   "execution_count": 8,
   "metadata": {},
   "outputs": [],
   "source": [
    "X_val, y_val, g_val, tau_val = [obj[idx_train] for obj in [X,y,g,tau]]\n",
    "X, y, g, tau, = [obj[idx_train] for obj in [X,y,g,tau]]\n",
    "\n",
    "X, X_val, y, y_val, g, g_val, tau, tau_val = train_test_split(X,y,g,tau, stratify=g)"
   ]
  },
  {
   "cell_type": "markdown",
   "metadata": {},
   "source": [
    "For evaluation in the simulation context, I assume that the treatment effects are known and calculate the accuracy on the model in estimating the treatment effects on a holdout validation set. In practice, the true treatment effects are unknown, of course, so holdout evaluation is an open question."
   ]
  },
  {
   "cell_type": "code",
   "execution_count": 9,
   "metadata": {},
   "outputs": [
    {
     "data": {
      "text/plain": [
       "(-0.015215358417489616, 1.1104209360564627)"
      ]
     },
     "execution_count": 9,
     "metadata": {},
     "output_type": "execute_result"
    }
   ],
   "source": [
    "np.mean(y), np.std(y)"
   ]
  },
  {
   "cell_type": "markdown",
   "metadata": {},
   "source": [
    "ATE summary statistics. These should be stable to confirm that the info-noise ratio in the data is not too high."
   ]
  },
  {
   "cell_type": "code",
   "execution_count": 10,
   "metadata": {},
   "outputs": [
    {
     "name": "stdout",
     "output_type": "stream",
     "text": [
      "Baseline treatment effect (True ATE):0.09411293459307159\n",
      "Sample treatment effect (ITE Mean, ITE Std.): (0.09486855450072199, 0.250360180849418)\n",
      "Empirical ATE: 0.09931810205378655\n"
     ]
    }
   ],
   "source": [
    "# True ATE and standard deviation of individual treatment effects\n",
    "print(f\"Baseline treatment effect (True ATE):{tau_zero}\")\n",
    "print(f\"Sample treatment effect (ITE Mean, ITE Std.): {np.mean(tau), np.std(tau)}\")\n",
    "print(f\"Empirical ATE: {np.mean(y[g==1]) - np.mean(y[g==0])}\")"
   ]
  },
  {
   "cell_type": "code",
   "execution_count": 11,
   "metadata": {},
   "outputs": [
    {
     "name": "stdout",
     "output_type": "stream",
     "text": [
      "Baseline MSE for treatment effect prediction on validation data:      0.061286385473266466\n"
     ]
    }
   ],
   "source": [
    "print(f\"Baseline MSE for treatment effect prediction on validation data:\\\n",
    "      {np.mean((tau_val - (np.mean(y[g==1]) - np.mean(y[g==0])))**2)}\")"
   ]
  },
  {
   "cell_type": "code",
   "execution_count": 12,
   "metadata": {},
   "outputs": [],
   "source": [
    "data = ExperimentData(X,y,g)"
   ]
  },
  {
   "cell_type": "markdown",
   "metadata": {},
   "source": [
    "## Setup"
   ]
  },
  {
   "cell_type": "code",
   "execution_count": 13,
   "metadata": {},
   "outputs": [],
   "source": [
    "pred = OrderedDict()\n",
    "pred_val = OrderedDict()"
   ]
  },
  {
   "cell_type": "code",
   "execution_count": 71,
   "metadata": {},
   "outputs": [],
   "source": [
    "pred[\"ATE\"] = ((y[g==1].mean())-(y[g==0].mean())) * np.ones([X.shape[0]])\n",
    "pred_val[\"ATE\"] = (y[g==1].mean())-(y[g==0].mean()) * np.ones([X_val.shape[0]])"
   ]
  },
  {
   "cell_type": "markdown",
   "metadata": {},
   "source": [
    "## Two-model causal net (T-Learner)"
   ]
  },
  {
   "cell_type": "markdown",
   "metadata": {},
   "source": [
    "## Model"
   ]
  },
  {
   "cell_type": "code",
   "execution_count": 15,
   "metadata": {},
   "outputs": [],
   "source": [
    "class TNet(nn.Module):\n",
    "    def __init__(self, input_dim, hidden_layer_sizes):\n",
    "        super().__init__()\n",
    "        self.net0 = nnet(input_dim, hidden_layer_sizes)\n",
    "        self.net1 = nnet(input_dim, hidden_layer_sizes)\n",
    "        self.loss = []\n",
    "        self.val_loss = []\n",
    "        \n",
    "    def forward(self, X):\n",
    "        treatment_effect = self.net1(X) - self.net0(X)\n",
    "        return treatment_effect\n",
    "    \n",
    "    def train(self, data_loader, epochs, validation_data=None):\n",
    "        for epoch in range(epochs):\n",
    "            ATE, ATE_hat, loss, g_ratio = self._train_iteration(data_loader)\n",
    "            self.loss.append(loss)\n",
    "            if epoch % 5 == 0:\n",
    "                if validation_data is not None:\n",
    "                    tau_hat = self(validation_data['X'])\n",
    "                    val_loss = (validation_data['tau'] - tau_hat).pow(2).mean().detach().numpy()\n",
    "                    self.val_loss.append(val_loss)\n",
    "                    print(f\"val_loss: {val_loss}, ATE: {ATE}, ATE_hat: {ATE_hat}, loss: {loss}, balance: {g_ratio}\")\n",
    "                else:\n",
    "                    print(f\"ATE: {ATE}, ATE_hat: {ATE_hat}, loss: {loss}, balance: {g_ratio}\")\n",
    "            \n",
    "    \n",
    "    def _train_iteration(self,data_loader):\n",
    "        for i, (X,y,g) in enumerate(data_loader):\n",
    "            \n",
    "            X = X.float()\n",
    "            y = y.unsqueeze(1).float()\n",
    "            \n",
    "            X0 = Variable(X[g==0,:])\n",
    "            y0 = Variable(y[g==0])\n",
    "            \n",
    "            X1 = Variable(X[g==1,:])\n",
    "            y1 = Variable(y[g==1])\n",
    "            \n",
    "            g_ratio = g.float().mean()\n",
    "            \n",
    "            response0 = self.net0(X0)\n",
    "            loss0 = ((y0 - response0)**2).mean()\n",
    "            \n",
    "            response1 = self.net1(X1)\n",
    "            loss1 = ((y1 - response1)**2).mean()\n",
    "            \n",
    "            loss = loss1 + loss0\n",
    "\n",
    "            treatment_effect = self(X)\n",
    "            \n",
    "            ATE_hat = treatment_effect.mean()\n",
    "            ATE     = y1.mean() - y0.mean()\n",
    "            # MSE\n",
    "            loss_treatment = (ATE - ATE_hat)**2            \n",
    "\n",
    "            self.net0.zero_grad()\n",
    "            loss0.backward()\n",
    "            optim0.step()\n",
    "            \n",
    "            self.net1.zero_grad()\n",
    "            loss1.backward()\n",
    "            optim1.step()\n",
    "                \n",
    "            \n",
    "        return ATE.detach().numpy(), ATE_hat.detach().numpy(), loss.detach().numpy(), g_ratio\n",
    "            "
   ]
  },
  {
   "cell_type": "markdown",
   "metadata": {},
   "source": [
    "### Simulation"
   ]
  },
  {
   "cell_type": "markdown",
   "metadata": {},
   "source": [
    "We can train two FFNN without hidden layers as equivalent to a linear model. Note that this model is misspecified, because it ignores the non-linearity!"
   ]
  },
  {
   "cell_type": "code",
   "execution_count": 16,
   "metadata": {},
   "outputs": [],
   "source": [
    "tnet = TNet(10, [])"
   ]
  },
  {
   "cell_type": "code",
   "execution_count": 17,
   "metadata": {},
   "outputs": [],
   "source": [
    "data_loader = DataLoader(data, batch_size=256, shuffle=True)"
   ]
  },
  {
   "cell_type": "code",
   "execution_count": 18,
   "metadata": {},
   "outputs": [],
   "source": [
    "optim0 = Adam(tnet.net0.parameters(), lr=0.001)\n",
    "optim1 = Adam(tnet.net1.parameters(), lr=0.001)"
   ]
  },
  {
   "cell_type": "code",
   "execution_count": 19,
   "metadata": {},
   "outputs": [
    {
     "name": "stdout",
     "output_type": "stream",
     "text": [
      "val_loss: 0.544021725654602, ATE: 0.21250596642494202, ATE_hat: 0.05691736564040184, loss: 2.509882926940918, balance: 0.5657894611358643\n",
      "val_loss: 0.2685396373271942, ATE: 0.2911507785320282, ATE_hat: 0.08366131037473679, loss: 2.6063783168792725, balance: 0.4868420958518982\n",
      "val_loss: 0.17734025418758392, ATE: -0.33413612842559814, ATE_hat: 0.08024916797876358, loss: 1.9260749816894531, balance: 0.4868420958518982\n",
      "val_loss: 0.14873169362545013, ATE: 0.4156690239906311, ATE_hat: 0.033748988062143326, loss: 1.7875521183013916, balance: 0.43421053886413574\n",
      "val_loss: 0.13535934686660767, ATE: 0.0198633074760437, ATE_hat: 0.10175474733114243, loss: 1.6969149112701416, balance: 0.44736841320991516\n",
      "val_loss: 0.12818972766399384, ATE: 0.37188029289245605, ATE_hat: 0.08585938811302185, loss: 1.8232553005218506, balance: 0.43421053886413574\n",
      "val_loss: 0.12478139996528625, ATE: -0.16749852895736694, ATE_hat: 0.08956976979970932, loss: 1.9951238632202148, balance: 0.4868420958518982\n",
      "val_loss: 0.12436223775148392, ATE: -0.2048332393169403, ATE_hat: 0.14746741950511932, loss: 2.3908419609069824, balance: 0.40789473056793213\n",
      "val_loss: 0.12455114722251892, ATE: 0.3770795464515686, ATE_hat: 0.1510452777147293, loss: 2.0692145824432373, balance: 0.44736841320991516\n",
      "val_loss: 0.12299858033657074, ATE: 0.13097910583019257, ATE_hat: 0.1427493542432785, loss: 2.4846973419189453, balance: 0.5\n",
      "val_loss: 0.12398271262645721, ATE: -0.440266489982605, ATE_hat: 0.10179782658815384, loss: 1.7303093671798706, balance: 0.5\n",
      "val_loss: 0.12565064430236816, ATE: 0.2779307961463928, ATE_hat: 0.14355237782001495, loss: 2.3727784156799316, balance: 0.5657894611358643\n",
      "val_loss: 0.12659059464931488, ATE: 0.23720243573188782, ATE_hat: 0.14650456607341766, loss: 2.206386089324951, balance: 0.5789473652839661\n",
      "val_loss: 0.12368825078010559, ATE: -0.5560867190361023, ATE_hat: 0.1403963714838028, loss: 2.5399765968322754, balance: 0.5131579041481018\n",
      "val_loss: 0.1235659271478653, ATE: 0.12507782876491547, ATE_hat: 0.09769083559513092, loss: 2.1553192138671875, balance: 0.4736842215061188\n",
      "val_loss: 0.12477272003889084, ATE: -0.2868635356426239, ATE_hat: 0.0906202420592308, loss: 2.735877513885498, balance: 0.6315789222717285\n",
      "val_loss: 0.12339308857917786, ATE: 0.1282416582107544, ATE_hat: 0.1239868700504303, loss: 1.8058419227600098, balance: 0.46052631735801697\n",
      "val_loss: 0.12306436896324158, ATE: 0.2827557623386383, ATE_hat: 0.1532333344221115, loss: 2.0641117095947266, balance: 0.5\n",
      "val_loss: 0.12416189908981323, ATE: 0.28632616996765137, ATE_hat: 0.12125150859355927, loss: 1.427907943725586, balance: 0.5394737124443054\n",
      "val_loss: 0.12436346709728241, ATE: -0.37479543685913086, ATE_hat: 0.13820427656173706, loss: 2.211772918701172, balance: 0.5263158082962036\n",
      "val_loss: 0.1264687478542328, ATE: 0.47039496898651123, ATE_hat: 0.14038676023483276, loss: 2.8404290676116943, balance: 0.5263158082962036\n",
      "val_loss: 0.12217892706394196, ATE: 0.39387044310569763, ATE_hat: 0.08056901395320892, loss: 2.8057680130004883, balance: 0.43421053886413574\n",
      "val_loss: 0.12514926493167877, ATE: -0.028677523136138916, ATE_hat: 0.11559752374887466, loss: 1.7707037925720215, balance: 0.46052631735801697\n",
      "val_loss: 0.12548969686031342, ATE: -0.28980669379234314, ATE_hat: 0.07547247409820557, loss: 1.8792275190353394, balance: 0.3684210479259491\n",
      "val_loss: 0.12549063563346863, ATE: -0.06533123552799225, ATE_hat: 0.08991791307926178, loss: 1.522493839263916, balance: 0.4868420958518982\n",
      "val_loss: 0.12459374219179153, ATE: 0.18530580401420593, ATE_hat: 0.0820208489894867, loss: 2.4529166221618652, balance: 0.46052631735801697\n",
      "val_loss: 0.12475516647100449, ATE: 0.16334985196590424, ATE_hat: 0.12481802701950073, loss: 2.5632104873657227, balance: 0.5131579041481018\n",
      "val_loss: 0.12515783309936523, ATE: 0.12085683643817902, ATE_hat: 0.0923524871468544, loss: 2.7251486778259277, balance: 0.40789473056793213\n",
      "val_loss: 0.12516473233699799, ATE: 0.3145768940448761, ATE_hat: 0.09101884067058563, loss: 2.1863393783569336, balance: 0.5263158082962036\n",
      "val_loss: 0.12352459877729416, ATE: 0.6581496000289917, ATE_hat: 0.10561909526586533, loss: 1.7627627849578857, balance: 0.4868420958518982\n",
      "val_loss: 0.12559713423252106, ATE: 0.611397385597229, ATE_hat: 0.08471105247735977, loss: 2.177412748336792, balance: 0.5\n",
      "val_loss: 0.12412302941083908, ATE: -0.07155296206474304, ATE_hat: 0.18534009158611298, loss: 2.746737241744995, balance: 0.5789473652839661\n",
      "val_loss: 0.12668897211551666, ATE: -0.2858874797821045, ATE_hat: 0.11003383994102478, loss: 4.259943962097168, balance: 0.5131579041481018\n",
      "val_loss: 0.12492728233337402, ATE: 0.2026650458574295, ATE_hat: 0.18454276025295258, loss: 2.1048173904418945, balance: 0.5394737124443054\n",
      "val_loss: 0.12307628989219666, ATE: -0.2926337718963623, ATE_hat: 0.1718176305294037, loss: 2.4984138011932373, balance: 0.4736842215061188\n",
      "val_loss: 0.12563595175743103, ATE: 0.44864749908447266, ATE_hat: 0.1214776560664177, loss: 2.4945731163024902, balance: 0.43421053886413574\n",
      "val_loss: 0.12699373066425323, ATE: -0.6157894134521484, ATE_hat: 0.05883830413222313, loss: 1.7821747064590454, balance: 0.40789473056793213\n",
      "val_loss: 0.12681053578853607, ATE: 0.1495092809200287, ATE_hat: 0.1278533935546875, loss: 2.059070110321045, balance: 0.42105263471603394\n",
      "val_loss: 0.12355121225118637, ATE: 0.1238284558057785, ATE_hat: 0.11570462584495544, loss: 1.8963956832885742, balance: 0.46052631735801697\n",
      "val_loss: 0.12469439953565598, ATE: 0.8332406282424927, ATE_hat: 0.1513252556324005, loss: 2.391922950744629, balance: 0.46052631735801697\n",
      "val_loss: 0.1264764368534088, ATE: 0.42053449153900146, ATE_hat: 0.13265420496463776, loss: 2.339125156402588, balance: 0.4736842215061188\n",
      "val_loss: 0.1273716688156128, ATE: -0.2457278072834015, ATE_hat: 0.07917176187038422, loss: 1.8127541542053223, balance: 0.5526315569877625\n",
      "val_loss: 0.12280838191509247, ATE: 0.07704533636569977, ATE_hat: 0.12064512073993683, loss: 2.79692006111145, balance: 0.5263158082962036\n",
      "val_loss: 0.12656548619270325, ATE: -0.01400982029736042, ATE_hat: 0.0826498493552208, loss: 1.9901137351989746, balance: 0.3684210479259491\n",
      "val_loss: 0.12320750951766968, ATE: 0.17171695828437805, ATE_hat: 0.12662960588932037, loss: 1.7115803956985474, balance: 0.3947368562221527\n",
      "val_loss: 0.12552067637443542, ATE: 0.1064818948507309, ATE_hat: 0.1267918199300766, loss: 2.13360333442688, balance: 0.5131579041481018\n",
      "val_loss: 0.12429250776767731, ATE: -0.06302497535943985, ATE_hat: 0.07557348906993866, loss: 2.0424604415893555, balance: 0.44736841320991516\n",
      "val_loss: 0.12594486773014069, ATE: -0.35045555233955383, ATE_hat: 0.11789044737815857, loss: 1.4534022808074951, balance: 0.4868420958518982\n",
      "val_loss: 0.12257321178913116, ATE: 0.08567113429307938, ATE_hat: 0.06233302503824234, loss: 2.3753137588500977, balance: 0.5\n",
      "val_loss: 0.12372858822345734, ATE: 0.048633091151714325, ATE_hat: 0.07898378372192383, loss: 2.371873617172241, balance: 0.5789473652839661\n",
      "val_loss: 0.12646691501140594, ATE: 0.7067643404006958, ATE_hat: 0.11206390708684921, loss: 2.5590591430664062, balance: 0.5\n",
      "val_loss: 0.12670749425888062, ATE: -0.036686971783638, ATE_hat: 0.11273237317800522, loss: 1.9663054943084717, balance: 0.5789473652839661\n",
      "val_loss: 0.1245136633515358, ATE: 0.2692989408969879, ATE_hat: 0.12475229799747467, loss: 2.3726892471313477, balance: 0.5\n",
      "val_loss: 0.1245633214712143, ATE: 0.017380502074956894, ATE_hat: 0.11041945964097977, loss: 2.2515101432800293, balance: 0.4868420958518982\n",
      "val_loss: 0.12269526720046997, ATE: 0.3580656051635742, ATE_hat: 0.1617724448442459, loss: 1.7195830345153809, balance: 0.43421053886413574\n",
      "val_loss: 0.12410327792167664, ATE: -0.049989089369773865, ATE_hat: 0.1344556361436844, loss: 2.452991008758545, balance: 0.42105263471603394\n",
      "val_loss: 0.12458524107933044, ATE: -0.12299543619155884, ATE_hat: 0.06314291805028915, loss: 3.222677230834961, balance: 0.5394737124443054\n",
      "val_loss: 0.12641574442386627, ATE: 0.4171503782272339, ATE_hat: 0.09589715301990509, loss: 2.261049270629883, balance: 0.5921052694320679\n",
      "val_loss: 0.12590253353118896, ATE: 0.5164171457290649, ATE_hat: 0.12550050020217896, loss: 2.834832191467285, balance: 0.5921052694320679\n",
      "val_loss: 0.12210830301046371, ATE: -0.3214108645915985, ATE_hat: 0.09482190757989883, loss: 2.7197508811950684, balance: 0.5921052694320679\n"
     ]
    }
   ],
   "source": [
    "tnet.train(data_loader, epochs=300, validation_data = {\"X\":torch.tensor(X_val).float(), \n",
    "                                              \"tau\":torch.Tensor(tau_val).float()})"
   ]
  },
  {
   "cell_type": "code",
   "execution_count": 20,
   "metadata": {},
   "outputs": [
    {
     "data": {
      "image/png": "[encoded data removed]",
      "text/plain": [
       "<Figure size 432x288 with 1 Axes>"
      ]
     },
     "metadata": {
      "needs_background": "light"
     },
     "output_type": "display_data"
    }
   ],
   "source": [
    "import matplotlib.pyplot as plt\n",
    "plt.plot(tnet.val_loss[2:])\n",
    "plt.show()"
   ]
  },
  {
   "cell_type": "markdown",
   "metadata": {},
   "source": [
    "For neural networks without hidden layer, we can compare the coefficients to the known true coefficients."
   ]
  },
  {
   "cell_type": "code",
   "execution_count": 21,
   "metadata": {},
   "outputs": [],
   "source": [
    "pred['tnet'] = tnet(torch.tensor(X).float()).detach().numpy()\n",
    "pred_val['tnet'] = tnet(torch.tensor(X_val).float()).detach().numpy()"
   ]
  },
  {
   "cell_type": "markdown",
   "metadata": {},
   "source": [
    "The ATE is usually approximately correct."
   ]
  },
  {
   "cell_type": "code",
   "execution_count": 22,
   "metadata": {},
   "outputs": [
    {
     "data": {
      "text/plain": [
       "0.09411293459307159"
      ]
     },
     "execution_count": 22,
     "metadata": {},
     "output_type": "execute_result"
    }
   ],
   "source": [
    "tau_zero"
   ]
  },
  {
   "cell_type": "code",
   "execution_count": 23,
   "metadata": {},
   "outputs": [
    {
     "data": {
      "text/plain": [
       "0.114730455"
      ]
     },
     "execution_count": 23,
     "metadata": {},
     "output_type": "execute_result"
    }
   ],
   "source": [
    "pred['tnet'].mean()"
   ]
  },
  {
   "cell_type": "markdown",
   "metadata": {},
   "source": [
    "Correlation between predicted and actual treatment effects is highly positive"
   ]
  },
  {
   "cell_type": "code",
   "execution_count": 24,
   "metadata": {},
   "outputs": [
    {
     "name": "stdout",
     "output_type": "stream",
     "text": [
      "0.09486855450072199 0.250360180849418\n",
      "0.114730455 0.2510109\n",
      "[[1.         0.95746587]\n",
      " [0.95746587 1.        ]]\n"
     ]
    }
   ],
   "source": [
    "print(tau.mean(), tau.std())\n",
    "print(pred['tnet'].mean(), pred['tnet'].std())\n",
    "print(np.corrcoef(tau,pred['tnet'].flatten(), rowvar=False))"
   ]
  },
  {
   "cell_type": "code",
   "execution_count": 25,
   "metadata": {},
   "outputs": [
    {
     "data": {
      "text/plain": [
       "array([ 0.3007841 , -0.07282475,  0.42325658,  0.05528891,  0.29580742,\n",
       "        0.08333832, -0.01118969,  0.5441527 ,  0.19382063, -0.02393944],\n",
       "      dtype=float32)"
      ]
     },
     "execution_count": 25,
     "metadata": {},
     "output_type": "execute_result"
    }
   ],
   "source": [
    "pred['tnet'].flatten()[:10]"
   ]
  },
  {
   "cell_type": "code",
   "execution_count": 26,
   "metadata": {},
   "outputs": [
    {
     "data": {
      "text/plain": [
       "array([ 0.2656435 , -0.11723263,  0.54295427, -0.07050373,  0.19862628,\n",
       "        0.07266931,  0.04376968,  0.52843209,  0.06204483,  0.00722839])"
      ]
     },
     "execution_count": 26,
     "metadata": {},
     "output_type": "execute_result"
    }
   ],
   "source": [
    "tau[:10]"
   ]
  },
  {
   "cell_type": "code",
   "execution_count": 27,
   "metadata": {},
   "outputs": [
    {
     "data": {
      "image/png": "[encoded data removed]",
      "text/plain": [
       "<Figure size 432x288 with 1 Axes>"
      ]
     },
     "metadata": {
      "needs_background": "light"
     },
     "output_type": "display_data"
    }
   ],
   "source": [
    "plt.scatter(tau,pred['tnet'])\n",
    "plt.show()"
   ]
  },
  {
   "cell_type": "markdown",
   "metadata": {},
   "source": [
    "## Mini-batch ATE causal net"
   ]
  },
  {
   "cell_type": "markdown",
   "metadata": {},
   "source": [
    "### Model\n",
    "The two-model approach estimates two distinct models on the response variable, one for each group. The difference between the two estimates for the same observations is the treatment effect for a single observation. Disjoint estimation may result in models that are not well calibrated.\n",
    "\n",
    "Solution: Train a neural network to estimate the treatment effect directly. This is not possible for a single observation (-> fundamental problem of causal inference):\n",
    "\n",
    "$$ r_i = \\hat{\\tau}_i - \\tau_i, $$\n",
    "where $\\tau_i$ is of course unknown. \n",
    "\n",
    "We can however evaluate the total error for groups of observations $i \\in 1,\\ldots,N$:\n",
    "\n",
    "$$ \\sum^N r_i = \\sum^N \\hat{\\tau}_i - \\tau_i = \\sum^N \\hat{\\tau}_i - \\sum^N \\tau_i$$\n",
    "\n",
    "\n",
    "The sum treatment effect is only weakly informative for the treatment effect of a single observation and estimating the overall sum of treatment effects leaves too many degrees of freedom for the treatment effect of each observations. By using mini-batches instead, the summed individual treatment effects need to be correct not only for the population N, but also for each subset of the population $M \\in N$.\n",
    "\n",
    "The trick is in shuffling and reshuffling the observation between the batches. On the full sample, the model can get away with predicting the ATE for each observation. For the ATE *in each subset* to be correct, the model needs to predict the individual treatment effects correctly. \n",
    "\n",
    "TODO: Show this formally!"
   ]
  },
  {
   "cell_type": "code",
   "execution_count": 28,
   "metadata": {},
   "outputs": [],
   "source": [
    "class causalnet1(nn.Module):\n",
    "    def __init__(self, input_dim, hidden_layer_sizes, average_control_response=None):\n",
    "        super().__init__()\n",
    "        self.net = nnet(input_dim, hidden_layer_sizes)\n",
    "        self.loss = []\n",
    "        self.val_loss = []\n",
    "        self.average_control_response = average_control_response\n",
    "        \n",
    "    def forward(self, X):\n",
    "        treatment_effect = self.net(X)\n",
    "        return treatment_effect\n",
    "    \n",
    "    def train(self, data_loader, epochs, validation_data=None):\n",
    "        for epoch in range(epochs):\n",
    "            ATE, ATE_hat, loss, g_ratio = self._train_iteration(data_loader)\n",
    "            self.loss.append(loss)\n",
    "            if epoch % 5 == 0:\n",
    "                if validation_data is not None:\n",
    "                    tau_hat = self.net(validation_data['X'])\n",
    "                    val_loss = (validation_data['tau'] - tau_hat).pow(2).mean().detach().numpy()\n",
    "                    self.val_loss.append(val_loss)\n",
    "                    print(f\"val_loss: {val_loss}, ATE: {ATE}, ATE_hat: {ATE_hat}, loss: {loss}, balance: {g_ratio}\")\n",
    "                else:\n",
    "                    print(f\"ATE: {ATE}, ATE_hat: {ATE_hat}, loss: {loss}, balance: {g_ratio}\")\n",
    "            \n",
    "    \n",
    "    def _train_iteration(self,data_loader):\n",
    "        for i, (X,y,g) in enumerate(data_loader):\n",
    "            \n",
    "            X = X.float()\n",
    "            y = y.unsqueeze(1).float()\n",
    "            \n",
    "            X0 = Variable(X[g==0,:])\n",
    "            y0 = Variable(y[g==0])\n",
    "            \n",
    "            X1 = Variable(X[g==1,:])\n",
    "            y1 = Variable(y[g==1])\n",
    "            \n",
    "            g_ratio = g.float().mean()\n",
    "            \n",
    "#             response0 = self.net0(X0)\n",
    "#             loss0 = ((y0 - response0)**2).mean()\n",
    "            \n",
    "#             response1 = self.net1(X1)\n",
    "#             loss1 = ((y1 - response1)**2).mean()\n",
    "\n",
    "            treatment_effect = self(X[g==1])\n",
    "            ATE_hat = treatment_effect.mean()\n",
    "            \n",
    "            if self.average_control_response is None:\n",
    "                average_control_response = y0.mean()\n",
    "            else:\n",
    "                average_control_response = self.average_control_response\n",
    "            \n",
    "            ATE     = y1.mean() - average_control_response\n",
    "            # MSE\n",
    "            loss_treatment = (ATE - ATE_hat).pow(2)\n",
    "\n",
    "            \n",
    "#             if i % 2==0:\n",
    "#                 self.net0.zero_grad()\n",
    "#                 loss =  0*loss0 + loss_treatment\n",
    "#                 loss.backward()\n",
    "#                 optim0.step()\n",
    "#             else:\n",
    "            self.net.zero_grad()\n",
    "            loss =  loss_treatment\n",
    "            loss.backward()\n",
    "            optim.step()\n",
    "                \n",
    "            \n",
    "        return ATE.detach().numpy(), ATE_hat.detach().numpy(), loss.detach().numpy(), g_ratio\n",
    "            "
   ]
  },
  {
   "cell_type": "markdown",
   "metadata": {},
   "source": [
    "### Simulation"
   ]
  },
  {
   "cell_type": "markdown",
   "metadata": {},
   "source": [
    "We can train a FFNN without hidden layers as equivalent to a linear model."
   ]
  },
  {
   "cell_type": "code",
   "execution_count": 29,
   "metadata": {},
   "outputs": [],
   "source": [
    "cnn1 = causalnet1(10, [])#, average_control_response = torch.tensor(y[g==0].mean()))"
   ]
  },
  {
   "cell_type": "markdown",
   "metadata": {},
   "source": [
    "My intuition about the batch size is tradeoff: Too large and the signal from each observation becomes too small and predicting the ATE is the dominant strategy. Too small and the training becomes unstable."
   ]
  },
  {
   "cell_type": "markdown",
   "metadata": {},
   "source": [
    "TODO: A dynamic decrease in batch size could provide more and more information given that the model is stable enough to create decent estimates"
   ]
  },
  {
   "cell_type": "markdown",
   "metadata": {},
   "source": [
    "TODO: Ideally, the data loader will pass bs/2 observations of each the treatment and the control group, but this will take some coding, so I ignore it for now. For small batch sizes, it's currently possible that not both groups are present in the batch so the loss will return NaN and training fails."
   ]
  },
  {
   "cell_type": "code",
   "execution_count": 30,
   "metadata": {},
   "outputs": [],
   "source": [
    "data_loader = DataLoader(data, batch_size=500, shuffle=True)"
   ]
  },
  {
   "cell_type": "markdown",
   "metadata": {},
   "source": [
    "A low learning rate is possibly necessary to stabilize training given the noise in the ATE within each batch."
   ]
  },
  {
   "cell_type": "code",
   "execution_count": 31,
   "metadata": {},
   "outputs": [],
   "source": [
    "optim = Adam(cnn1.net.parameters(), lr=0.001)"
   ]
  },
  {
   "cell_type": "code",
   "execution_count": 32,
   "metadata": {},
   "outputs": [],
   "source": [
    "# optim0 = Adam(cnn.net0.parameters(), lr=0.001)\n",
    "# optim1 = Adam(cnn.net1.parameters(), lr=0.001)"
   ]
  },
  {
   "cell_type": "markdown",
   "metadata": {},
   "source": [
    "I train for more epochs to equalize the number of model updates, because the batches are bigger."
   ]
  },
  {
   "cell_type": "code",
   "execution_count": 33,
   "metadata": {},
   "outputs": [
    {
     "name": "stdout",
     "output_type": "stream",
     "text": [
      "val_loss: 0.6752647161483765, ATE: 0.17737853527069092, ATE_hat: -0.3020464777946472, loss: 0.22984834015369415, balance: 0.5099999904632568\n",
      "val_loss: 0.6162473559379578, ATE: -0.055336952209472656, ATE_hat: -0.1685967594385147, loss: 0.012827783823013306, balance: 0.46799999475479126\n",
      "val_loss: 0.577955961227417, ATE: 0.07740099728107452, ATE_hat: -0.06503225862979889, loss: 0.020287232473492622, balance: 0.48399999737739563\n",
      "val_loss: 0.5549951195716858, ATE: -0.02997606247663498, ATE_hat: -0.12724941968917847, loss: 0.009462106041610241, balance: 0.49000000953674316\n",
      "val_loss: 0.5327968597412109, ATE: 0.05127224326133728, ATE_hat: -0.041936155408620834, loss: 0.008687806315720081, balance: 0.515999972820282\n",
      "val_loss: 0.5203784108161926, ATE: 0.08879911154508591, ATE_hat: -0.014077920466661453, loss: 0.010583684779703617, balance: 0.5040000081062317\n",
      "val_loss: 0.5041177272796631, ATE: 0.12755407392978668, ATE_hat: 0.06530454754829407, loss: 0.0038750034291297197, balance: 0.5\n",
      "val_loss: 0.496821790933609, ATE: 0.014241345226764679, ATE_hat: 0.02371741272509098, loss: 8.979585254564881e-05, balance: 0.4779999852180481\n",
      "val_loss: 0.4839409589767456, ATE: 0.04847690835595131, ATE_hat: 0.04986284673213959, loss: 1.9208250705560204e-06, balance: 0.46799999475479126\n",
      "val_loss: 0.45987191796302795, ATE: 0.15245482325553894, ATE_hat: 0.009993684478104115, loss: 0.020295174792408943, balance: 0.4819999933242798\n",
      "val_loss: 0.44153955578804016, ATE: 0.1319281905889511, ATE_hat: 0.13201631605625153, loss: 7.76609798691652e-09, balance: 0.5080000162124634\n",
      "val_loss: 0.4207928776741028, ATE: 0.09248513728380203, ATE_hat: 0.11520824581384659, loss: 0.0005163396708667278, balance: 0.47600001096725464\n",
      "val_loss: 0.4060933589935303, ATE: 0.07127118110656738, ATE_hat: 0.024509847164154053, loss: 0.0021866222377866507, balance: 0.5199999809265137\n",
      "val_loss: 0.39788687229156494, ATE: 0.0686417818069458, ATE_hat: 0.08443117141723633, loss: 0.0002493048377800733, balance: 0.4959999918937683\n",
      "val_loss: 0.38626372814178467, ATE: -0.014252315275371075, ATE_hat: 0.07077020406723022, loss: 0.007228828500956297, balance: 0.4860000014305115\n",
      "val_loss: 0.37498772144317627, ATE: 0.08933918923139572, ATE_hat: 0.11031658202409744, loss: 0.00044005102245137095, balance: 0.5\n",
      "val_loss: 0.363463431596756, ATE: 0.10485696792602539, ATE_hat: 0.10807742923498154, loss: 1.0371370990469586e-05, balance: 0.4959999918937683\n",
      "val_loss: 0.3550727069377899, ATE: 0.1269381195306778, ATE_hat: 0.11591964215040207, loss: 0.00012140684702899307, balance: 0.5320000052452087\n",
      "val_loss: 0.332109659910202, ATE: 0.01780535653233528, ATE_hat: 0.0943138524889946, loss: 0.00585354957729578, balance: 0.5260000228881836\n",
      "val_loss: 0.320436030626297, ATE: 0.05596216395497322, ATE_hat: 0.11490798741579056, loss: 0.003474610159173608, balance: 0.5239999890327454\n",
      "val_loss: 0.3111904561519623, ATE: 0.02466864511370659, ATE_hat: 0.09429998695850372, loss: 0.004848523065447807, balance: 0.46799999475479126\n",
      "val_loss: 0.29135051369667053, ATE: 0.08307800441980362, ATE_hat: 0.08129490911960602, loss: 3.1794288588571362e-06, balance: 0.5019999742507935\n",
      "val_loss: 0.2805324196815491, ATE: -0.004345551133155823, ATE_hat: 0.09620935469865799, loss: 0.010111289098858833, balance: 0.47600001096725464\n",
      "val_loss: 0.2652910053730011, ATE: 0.29634881019592285, ATE_hat: 0.09322009980678558, loss: 0.04126127436757088, balance: 0.515999972820282\n",
      "val_loss: 0.24757598340511322, ATE: 0.18964062631130219, ATE_hat: 0.07105814665555954, loss: 0.014061804860830307, balance: 0.5580000281333923\n",
      "val_loss: 0.23151175677776337, ATE: 0.20003336668014526, ATE_hat: 0.0896417573094368, loss: 0.012186307460069656, balance: 0.49799999594688416\n",
      "val_loss: 0.22133760154247284, ATE: 0.1254880130290985, ATE_hat: 0.10065925121307373, loss: 0.000616467441432178, balance: 0.5120000243186951\n",
      "val_loss: 0.21365100145339966, ATE: 0.27934885025024414, ATE_hat: 0.0955200120806694, loss: 0.03379303961992264, balance: 0.5099999904632568\n",
      "val_loss: 0.2048824429512024, ATE: 0.16272425651550293, ATE_hat: 0.11191383749246597, loss: 0.002581698587164283, balance: 0.5040000081062317\n",
      "val_loss: 0.2060440629720688, ATE: 0.16366271674633026, ATE_hat: 0.10482365638017654, loss: 0.0034620349761098623, balance: 0.47999998927116394\n",
      "val_loss: 0.21277134120464325, ATE: 0.17486922442913055, ATE_hat: 0.09038230776786804, loss: 0.007138038985431194, balance: 0.5239999890327454\n",
      "val_loss: 0.2206941395998001, ATE: 0.1422683447599411, ATE_hat: 0.09205226600170135, loss: 0.0025216545909643173, balance: 0.4880000054836273\n",
      "val_loss: 0.22448790073394775, ATE: 0.09836557507514954, ATE_hat: 0.07987707108259201, loss: 0.0003418247797526419, balance: 0.49799999594688416\n",
      "val_loss: 0.24045705795288086, ATE: 0.1664406806230545, ATE_hat: 0.0791860967874527, loss: 0.007613362278789282, balance: 0.5180000066757202\n",
      "val_loss: 0.24102483689785004, ATE: 0.04527597874403, ATE_hat: 0.09140443801879883, loss: 0.002127834828570485, balance: 0.515999972820282\n",
      "val_loss: 0.23304691910743713, ATE: 0.1241035908460617, ATE_hat: 0.06152690574526787, loss: 0.0039158412255346775, balance: 0.5059999823570251\n",
      "val_loss: 0.22507253289222717, ATE: 0.10780920833349228, ATE_hat: 0.11374548077583313, loss: 3.523932900861837e-05, balance: 0.5299999713897705\n",
      "val_loss: 0.2201957255601883, ATE: 0.09003335237503052, ATE_hat: 0.0697704330086708, loss: 0.00041058589704334736, balance: 0.4779999852180481\n",
      "val_loss: 0.2241225391626358, ATE: 0.2261943370103836, ATE_hat: 0.1317119002342224, loss: 0.008926930837333202, balance: 0.5180000066757202\n",
      "val_loss: 0.23131151497364044, ATE: 0.226424902677536, ATE_hat: 0.10910440981388092, loss: 0.013764098286628723, balance: 0.527999997138977\n",
      "val_loss: 0.22670531272888184, ATE: 0.28451788425445557, ATE_hat: 0.08030364662408829, loss: 0.04170345887541771, balance: 0.49799999594688416\n",
      "val_loss: 0.2206612527370453, ATE: 0.13172723352909088, ATE_hat: 0.10003526508808136, loss: 0.0010043808724731207, balance: 0.5080000162124634\n",
      "val_loss: 0.21840782463550568, ATE: 0.01767347753047943, ATE_hat: 0.09496379643678665, loss: 0.005973793566226959, balance: 0.5059999823570251\n",
      "val_loss: 0.21490612626075745, ATE: 0.2854979336261749, ATE_hat: 0.09955620020627975, loss: 0.03457432612776756, balance: 0.49399998784065247\n",
      "val_loss: 0.21204154193401337, ATE: -0.006469897925853729, ATE_hat: 0.09080222249031067, loss: 0.00946186576038599, balance: 0.5139999985694885\n",
      "val_loss: 0.21964344382286072, ATE: 0.09856341779232025, ATE_hat: 0.11391052603721619, loss: 0.0002355337346671149, balance: 0.5120000243186951\n",
      "val_loss: 0.21676811575889587, ATE: -0.008503442630171776, ATE_hat: 0.15074539184570312, loss: 0.025360189378261566, balance: 0.5040000081062317\n",
      "val_loss: 0.2020632028579712, ATE: 0.18832676112651825, ATE_hat: 0.1439509093761444, loss: 0.0019692161586135626, balance: 0.4959999918937683\n",
      "val_loss: 0.2132609784603119, ATE: 0.08137494325637817, ATE_hat: 0.0655447319149971, loss: 0.0002505955926608294, balance: 0.4860000014305115\n",
      "val_loss: 0.21224834024906158, ATE: 0.15238401293754578, ATE_hat: 0.10763750970363617, loss: 0.0020022494718432426, balance: 0.49799999594688416\n",
      "val_loss: 0.2103065550327301, ATE: 0.1440618932247162, ATE_hat: 0.08510763198137283, loss: 0.003475604811683297, balance: 0.5099999904632568\n",
      "val_loss: 0.20809254050254822, ATE: 0.17376449704170227, ATE_hat: 0.13307228684425354, loss: 0.0016558559145778418, balance: 0.4880000054836273\n",
      "val_loss: 0.2102033942937851, ATE: 0.07747837901115417, ATE_hat: 0.08172756433486938, loss: 1.805557621992193e-05, balance: 0.49799999594688416\n",
      "val_loss: 0.20637325942516327, ATE: 0.1703285425901413, ATE_hat: 0.08170311152935028, loss: 0.007854467257857323, balance: 0.49799999594688416\n",
      "val_loss: 0.2121845930814743, ATE: 0.23780301213264465, ATE_hat: 0.1005394235253334, loss: 0.018841294571757317, balance: 0.46399998664855957\n",
      "val_loss: 0.21431417763233185, ATE: 0.04747939109802246, ATE_hat: 0.09651027619838715, loss: 0.0024040276184678078, balance: 0.47200000286102295\n",
      "val_loss: 0.2130250334739685, ATE: 0.12665727734565735, ATE_hat: 0.07841799408197403, loss: 0.00232702842913568, balance: 0.4779999852180481\n",
      "val_loss: 0.22365346550941467, ATE: 0.028933487832546234, ATE_hat: 0.08226525783538818, loss: 0.0028442777693271637, balance: 0.5080000162124634\n",
      "val_loss: 0.2260294258594513, ATE: 0.07932770252227783, ATE_hat: 0.07912611216306686, loss: 4.0638674647652806e-08, balance: 0.492000013589859\n",
      "val_loss: 0.2144213616847992, ATE: 0.151365265250206, ATE_hat: 0.065716952085495, loss: 0.007335633505135775, balance: 0.48399999737739563\n",
      "val_loss: 0.2160274237394333, ATE: 0.10253825783729553, ATE_hat: 0.10452602058649063, loss: 3.9512005969299935e-06, balance: 0.5299999713897705\n",
      "val_loss: 0.2209485024213791, ATE: 0.06601035594940186, ATE_hat: 0.10251037031412125, loss: 0.0013322510058060288, balance: 0.5059999823570251\n",
      "val_loss: 0.22044171392917633, ATE: -0.07428513467311859, ATE_hat: 0.07858555763959885, loss: 0.023369446396827698, balance: 0.5239999890327454\n",
      "val_loss: 0.2183510661125183, ATE: -0.036007724702358246, ATE_hat: 0.08764415234327316, loss: 0.015289786271750927, balance: 0.5080000162124634\n",
      "val_loss: 0.22076725959777832, ATE: -0.05048798769712448, ATE_hat: 0.12199374288320541, loss: 0.029749946668744087, balance: 0.5260000228881836\n",
      "val_loss: 0.2125965803861618, ATE: 0.13076722621917725, ATE_hat: 0.08854725956916809, loss: 0.0017825255636125803, balance: 0.5519999861717224\n",
      "val_loss: 0.21554678678512573, ATE: 0.13480240106582642, ATE_hat: 0.12153937667608261, loss: 0.00017590781499166042, balance: 0.5019999742507935\n",
      "val_loss: 0.2183489352464676, ATE: 0.13043496012687683, ATE_hat: 0.12204552441835403, loss: 7.038262992864475e-05, balance: 0.4880000054836273\n",
      "val_loss: 0.21125340461730957, ATE: 0.1941332072019577, ATE_hat: 0.1104717031121254, loss: 0.006999247241765261, balance: 0.5019999742507935\n",
      "val_loss: 0.20684048533439636, ATE: 0.04008905962109566, ATE_hat: 0.08403953164815903, loss: 0.001931644044816494, balance: 0.5059999823570251\n",
      "val_loss: 0.20987045764923096, ATE: 0.11779040843248367, ATE_hat: 0.10678241401910782, loss: 0.00012117594451410696, balance: 0.5139999985694885\n",
      "val_loss: 0.210033118724823, ATE: 0.2419397234916687, ATE_hat: 0.11791952699422836, loss: 0.015381009317934513, balance: 0.49399998784065247\n",
      "val_loss: 0.21235699951648712, ATE: 0.08569511771202087, ATE_hat: 0.10119102150201797, loss: 0.00024012303038034588, balance: 0.5059999823570251\n",
      "val_loss: 0.2169029861688614, ATE: 0.005045287311077118, ATE_hat: 0.048763904720544815, loss: 0.0019113174639642239, balance: 0.47200000286102295\n",
      "val_loss: 0.21907807886600494, ATE: 0.1842246800661087, ATE_hat: 0.09114430099725723, loss: 0.008663957007229328, balance: 0.5199999809265137\n",
      "val_loss: 0.21633556485176086, ATE: -0.10273858904838562, ATE_hat: 0.11143112927675247, loss: 0.04586866497993469, balance: 0.5239999890327454\n",
      "val_loss: 0.22160810232162476, ATE: -0.11364467442035675, ATE_hat: 0.12435922771692276, loss: 0.05664586275815964, balance: 0.49799999594688416\n",
      "val_loss: 0.2237958163022995, ATE: 0.19787783920764923, ATE_hat: 0.10742190480232239, loss: 0.008182276040315628, balance: 0.48399999737739563\n",
      "val_loss: 0.2231651246547699, ATE: 0.13256290555000305, ATE_hat: 0.05461454391479492, loss: 0.00607594707980752, balance: 0.5139999985694885\n",
      "val_loss: 0.2171458601951599, ATE: 0.16218096017837524, ATE_hat: 0.09884413331747055, loss: 0.0040115537121891975, balance: 0.5040000081062317\n",
      "val_loss: 0.21208542585372925, ATE: -0.041242316365242004, ATE_hat: 0.07408005744218826, loss: 0.013299250043928623, balance: 0.5040000081062317\n",
      "val_loss: 0.2125355452299118, ATE: 0.2556009590625763, ATE_hat: 0.14504002034664154, loss: 0.012223721481859684, balance: 0.5019999742507935\n",
      "val_loss: 0.21897433698177338, ATE: 0.1321341097354889, ATE_hat: 0.0848768875002861, loss: 0.0022332449443638325, balance: 0.4819999933242798\n",
      "val_loss: 0.22169402241706848, ATE: 0.033973950892686844, ATE_hat: 0.10755578428506851, loss: 0.005414285697042942, balance: 0.492000013589859\n",
      "val_loss: 0.22716772556304932, ATE: -0.022366711869835854, ATE_hat: 0.07622949779033661, loss: 0.009721212089061737, balance: 0.49799999594688416\n",
      "val_loss: 0.23771758377552032, ATE: 0.1295495331287384, ATE_hat: 0.11942989379167557, loss: 0.00010240710253128782, balance: 0.5220000147819519\n",
      "val_loss: 0.24842363595962524, ATE: 0.04564306139945984, ATE_hat: 0.10983389616012573, loss: 0.004120463039726019, balance: 0.5199999809265137\n",
      "val_loss: 0.24402442574501038, ATE: 0.15746143460273743, ATE_hat: 0.04882904142141342, loss: 0.011800996959209442, balance: 0.49799999594688416\n",
      "val_loss: 0.2389688789844513, ATE: -0.02837199717760086, ATE_hat: 0.1099005714058876, loss: 0.019119303673505783, balance: 0.5019999742507935\n",
      "val_loss: 0.22720256447792053, ATE: 0.06418424844741821, ATE_hat: 0.1017768383026123, loss: 0.0014132028445601463, balance: 0.46000000834465027\n",
      "val_loss: 0.23607532680034637, ATE: -0.06226029619574547, ATE_hat: 0.11003044247627258, loss: 0.029684100300073624, balance: 0.5139999985694885\n",
      "val_loss: 0.23467285931110382, ATE: 0.051816005259752274, ATE_hat: 0.1170022264122963, loss: 0.004249243065714836, balance: 0.4959999918937683\n",
      "val_loss: 0.22259621322155, ATE: -0.020530598238110542, ATE_hat: 0.12003306299448013, loss: 0.01975814439356327, balance: 0.5\n",
      "val_loss: 0.20908179879188538, ATE: 0.014738943427801132, ATE_hat: 0.09504596143960953, loss: 0.0064492179080843925, balance: 0.5139999985694885\n",
      "val_loss: 0.20671845972537994, ATE: 0.3682759404182434, ATE_hat: 0.12944558262825012, loss: 0.05703993886709213, balance: 0.49799999594688416\n",
      "val_loss: 0.2184956967830658, ATE: 0.17325831949710846, ATE_hat: 0.07966823130846024, loss: 0.008759104646742344, balance: 0.5199999809265137\n",
      "val_loss: 0.21500633656978607, ATE: 0.08024966716766357, ATE_hat: 0.06822402775287628, loss: 0.00014461600221693516, balance: 0.46799999475479126\n",
      "val_loss: 0.21279104053974152, ATE: 0.01659303531050682, ATE_hat: 0.09593930095434189, loss: 0.006295830477029085, balance: 0.5\n",
      "val_loss: 0.22596654295921326, ATE: 0.21262900531291962, ATE_hat: 0.10027442127466202, loss: 0.012623552232980728, balance: 0.5180000066757202\n",
      "val_loss: 0.22219203412532806, ATE: 0.346611350774765, ATE_hat: 0.1100132018327713, loss: 0.0559786856174469, balance: 0.4819999933242798\n"
     ]
    }
   ],
   "source": [
    "cnn1.train(data_loader, epochs=500, validation_data = {\"X\":torch.tensor(X_val).float(), \n",
    "                                              \"tau\":torch.Tensor(tau_val).float()})"
   ]
  },
  {
   "cell_type": "code",
   "execution_count": 34,
   "metadata": {},
   "outputs": [
    {
     "data": {
      "image/png": "[encoded data removed]",
      "text/plain": [
       "<Figure size 432x288 with 1 Axes>"
      ]
     },
     "metadata": {
      "needs_background": "light"
     },
     "output_type": "display_data"
    }
   ],
   "source": [
    "import matplotlib.pyplot as plt\n",
    "plt.plot(cnn1.val_loss)\n",
    "plt.show()"
   ]
  },
  {
   "cell_type": "markdown",
   "metadata": {},
   "source": [
    "For neural networks without hidden layer, we can compare the coefficients to the known true coefficients."
   ]
  },
  {
   "cell_type": "markdown",
   "metadata": {},
   "source": [
    "The ATE is usually approximately correct."
   ]
  },
  {
   "cell_type": "code",
   "execution_count": 35,
   "metadata": {},
   "outputs": [
    {
     "data": {
      "text/plain": [
       "0.09411293459307159"
      ]
     },
     "execution_count": 35,
     "metadata": {},
     "output_type": "execute_result"
    }
   ],
   "source": [
    "tau_zero"
   ]
  },
  {
   "cell_type": "code",
   "execution_count": 36,
   "metadata": {},
   "outputs": [
    {
     "data": {
      "text/plain": [
       "array([0.10018461], dtype=float32)"
      ]
     },
     "execution_count": 36,
     "metadata": {},
     "output_type": "execute_result"
    }
   ],
   "source": [
    "list(cnn1.net.parameters())[1].detach().numpy()"
   ]
  },
  {
   "cell_type": "markdown",
   "metadata": {},
   "source": [
    "The estimated coefficients often don't capture the direction and even approximate size of the effect. "
   ]
  },
  {
   "cell_type": "code",
   "execution_count": 37,
   "metadata": {},
   "outputs": [
    {
     "data": {
      "text/plain": [
       "array([-0.08173336, -0.00767462,  0.15096847, -0.04893395,  0.05214676,\n",
       "       -0.0743373 ,  0.03134283,  0.1351257 ,  0.05759978,  0.01096419])"
      ]
     },
     "execution_count": 37,
     "metadata": {},
     "output_type": "execute_result"
    }
   ],
   "source": [
    "coef_tau"
   ]
  },
  {
   "cell_type": "code",
   "execution_count": 38,
   "metadata": {},
   "outputs": [
    {
     "data": {
      "text/plain": [
       "array([[-0.11508088,  0.04631274,  0.12648039, -0.05654662, -0.10168391,\n",
       "        -0.09671642, -0.05416583,  0.30652708,  0.02144231,  0.0491849 ]],\n",
       "      dtype=float32)"
      ]
     },
     "execution_count": 38,
     "metadata": {},
     "output_type": "execute_result"
    }
   ],
   "source": [
    "list(cnn1.net.parameters())[0].detach().numpy()"
   ]
  },
  {
   "cell_type": "markdown",
   "metadata": {},
   "source": [
    "The predicted treatment effects are usually not a accurate estimate of the true individual treatment effects, but correlation is at least positive."
   ]
  },
  {
   "cell_type": "code",
   "execution_count": 39,
   "metadata": {},
   "outputs": [],
   "source": [
    "pred[\"batch_cnn\"] = cnn1(torch.tensor(X).float()).detach().numpy()\n",
    "pred_val[\"batch_cnn\"] = cnn1(torch.tensor(X_val).float()).detach().numpy()"
   ]
  },
  {
   "cell_type": "code",
   "execution_count": 40,
   "metadata": {},
   "outputs": [
    {
     "name": "stdout",
     "output_type": "stream",
     "text": [
      "0.09486855450072199 0.250360180849418\n",
      "0.105313644 0.39190292\n",
      "[[1.        0.7530148]\n",
      " [0.7530148 1.       ]]\n"
     ]
    }
   ],
   "source": [
    "print(tau.mean(), tau.std())\n",
    "print(pred[\"batch_cnn\"].mean(), pred[\"batch_cnn\"].std())\n",
    "print(np.corrcoef(tau,pred[\"batch_cnn\"].flatten(), rowvar=False))"
   ]
  },
  {
   "cell_type": "code",
   "execution_count": 41,
   "metadata": {},
   "outputs": [
    {
     "data": {
      "text/plain": [
       "array([ 0.2562356 , -0.24650693,  0.74793977, -0.22169632, -0.16941863,\n",
       "        0.77258676,  0.02895986,  0.48395312,  0.22675309, -0.01503185],\n",
       "      dtype=float32)"
      ]
     },
     "execution_count": 41,
     "metadata": {},
     "output_type": "execute_result"
    }
   ],
   "source": [
    "pred[\"batch_cnn\"].flatten()[:10]"
   ]
  },
  {
   "cell_type": "code",
   "execution_count": 42,
   "metadata": {},
   "outputs": [
    {
     "data": {
      "text/plain": [
       "array([ 0.2656435 , -0.11723263,  0.54295427, -0.07050373,  0.19862628,\n",
       "        0.07266931,  0.04376968,  0.52843209,  0.06204483,  0.00722839])"
      ]
     },
     "execution_count": 42,
     "metadata": {},
     "output_type": "execute_result"
    }
   ],
   "source": [
    "tau[:10]"
   ]
  },
  {
   "cell_type": "markdown",
   "metadata": {},
   "source": [
    "## Addditive two-model approach / residual network"
   ]
  },
  {
   "cell_type": "markdown",
   "metadata": {},
   "source": [
    "### Model\n",
    "The causal batch network has the problem that the ATE within each batch depends on the treatment effect that we want to learn *and* the response rate in the control group, which may vary widely and introduce a lot of noise. \n",
    "We could correct for the response rate in the control group to avoid this source of error.\n",
    "\n",
    "Now we estimate two networks jointly. Decompose the response estimate for treated observations into the response without treatment and the treatment effect. \n",
    "\n",
    "$$ \\hat{y}_t = f_R(X_t) + f_T(X_t) \\\\\n",
    "   \\hat{y}_t = f_R(X_c)$$\n",
    "\n",
    "One network $f_R$ predicts the response without treatment for each customer (treatment and control), the second network $f_T$ estimates the treatment effect. The loss for the first network is the response prediction MSE over all observations $$\\frac{1}{N}\\sum([\\hat{y_t};\\hat{y_c}] - [y_t;y_c])^2$$ the loss for the second network is the response prediction MSE for *only the treated group*, i.e. $$\\frac{1}{N_T}\\sum(\\hat{y_t} - y_t)^2$$\n",
    "\n",
    "This is closely related to the two-model approach and essentially half of the X-Learner. In comparison to the two-model approach, it avoids training the second model as a potentially complex response model, instead training it as a model of the (treatment effect + residual). "
   ]
  },
  {
   "cell_type": "markdown",
   "metadata": {},
   "source": [
    "TODO: I strongly suspect that the model is biased when the residual from the response model is not random, e.g. due to model misspecification."
   ]
  },
  {
   "cell_type": "markdown",
   "metadata": {},
   "source": [
    "TODO: This seems related to an approach called *covariate transformation* in the uplift literature. For covariate transformation, we estimate the outcome $y_i$ on a set of variables $[X_i, t_i \\cdot X_i]$, where $t_i \\cdot X_i$ is the interaction between the treatment indicator $t_i \\in {0;1}$ and observed variables $X$. \n",
    "\n",
    "TODO: For the linear regression model, this is equivalent to including each variable-treatment interaction term (?)\n",
    "\n",
    "TODO: I'm pretty sure that this works only when the response network $f_R$ is good. Check this. "
   ]
  },
  {
   "cell_type": "code",
   "execution_count": 43,
   "metadata": {},
   "outputs": [],
   "source": [
    "class causalnet2(nn.Module):\n",
    "    def __init__(self, input_dim, hidden_layer_sizes):\n",
    "        super().__init__()\n",
    "        self.net0 = nnet(input_dim, hidden_layer_sizes)\n",
    "        self.net1 = nnet(input_dim, hidden_layer_sizes)\n",
    "        self.loss = []\n",
    "        self.val_loss = []\n",
    "        \n",
    "    def forward(self, X):\n",
    "        return self.net1(X)\n",
    "    \n",
    "    def train(self, data_loader, epochs, validation_data=None):\n",
    "        for epoch in range(epochs):\n",
    "            ATE, ATE_hat, loss, g_ratio = self._train_iteration(data_loader)\n",
    "            self.loss.append(loss)\n",
    "            if epoch % 5 == 0:\n",
    "                if validation_data is not None:\n",
    "                    tau_hat = self.net1(validation_data['X'])\n",
    "                    val_loss = (validation_data['tau'] - tau_hat).pow(2).mean().detach().numpy()\n",
    "                    self.val_loss.append(val_loss)\n",
    "                    print(f\"val_loss: {val_loss}, ATE: {ATE}, ATE_hat: {ATE_hat}, loss: {loss}, balance: {g_ratio}\")\n",
    "                else:\n",
    "                    print(f\"ATE: {ATE}, ATE_hat: {ATE_hat}, loss: {loss}, balance: {g_ratio}\")\n",
    "            \n",
    "    \n",
    "    def _train_iteration(self,data_loader):\n",
    "        for i, (X,y,g) in enumerate(data_loader):\n",
    "            \n",
    "            X = X.float()\n",
    "            y = y.unsqueeze(1).float()\n",
    "            \n",
    "            X0 = Variable(X[g==0,:])\n",
    "            y0 = Variable(y[g==0])\n",
    "            \n",
    "            X1 = Variable(X[g==1,:])\n",
    "            y1 = Variable(y[g==1])\n",
    "            \n",
    "            g_ratio = g.float().mean()\n",
    "            \n",
    "            response0 = self.net0(X0)\n",
    "            loss0 = ((y0 - response0).pow(2)).mean()\n",
    "            \n",
    "            response1 = self.net0(X1) + self.net1(X1)\n",
    "            loss1 = ((y1 - response1).pow(2)).mean()\n",
    "            \n",
    "            loss = loss0 + loss1\n",
    "            \n",
    "            ATE_hat = response1.mean() - response0.mean()\n",
    "            ATE     = y1.mean() - y0.mean()\n",
    "            loss_treatment = (ATE - ATE_hat).pow(2)            \n",
    "            \n",
    "#             self.net0.zero_grad()\n",
    "#             self.net1.zero_grad()\n",
    "#             loss_treatment.backward()\n",
    "#             optim0.step()\n",
    "#             optim1.step()\n",
    "\n",
    "            self.net0.zero_grad()\n",
    "            loss0.backward()\n",
    "            optim0.step()\n",
    "\n",
    "            self.net1.zero_grad()\n",
    "            loss1.backward()\n",
    "            optim1.step()\n",
    "                \n",
    "            \n",
    "        return ATE.detach().numpy(), ATE_hat.detach().numpy(), loss.detach().numpy(), g_ratio\n",
    "            "
   ]
  },
  {
   "cell_type": "markdown",
   "metadata": {},
   "source": [
    "### Simulation"
   ]
  },
  {
   "cell_type": "code",
   "execution_count": 44,
   "metadata": {},
   "outputs": [],
   "source": [
    "data_loader = DataLoader(data, batch_size=128, shuffle=True)"
   ]
  },
  {
   "cell_type": "markdown",
   "metadata": {},
   "source": [
    "We can train a FFNN without hidden layers as equivalent to a linear regression model. Note that the true model for y is non-linear, while the true model for the treatment effect is linear."
   ]
  },
  {
   "cell_type": "code",
   "execution_count": 45,
   "metadata": {},
   "outputs": [],
   "source": [
    "cnn2 = causalnet2(10, [])"
   ]
  },
  {
   "cell_type": "code",
   "execution_count": 46,
   "metadata": {},
   "outputs": [],
   "source": [
    "optim0 = Adam(cnn2.net0.parameters(), lr=0.001)\n",
    "optim1 = Adam(cnn2.net1.parameters(), lr=0.001)"
   ]
  },
  {
   "cell_type": "code",
   "execution_count": 47,
   "metadata": {},
   "outputs": [
    {
     "name": "stdout",
     "output_type": "stream",
     "text": [
      "val_loss: 0.3991280794143677, ATE: 0.46671003103256226, ATE_hat: 0.11446167528629303, loss: 2.7816028594970703, balance: 0.5526315569877625\n",
      "val_loss: 0.11343561112880707, ATE: 0.44053736329078674, ATE_hat: 0.22077804803848267, loss: 2.060312271118164, balance: 0.46052631735801697\n",
      "val_loss: 0.11140123009681702, ATE: 0.33996108174324036, ATE_hat: 0.12849116325378418, loss: 1.3687046766281128, balance: 0.5263158082962036\n",
      "val_loss: 0.11925829201936722, ATE: -0.18159981071949005, ATE_hat: 0.08696016669273376, loss: 1.969120979309082, balance: 0.5657894611358643\n",
      "val_loss: 0.12332894653081894, ATE: -0.1554255485534668, ATE_hat: 0.13880953192710876, loss: 2.2637686729431152, balance: 0.5\n",
      "val_loss: 0.12392125278711319, ATE: -0.14654329419136047, ATE_hat: 0.08278115838766098, loss: 2.4061636924743652, balance: 0.43421053886413574\n",
      "val_loss: 0.12358696013689041, ATE: 0.22800379991531372, ATE_hat: 0.1697414368391037, loss: 2.216827630996704, balance: 0.40789473056793213\n",
      "val_loss: 0.12232986092567444, ATE: 0.00317558366805315, ATE_hat: 0.07569321990013123, loss: 2.244168758392334, balance: 0.4868420958518982\n",
      "val_loss: 0.12355869263410568, ATE: -0.02241450548171997, ATE_hat: 0.13426080346107483, loss: 1.6198564767837524, balance: 0.4736842215061188\n",
      "val_loss: 0.12412726879119873, ATE: -0.04597983509302139, ATE_hat: 0.0008965693414211273, loss: 2.2200160026550293, balance: 0.3684210479259491\n",
      "val_loss: 0.12258072942495346, ATE: -0.1376882791519165, ATE_hat: 0.027398008853197098, loss: 2.2324368953704834, balance: 0.5657894611358643\n",
      "val_loss: 0.12641048431396484, ATE: 0.29609420895576477, ATE_hat: 0.09842261672019958, loss: 2.1660680770874023, balance: 0.5526315569877625\n",
      "val_loss: 0.12587454915046692, ATE: -0.32601460814476013, ATE_hat: 0.00835692323744297, loss: 3.4041285514831543, balance: 0.46052631735801697\n",
      "val_loss: 0.1260494440793991, ATE: 0.5850200057029724, ATE_hat: 0.1116449236869812, loss: 2.2171220779418945, balance: 0.42105263471603394\n",
      "val_loss: 0.12438418716192245, ATE: 0.43185582756996155, ATE_hat: 0.08084870874881744, loss: 2.303028106689453, balance: 0.4868420958518982\n",
      "val_loss: 0.12412510812282562, ATE: -0.06917474418878555, ATE_hat: 0.08974802494049072, loss: 2.1005630493164062, balance: 0.3947368562221527\n",
      "val_loss: 0.12430813163518906, ATE: 0.12339765578508377, ATE_hat: 0.05959124118089676, loss: 2.734585762023926, balance: 0.5394737124443054\n",
      "val_loss: 0.12135898321866989, ATE: 0.22675937414169312, ATE_hat: 0.08984051644802094, loss: 2.507882595062256, balance: 0.43421053886413574\n",
      "val_loss: 0.12355536967515945, ATE: 0.07806816697120667, ATE_hat: 0.2624127268791199, loss: 2.2518601417541504, balance: 0.5526315569877625\n",
      "val_loss: 0.12210334092378616, ATE: -0.2616404592990875, ATE_hat: 0.09174483269453049, loss: 1.9499032497406006, balance: 0.5657894611358643\n",
      "val_loss: 0.1247115284204483, ATE: 0.33869287371635437, ATE_hat: 0.04927026480436325, loss: 2.99530029296875, balance: 0.5789473652839661\n",
      "val_loss: 0.12557542324066162, ATE: 0.1974838674068451, ATE_hat: 0.10408169031143188, loss: 2.2185091972351074, balance: 0.4736842215061188\n",
      "val_loss: 0.12359636276960373, ATE: -0.16338270902633667, ATE_hat: -0.054338667541742325, loss: 2.3642773628234863, balance: 0.5526315569877625\n",
      "val_loss: 0.1238815113902092, ATE: -0.09810464084148407, ATE_hat: 0.14609533548355103, loss: 3.2785017490386963, balance: 0.3947368562221527\n",
      "val_loss: 0.1245739683508873, ATE: 0.2969490885734558, ATE_hat: 0.14237213134765625, loss: 2.667553424835205, balance: 0.46052631735801697\n",
      "val_loss: 0.12244351208209991, ATE: 0.4446460008621216, ATE_hat: 0.019686467945575714, loss: 2.119230270385742, balance: 0.5\n",
      "val_loss: 0.12415116280317307, ATE: 0.15158504247665405, ATE_hat: 0.14179727435112, loss: 2.3350396156311035, balance: 0.5394737124443054\n",
      "val_loss: 0.12301632016897202, ATE: -0.21913422644138336, ATE_hat: 0.04110849276185036, loss: 1.887786626815796, balance: 0.46052631735801697\n",
      "val_loss: 0.12361133843660355, ATE: -0.1680983304977417, ATE_hat: 0.05731188505887985, loss: 2.1584105491638184, balance: 0.46052631735801697\n",
      "val_loss: 0.12541550397872925, ATE: 0.31575334072113037, ATE_hat: 0.08093499392271042, loss: 2.208951234817505, balance: 0.46052631735801697\n",
      "val_loss: 0.12580926716327667, ATE: -0.02209993451833725, ATE_hat: 0.1481504887342453, loss: 2.236135482788086, balance: 0.46052631735801697\n",
      "val_loss: 0.1253879815340042, ATE: 0.14970412850379944, ATE_hat: 0.10301540791988373, loss: 1.6790814399719238, balance: 0.4868420958518982\n",
      "val_loss: 0.1244259923696518, ATE: 0.25534456968307495, ATE_hat: 0.13918577134609222, loss: 2.6052403450012207, balance: 0.5\n",
      "val_loss: 0.12270685285329819, ATE: 0.1878826916217804, ATE_hat: 0.14192605018615723, loss: 2.2190756797790527, balance: 0.44736841320991516\n",
      "val_loss: 0.12341459095478058, ATE: 0.32208025455474854, ATE_hat: 0.011393183842301369, loss: 2.020857095718384, balance: 0.5657894611358643\n",
      "val_loss: 0.12448664754629135, ATE: 0.43593406677246094, ATE_hat: 0.07801748067140579, loss: 2.85823917388916, balance: 0.40789473056793213\n",
      "val_loss: 0.12413027137517929, ATE: 0.4448551535606384, ATE_hat: 0.21329018473625183, loss: 1.9724056720733643, balance: 0.5\n",
      "val_loss: 0.1219826191663742, ATE: 0.13784120976924896, ATE_hat: 0.12157776951789856, loss: 2.401944637298584, balance: 0.5\n",
      "val_loss: 0.1228485181927681, ATE: -0.16840025782585144, ATE_hat: -0.004385754466056824, loss: 1.962217092514038, balance: 0.4736842215061188\n",
      "val_loss: 0.1255052536725998, ATE: 0.10347962379455566, ATE_hat: 0.08591766655445099, loss: 2.3344500064849854, balance: 0.5921052694320679\n",
      "val_loss: 0.12511922419071198, ATE: -0.27506768703460693, ATE_hat: 0.15383784472942352, loss: 2.0014092922210693, balance: 0.5\n",
      "val_loss: 0.1254965215921402, ATE: -0.0037358105182647705, ATE_hat: 0.08167971670627594, loss: 2.462808132171631, balance: 0.4736842215061188\n",
      "val_loss: 0.12481202930212021, ATE: 0.04297018423676491, ATE_hat: 0.2162809818983078, loss: 2.219970941543579, balance: 0.5\n",
      "val_loss: 0.12397201359272003, ATE: 0.35624030232429504, ATE_hat: 0.020390581339597702, loss: 2.2744123935699463, balance: 0.5657894611358643\n",
      "val_loss: 0.12492529302835464, ATE: 0.18161195516586304, ATE_hat: 0.13114479184150696, loss: 2.0463216304779053, balance: 0.44736841320991516\n",
      "val_loss: 0.1243240237236023, ATE: -0.08035409450531006, ATE_hat: 0.056291282176971436, loss: 1.8253154754638672, balance: 0.5263158082962036\n",
      "val_loss: 0.12396679073572159, ATE: 0.05004686117172241, ATE_hat: 0.08502787351608276, loss: 2.0016932487487793, balance: 0.4868420958518982\n",
      "val_loss: 0.123008131980896, ATE: -0.0257909893989563, ATE_hat: 0.18793562054634094, loss: 3.0113165378570557, balance: 0.5263158082962036\n",
      "val_loss: 0.12594899535179138, ATE: 0.31029239296913147, ATE_hat: 0.22604461014270782, loss: 1.9601213932037354, balance: 0.4736842215061188\n",
      "val_loss: 0.12521390616893768, ATE: -0.22999903559684753, ATE_hat: 0.09652145206928253, loss: 2.3352668285369873, balance: 0.5526315569877625\n",
      "val_loss: 0.1250138282775879, ATE: 0.10045240819454193, ATE_hat: 0.08151369541883469, loss: 2.2470903396606445, balance: 0.4868420958518982\n",
      "val_loss: 0.12412258237600327, ATE: 0.09004265815019608, ATE_hat: 0.10193362832069397, loss: 2.4132609367370605, balance: 0.5263158082962036\n",
      "val_loss: 0.1223084107041359, ATE: 0.46154284477233887, ATE_hat: 0.21519038081169128, loss: 2.676403522491455, balance: 0.5\n",
      "val_loss: 0.12481287121772766, ATE: 0.2611401081085205, ATE_hat: 0.1232265830039978, loss: 2.6696085929870605, balance: 0.6184210777282715\n",
      "val_loss: 0.12443143129348755, ATE: -0.05714591220021248, ATE_hat: 0.09189698100090027, loss: 2.1343281269073486, balance: 0.5921052694320679\n",
      "val_loss: 0.12256784737110138, ATE: 0.005597434937953949, ATE_hat: 0.08654552698135376, loss: 2.0931882858276367, balance: 0.5789473652839661\n",
      "val_loss: 0.12464161217212677, ATE: 0.1621224731206894, ATE_hat: 0.06658416241407394, loss: 1.8687937259674072, balance: 0.5526315569877625\n",
      "val_loss: 0.12579821050167084, ATE: -0.24237051606178284, ATE_hat: 0.16587591171264648, loss: 2.491054058074951, balance: 0.5263158082962036\n",
      "val_loss: 0.12405411154031754, ATE: -0.02073809504508972, ATE_hat: -0.02742788940668106, loss: 2.1439528465270996, balance: 0.5921052694320679\n",
      "val_loss: 0.124518983066082, ATE: -0.38869738578796387, ATE_hat: 0.11522028595209122, loss: 2.340763568878174, balance: 0.5526315569877625\n"
     ]
    }
   ],
   "source": [
    "cnn2.train(data_loader, epochs=300, validation_data = {\"X\":torch.tensor(X_val).float(), \n",
    "                                              \"tau\":torch.Tensor(tau_val).float()})"
   ]
  },
  {
   "cell_type": "code",
   "execution_count": 48,
   "metadata": {},
   "outputs": [
    {
     "data": {
      "image/png": "[encoded data removed]",
      "text/plain": [
       "<Figure size 432x288 with 1 Axes>"
      ]
     },
     "metadata": {
      "needs_background": "light"
     },
     "output_type": "display_data"
    }
   ],
   "source": [
    "import matplotlib.pyplot as plt\n",
    "plt.plot(cnn2.val_loss)\n",
    "plt.show()"
   ]
  },
  {
   "cell_type": "markdown",
   "metadata": {},
   "source": [
    "For neural networks without hidden layer, we can compare the coefficients to the known true coefficients."
   ]
  },
  {
   "cell_type": "code",
   "execution_count": 49,
   "metadata": {},
   "outputs": [
    {
     "data": {
      "text/plain": [
       "0.09411293459307159"
      ]
     },
     "execution_count": 49,
     "metadata": {},
     "output_type": "execute_result"
    }
   ],
   "source": [
    "tau_zero"
   ]
  },
  {
   "cell_type": "code",
   "execution_count": 50,
   "metadata": {},
   "outputs": [
    {
     "data": {
      "text/plain": [
       "array([0.11172456], dtype=float32)"
      ]
     },
     "execution_count": 50,
     "metadata": {},
     "output_type": "execute_result"
    }
   ],
   "source": [
    "list(cnn2.net1.parameters())[1].detach().numpy()"
   ]
  },
  {
   "cell_type": "markdown",
   "metadata": {},
   "source": [
    "The estimated coefficients usually capture the direction and even approximate size of the effect."
   ]
  },
  {
   "cell_type": "code",
   "execution_count": 51,
   "metadata": {},
   "outputs": [
    {
     "data": {
      "text/plain": [
       "array([-0.08173336, -0.00767462,  0.15096847, -0.04893395,  0.05214676,\n",
       "       -0.0743373 ,  0.03134283,  0.1351257 ,  0.05759978,  0.01096419])"
      ]
     },
     "execution_count": 51,
     "metadata": {},
     "output_type": "execute_result"
    }
   ],
   "source": [
    "coef_tau"
   ]
  },
  {
   "cell_type": "code",
   "execution_count": 52,
   "metadata": {},
   "outputs": [
    {
     "data": {
      "text/plain": [
       "array([[-0.11695795, -0.02606983,  0.15053567, -0.06745356,  0.02863828,\n",
       "        -0.05922554, -0.00232895,  0.11404838,  0.06853612,  0.03486164]],\n",
       "      dtype=float32)"
      ]
     },
     "execution_count": 52,
     "metadata": {},
     "output_type": "execute_result"
    }
   ],
   "source": [
    "list(cnn2.net1.parameters())[0].detach().numpy()"
   ]
  },
  {
   "cell_type": "markdown",
   "metadata": {},
   "source": [
    "The predicted treatment effects are often an accurate estimate of the true individual treatment effects and correlation is often high."
   ]
  },
  {
   "cell_type": "code",
   "execution_count": 53,
   "metadata": {},
   "outputs": [],
   "source": [
    "pred[\"res_cnn\"] = cnn2.net1(torch.tensor(X).float()).detach().numpy()\n",
    "pred_val[\"res_cnn\"] = cnn2.net1(torch.tensor(X_val).float()).detach().numpy()"
   ]
  },
  {
   "cell_type": "code",
   "execution_count": 54,
   "metadata": {},
   "outputs": [
    {
     "name": "stdout",
     "output_type": "stream",
     "text": [
      "0.09486855450072199 0.250360180849418\n",
      "0.11168171 0.2539726\n",
      "[[1.         0.96105483]\n",
      " [0.96105483 1.        ]]\n"
     ]
    }
   ],
   "source": [
    "print(tau.mean(), tau.std())\n",
    "print(pred[\"res_cnn\"].mean(), pred[\"res_cnn\"].std())\n",
    "print(np.corrcoef(tau,pred[\"res_cnn\"].flatten(), rowvar=False))"
   ]
  },
  {
   "cell_type": "code",
   "execution_count": 55,
   "metadata": {},
   "outputs": [
    {
     "data": {
      "text/plain": [
       "array([ 0.30317152, -0.08338317,  0.42523596,  0.05241252,  0.28322586,\n",
       "        0.08686287, -0.00966555,  0.5558658 ,  0.18801096, -0.01439881],\n",
       "      dtype=float32)"
      ]
     },
     "execution_count": 55,
     "metadata": {},
     "output_type": "execute_result"
    }
   ],
   "source": [
    "pred[\"res_cnn\"].flatten()[:10]"
   ]
  },
  {
   "cell_type": "code",
   "execution_count": 56,
   "metadata": {},
   "outputs": [
    {
     "data": {
      "text/plain": [
       "array([ 0.2656435 , -0.11723263,  0.54295427, -0.07050373,  0.19862628,\n",
       "        0.07266931,  0.04376968,  0.52843209,  0.06204483,  0.00722839])"
      ]
     },
     "execution_count": 56,
     "metadata": {},
     "output_type": "execute_result"
    }
   ],
   "source": [
    "tau[:10]"
   ]
  },
  {
   "cell_type": "markdown",
   "metadata": {},
   "source": [
    "## Summary"
   ]
  },
  {
   "cell_type": "code",
   "execution_count": 72,
   "metadata": {},
   "outputs": [
    {
     "data": {
      "text/plain": [
       "0.09411293459307159"
      ]
     },
     "execution_count": 72,
     "metadata": {},
     "output_type": "execute_result"
    }
   ],
   "source": [
    "tau_zero"
   ]
  },
  {
   "cell_type": "code",
   "execution_count": 73,
   "metadata": {},
   "outputs": [
    {
     "data": {
      "text/plain": [
       "0.09931810205378655"
      ]
     },
     "execution_count": 73,
     "metadata": {},
     "output_type": "execute_result"
    }
   ],
   "source": [
    "y[g==1].mean() - y[g==0].mean()"
   ]
  },
  {
   "cell_type": "code",
   "execution_count": 74,
   "metadata": {},
   "outputs": [
    {
     "data": {
      "text/plain": [
       "{'ATE': 0.09931810205378656,\n",
       " 'tnet': 0.114730455,\n",
       " 'batch_cnn': 0.105313644,\n",
       " 'res_cnn': 0.11168171}"
      ]
     },
     "execution_count": 74,
     "metadata": {},
     "output_type": "execute_result"
    }
   ],
   "source": [
    "{key:x.mean() for key,x in pred.items()}"
   ]
  },
  {
   "cell_type": "markdown",
   "metadata": {},
   "source": [
    "Absolute error against true (unknown) treatment effects (Lower is better)"
   ]
  },
  {
   "cell_type": "code",
   "execution_count": 77,
   "metadata": {},
   "outputs": [
    {
     "data": {
      "text/plain": [
       "{'ATE': 0.2000441236979077,\n",
       " 'tnet': 0.28332006245459646,\n",
       " 'batch_cnn': 0.3704972890734453,\n",
       " 'res_cnn': 0.2848653177816456}"
      ]
     },
     "execution_count": 77,
     "metadata": {},
     "output_type": "execute_result"
    }
   ],
   "source": [
    "{key:np.sqrt((a-tau)**2).mean() for key,a in pred.items()}"
   ]
  },
  {
   "cell_type": "code",
   "execution_count": 78,
   "metadata": {},
   "outputs": [
    {
     "data": {
      "text/plain": [
       "{'ATE': 0.1989047575074747,\n",
       " 'tnet': 0.2816563498280893,\n",
       " 'batch_cnn': 0.3755432037232715,\n",
       " 'res_cnn': 0.282985129947308}"
      ]
     },
     "execution_count": 78,
     "metadata": {},
     "output_type": "execute_result"
    }
   ],
   "source": [
    "{key:np.sqrt((a-tau_val)**2).mean() for key,a in pred_val.items()}"
   ]
  },
  {
   "cell_type": "code",
   "execution_count": 79,
   "metadata": {},
   "outputs": [
    {
     "data": {
      "image/png": "[encoded data removed]",
      "text/plain": [
       "<Figure size 432x288 with 1 Axes>"
      ]
     },
     "metadata": {
      "needs_background": "light"
     },
     "output_type": "display_data"
    },
    {
     "data": {
      "image/png": "[encoded data removed]",
      "text/plain": [
       "<Figure size 432x288 with 1 Axes>"
      ]
     },
     "metadata": {
      "needs_background": "light"
     },
     "output_type": "display_data"
    },
    {
     "data": {
      "image/png": "[encoded data removed]",
      "text/plain": [
       "<Figure size 432x288 with 1 Axes>"
      ]
     },
     "metadata": {
      "needs_background": "light"
     },
     "output_type": "display_data"
    },
    {
     "data": {
      "image/png": "[encoded data removed]",
      "text/plain": [
       "<Figure size 432x288 with 1 Axes>"
      ]
     },
     "metadata": {
      "needs_background": "light"
     },
     "output_type": "display_data"
    }
   ],
   "source": [
    "for key,a in pred_val.items():\n",
    "    plt.scatter(a,tau_val)\n",
    "    plt.title(key)\n",
    "    plt.show()"
   ]
  },
  {
   "cell_type": "markdown",
   "metadata": {},
   "source": [
    "Ranking metrics for continuous variables ([-1;1], higher is better)"
   ]
  },
  {
   "cell_type": "code",
   "execution_count": null,
   "metadata": {},
   "outputs": [],
   "source": [
    "# Weighted number of rank mistakes\n",
    "from scipy.stats import spearmanr, kendalltau\n",
    "{key:kendalltau(tau_val, x, nan_policy='propagate')[0] for key,x in pred_val.items()}"
   ]
  },
  {
   "cell_type": "code",
   "execution_count": null,
   "metadata": {},
   "outputs": [],
   "source": [
    "{key:spearmanr(tau_val, x, nan_policy='propagate')[0] for key,x in pred_val.items()}"
   ]
  },
  {
   "cell_type": "code",
   "execution_count": null,
   "metadata": {},
   "outputs": [],
   "source": [
    "#from pylift.eval import UpliftEval\n",
    "#{key:UpliftEval(g_val,y_val,x) for key,x in pred_val.items()}"
   ]
  },
  {
   "cell_type": "code",
   "execution_count": null,
   "metadata": {},
   "outputs": [],
   "source": [
    "for i,x in pred_val.items():\n",
    "    plt.hist(tau_val, color='black', alpha=0.5, range=[-2,2], bins=20)\n",
    "    plt.hist(x, alpha=0.5, bins=20)\n",
    "    plt.title(i)\n",
    "    plt.show()\n"
   ]
  },
  {
   "cell_type": "code",
   "execution_count": null,
   "metadata": {},
   "outputs": [],
   "source": []
  }
 ],
 "metadata": {
  "kernelspec": {
   "display_name": "Python [deeplearning]",
   "language": "python",
   "name": "Python [deeplearning]"
  },
  "language_info": {
   "codemirror_mode": {
    "name": "ipython",
    "version": 3
   },
   "file_extension": ".py",
   "mimetype": "text/x-python",
   "name": "python",
   "nbconvert_exporter": "python",
   "pygments_lexer": "ipython3",
   "version": "3.6.7"
  }
 },
 "nbformat": 4,
 "nbformat_minor": 2
}
