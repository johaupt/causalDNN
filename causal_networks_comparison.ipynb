{
 "cells": [
  {
   "cell_type": "code",
   "execution_count": 1,
   "metadata": {},
   "outputs": [],
   "source": [
    "import numpy as np\n",
    "import pandas as pd\n",
    "import torch\n",
    "import torch.nn as nn\n",
    "import torch.nn.functional as F\n",
    "from torch.autograd import Variable\n",
    "\n",
    "from torch.utils.data import Dataset, DataLoader\n",
    "\n",
    "from torch.optim import SGD, Adam\n",
    "\n",
    "from tqdm import tqdm"
   ]
  },
  {
   "cell_type": "markdown",
   "metadata": {},
   "source": [
    "The model is a standard multi-layer perceptron. Classification only requires a change to the output activation from None to sigmoid."
   ]
  },
  {
   "cell_type": "code",
   "execution_count": 2,
   "metadata": {},
   "outputs": [],
   "source": [
    "class nnet(nn.Module):\n",
    "    def __init__(self, input_dim, hidden_layer_sizes):\n",
    "        super(nnet, self).__init__()\n",
    "        \n",
    "        self.input_dim = input_dim\n",
    "        self.layer_sizes = hidden_layer_sizes\n",
    "        self.iter = 0\n",
    "        \n",
    "        hidden_layer_sizes = hidden_layer_sizes + [1] # Output layer\n",
    "        first_layer = nn.Linear(input_dim, hidden_layer_sizes[0])\n",
    "        self.layers = nn.ModuleList(\n",
    "            [first_layer] +\\\n",
    "            [nn.Linear(input_, output_)\n",
    "             for input_, output_ in \n",
    "             zip(hidden_layer_sizes, hidden_layer_sizes[1:])])\n",
    "\n",
    "        \n",
    "    def forward(self, x):\n",
    "        for layer in self.layers[:-1]:\n",
    "            x = F.relu(layer(x))\n",
    "        x = self.layers[-1](x)\n",
    "        \n",
    "        return x\n",
    "    \n",
    "    def train(self, data_loader, epochs):\n",
    "        for epoch in range(epochs):\n",
    "            loss = self._train_iteration(data_loader)\n",
    "            if epoch % 5 == 0:\n",
    "                print(f\"loss: {loss}\")\n",
    "                \n",
    "    def _train_iteration(self,data_loader):\n",
    "        for i, (X,y,g) in enumerate(data_loader):\n",
    "            \n",
    "            X = X.float()\n",
    "            y = y.unsqueeze(1).float()\n",
    "            \n",
    "            X = Variable(X, requires_grad=True)\n",
    "            y = Variable(y, requires_grad=True)\n",
    "                      \n",
    "            pred = self(X)\n",
    "            loss = ((y - pred)**2).mean()\n",
    "            \n",
    "            optim.zero_grad()\n",
    "            loss.backward()\n",
    "            optim.step()\n",
    "               \n",
    "        return loss.detach().numpy()"
   ]
  },
  {
   "cell_type": "markdown",
   "metadata": {},
   "source": [
    "# Data"
   ]
  },
  {
   "cell_type": "markdown",
   "metadata": {},
   "source": [
    "The data generating process works as follows (story just for reference):\n",
    "Revenue ($y_i$) depends on some characteristics $X_i$ of the customer i. Customers are given a coupon (treatment $g_i$) with 50% probability . Customer who receive a coupon will spend more or less money (treatment effect $\\tau_i$) depending linearly on their characteristics.\n",
    "\n",
    "$$y_i = X_i ^\\top \\beta_X + g_i \\cdot (\\tau_0 + X_i ^\\top \\beta_{\\tau} + \\epsilon^{\\tau}_i) + \\epsilon_i$$\n",
    "\n",
    "with \n",
    "\n",
    "$$\\epsilon_i \\sim \\text{Normal}(mean = 0, std = 0.1)$$\n",
    "\n",
    "$$g_i \\sim \\text{Bernoulli}(p=0.5)$$\n",
    "$$\\epsilon^{\\tau}_i \\sim \\text{Normal}(mean = 0, std = 0.001)$$\n",
    "\n",
    "I think there is merit to the assumption that the true reponse model is often more complex than the model behind the heterogeneity of treatment effects. \n"
   ]
  },
  {
   "cell_type": "code",
   "execution_count": 3,
   "metadata": {},
   "outputs": [],
   "source": [
    "def generate_experiment(n_obs,n_var, tau=None):\n",
    "    X = np.random.multivariate_normal(\n",
    "             np.zeros(n_var),\n",
    "             np.eye(n_var),\n",
    "             n_obs\n",
    "             )\n",
    "    \n",
    "    \n",
    "    # Linear effects\n",
    "    beta     = np.random.normal(loc=0, scale=0.1, size=n_var)\n",
    "    # Non-linear effects (optional)\n",
    "    beta_X2  = np.random.normal(loc=0, scale=0.1, size=n_var)\n",
    "    # Linear effects on treatment effect\n",
    "    beta_tau = np.random.normal(loc=0, scale=0.01, size=n_var)\n",
    "    # Baseline treatment effect\n",
    "    tau_zero = np.random.normal(0.1,0.01)\n",
    "    \n",
    "    g = np.hstack([np.ones(n_obs//2), np.zeros(n_obs//2)])\n",
    "        #np.random.binomial(1,0.5,size=n_obs)\n",
    "        \n",
    "    if tau is None:\n",
    "        tau = tau_zero + np.dot(X,beta_tau) + np.random.normal(scale=0.001, size=n_obs)\n",
    "        \n",
    "    y = np.dot(X,beta) +\\\n",
    "        np.dot(np.power(X,2),beta_X2) +\\\n",
    "        g * tau + np.random.normal(scale=0.1, size=n_obs)\n",
    "    \n",
    "    return X, y, g, tau, beta, beta_X2, tau_zero, beta_tau\n",
    "    \n",
    "    "
   ]
  },
  {
   "cell_type": "markdown",
   "metadata": {},
   "source": [
    "The Dataloader is currently a random sampler (see below) that returns $X_i$, $y_i$ and $g_i$ for a batch. \n",
    "\n",
    "TODO: I think a batch sampler stratified on $g$ makes more sense."
   ]
  },
  {
   "cell_type": "code",
   "execution_count": 4,
   "metadata": {},
   "outputs": [],
   "source": [
    "class ExperimentData(Dataset):\n",
    "    def __init__(self, X, y, g):\n",
    "        self.X = X\n",
    "        self.y = y\n",
    "        self.g = g\n",
    "        \n",
    "    def __len__(self):\n",
    "        return X.shape[0]\n",
    "    \n",
    "    def __getitem__(self, idx):\n",
    "        return X[idx,:], y[idx], g[idx]\n",
    "                "
   ]
  },
  {
   "cell_type": "code",
   "execution_count": 5,
   "metadata": {},
   "outputs": [],
   "source": [
    "X, y, g, tau, coef, coef_x2, tau_zero, coef_tau = generate_experiment(15000,10, tau=None)"
   ]
  },
  {
   "cell_type": "markdown",
   "metadata": {},
   "source": [
    "For evaluation in the simulation context, I assume that the treatment effects are known and calculate the accuracy on the model in estimating the treatment effects on a holdout validation set. In practice, the true treatment effects are unknown, of course, so holdout evaluation is an open question."
   ]
  },
  {
   "cell_type": "code",
   "execution_count": 6,
   "metadata": {},
   "outputs": [
    {
     "data": {
      "text/plain": [
       "(0.3173589366841803, 0.48587312119133874)"
      ]
     },
     "execution_count": 6,
     "metadata": {},
     "output_type": "execute_result"
    }
   ],
   "source": [
    "np.mean(y), np.std(y)"
   ]
  },
  {
   "cell_type": "markdown",
   "metadata": {},
   "source": [
    "ATE summary statistics. These should be stable to confirm that the info-noise ratio in the data is not too high."
   ]
  },
  {
   "cell_type": "code",
   "execution_count": 7,
   "metadata": {},
   "outputs": [
    {
     "name": "stdout",
     "output_type": "stream",
     "text": [
      "Baseline treatment effect (True ATE):0.09801189472366993\n",
      "Sample treatment effect (ITE Mean, ITE Std.): (0.09784800730566624, 0.02774634138414201)\n",
      "Empirical ATE: 0.09049648289956486\n"
     ]
    }
   ],
   "source": [
    "# True ATE and standard deviation of individual treatment effects\n",
    "print(f\"Baseline treatment effect (True ATE):{tau_zero}\")\n",
    "print(f\"Sample treatment effect (ITE Mean, ITE Std.): {np.mean(tau), np.std(tau)}\")\n",
    "print(f\"Empirical ATE: {np.mean(y[g==1]) - np.mean(y[g==0])}\")"
   ]
  },
  {
   "cell_type": "code",
   "execution_count": 8,
   "metadata": {},
   "outputs": [],
   "source": [
    "from sklearn.model_selection import train_test_split\n",
    "X, X_val, y, y_val, g, g_val, tau, tau_val = train_test_split(X,y,g,tau, stratify=g)"
   ]
  },
  {
   "cell_type": "code",
   "execution_count": 9,
   "metadata": {},
   "outputs": [
    {
     "name": "stdout",
     "output_type": "stream",
     "text": [
      "Baseline MSE for treatment effect prediction on validation data:      0.0007715055326428349\n"
     ]
    }
   ],
   "source": [
    "print(f\"Baseline MSE for treatment effect prediction on validation data:\\\n",
    "      {np.mean((tau_val - (np.mean(y[g==1]) - np.mean(y[g==0])))**2)}\")"
   ]
  },
  {
   "cell_type": "code",
   "execution_count": 10,
   "metadata": {},
   "outputs": [],
   "source": [
    "data = ExperimentData(X,y,g)"
   ]
  },
  {
   "cell_type": "markdown",
   "metadata": {},
   "source": [
    "## Mini-batch ATE causal net"
   ]
  },
  {
   "cell_type": "markdown",
   "metadata": {},
   "source": [
    "### Model\n",
    "The two-model approach estimates two distinct models on the response variable, one for each group. The difference between the two estimates for the same observations is the treatment effect for a single observation. Disjoint estimation may result in models that are not well calibrated.\n",
    "\n",
    "Solution: Train a neural network to estimate the treatment effect directly. This is not possible for a single observation (-> fundamental problem of causal inference):\n",
    "\n",
    "$$ r_i = \\hat{\\tau}_i - \\tau_i, $$\n",
    "where $\\tau_i$ is of course unknown. \n",
    "\n",
    "We can however evaluate the total error for groups of observations $i \\in 1,\\ldots,N$:\n",
    "\n",
    "$$ \\sum^N r_i = \\sum^N \\hat{\\tau}_i - \\tau_i = \\sum^N \\hat{\\tau}_i - \\sum^N \\tau_i$$\n",
    "\n",
    "\n",
    "The sum treatment effect is only weakly informative for the treatment effect of a single observation and estimating the overall sum of treatment effects leaves too many degrees of freedom for the treatment effect of each observations. By using mini-batches instead, the summed individual treatment effects need to be correct not only for the population N, but also for each subset of the population $M \\in N$.\n",
    "\n",
    "The trick is in shuffling and reshuffling the observation between the batches. On the full sample, the model can get away with predicting the ATE for each observation. For the ATE *in each subset* to be correct, the model needs to predict the individual treatment effects correctly. \n",
    "\n",
    "TODO: Show this formally!"
   ]
  },
  {
   "cell_type": "code",
   "execution_count": 11,
   "metadata": {},
   "outputs": [],
   "source": [
    "class causalnet1(nn.Module):\n",
    "    def __init__(self, input_dim, hidden_layer_sizes):\n",
    "        super().__init__()\n",
    "        self.net = nnet(input_dim, hidden_layer_sizes)\n",
    "        self.loss = []\n",
    "        self.val_loss = []\n",
    "        \n",
    "    def forward(self, X):\n",
    "        treatment_effect = self.net(X)\n",
    "        return treatment_effect\n",
    "    \n",
    "    def train(self, data_loader, epochs, validation_data=None):\n",
    "        for epoch in range(epochs):\n",
    "            ATE, ATE_hat, loss, g_ratio = self._train_iteration(data_loader)\n",
    "            self.loss.append(loss)\n",
    "            if epoch % 5 == 0:\n",
    "                if validation_data is not None:\n",
    "                    tau_hat = self.net(validation_data['X'])\n",
    "                    val_loss = (validation_data['tau'] - tau_hat).pow(2).mean().detach().numpy()\n",
    "                    self.val_loss.append(val_loss)\n",
    "                    print(f\"val_loss: {val_loss}, ATE: {ATE}, ATE_hat: {ATE_hat}, loss: {loss}, balance: {g_ratio}\")\n",
    "                else:\n",
    "                    print(f\"ATE: {ATE}, ATE_hat: {ATE_hat}, loss: {loss}, balance: {g_ratio}\")\n",
    "            \n",
    "    \n",
    "    def _train_iteration(self,data_loader):\n",
    "        for i, (X,y,g) in enumerate(data_loader):\n",
    "            \n",
    "            X = X.float()\n",
    "            y = y.unsqueeze(1).float()\n",
    "            \n",
    "            X0 = Variable(X[g==0,:])\n",
    "            y0 = Variable(y[g==0])\n",
    "            \n",
    "            X1 = Variable(X[g==1,:])\n",
    "            y1 = Variable(y[g==1])\n",
    "            \n",
    "            g_ratio = g.float().mean()\n",
    "            \n",
    "#             response0 = self.net0(X0)\n",
    "#             loss0 = ((y0 - response0)**2).mean()\n",
    "            \n",
    "#             response1 = self.net1(X1)\n",
    "#             loss1 = ((y1 - response1)**2).mean()\n",
    "\n",
    "            treatment_effect = self.net(X)\n",
    "            \n",
    "            ATE_hat = treatment_effect.mean()\n",
    "            ATE     = y1.mean() - y0.mean()\n",
    "            loss_treatment = (ATE - ATE_hat)**2            \n",
    "            \n",
    "            \n",
    "#             if i % 2==0:\n",
    "#                 self.net0.zero_grad()\n",
    "#                 loss =  0*loss0 + loss_treatment\n",
    "#                 loss.backward()\n",
    "#                 optim0.step()\n",
    "#             else:\n",
    "            self.net.zero_grad()\n",
    "            loss =  loss_treatment\n",
    "            loss.backward()\n",
    "            optim.step()\n",
    "                \n",
    "            \n",
    "        return ATE.detach().numpy(), ATE_hat.detach().numpy(), loss.detach().numpy(), g_ratio\n",
    "            "
   ]
  },
  {
   "cell_type": "markdown",
   "metadata": {},
   "source": [
    "### Simulation"
   ]
  },
  {
   "cell_type": "markdown",
   "metadata": {},
   "source": [
    "We can train a FFNN without hidden layers as equivalent to a linear model."
   ]
  },
  {
   "cell_type": "code",
   "execution_count": 12,
   "metadata": {},
   "outputs": [],
   "source": [
    "cnn1 = causalnet1(10, [])"
   ]
  },
  {
   "cell_type": "markdown",
   "metadata": {},
   "source": [
    "My intuition about the batch size is tradeoff: Too large and the signal from each observation becomes too small and predicting the ATE is the dominant strategy. Too small and the training becomes unstable."
   ]
  },
  {
   "cell_type": "markdown",
   "metadata": {},
   "source": [
    "TODO: A dynamic decrease in batch size could provide more and more information given that the model is stable enough to create decent estimates"
   ]
  },
  {
   "cell_type": "markdown",
   "metadata": {},
   "source": [
    "TODO: Ideally, the data loader will pass bs/2 observations of each the treatment and the control group, but this will take some coding, so I ignore it for now. For small batch sizes, it's currently possible that not both groups are present in the batch so the loss will return NaN and training fails."
   ]
  },
  {
   "cell_type": "code",
   "execution_count": 13,
   "metadata": {},
   "outputs": [],
   "source": [
    "data_loader = DataLoader(data, batch_size=500, shuffle=True)"
   ]
  },
  {
   "cell_type": "markdown",
   "metadata": {},
   "source": [
    "A low learning rate is possibly necessary to stabilize training given the noise in the ATE within each batch."
   ]
  },
  {
   "cell_type": "code",
   "execution_count": 14,
   "metadata": {},
   "outputs": [],
   "source": [
    "optim = Adam(cnn1.net.parameters(), lr=0.001)"
   ]
  },
  {
   "cell_type": "code",
   "execution_count": 15,
   "metadata": {},
   "outputs": [],
   "source": [
    "# optim0 = Adam(cnn.net0.parameters(), lr=0.001)\n",
    "# optim1 = Adam(cnn.net1.parameters(), lr=0.001)"
   ]
  },
  {
   "cell_type": "code",
   "execution_count": 16,
   "metadata": {},
   "outputs": [
    {
     "name": "stdout",
     "output_type": "stream",
     "text": [
      "val_loss: 0.3223493695259094, ATE: 0.1355738788843155, ATE_hat: -0.0003725823189597577, loss: 0.01848144270479679, balance: 0.5120000243186951\n",
      "val_loss: 0.28972387313842773, ATE: 0.10702365636825562, ATE_hat: 0.06103650480508804, loss: 0.002114818198606372, balance: 0.527999997138977\n",
      "val_loss: 0.2596900761127472, ATE: 0.09395122528076172, ATE_hat: 0.07540743798017502, loss: 0.0003438720596022904, balance: 0.5199999809265137\n",
      "val_loss: 0.21470093727111816, ATE: 0.15928679704666138, ATE_hat: 0.12285935133695602, loss: 0.0013269587652757764, balance: 0.5400000214576721\n",
      "val_loss: 0.1785833090543747, ATE: 0.04732125997543335, ATE_hat: 0.06548316776752472, loss: 0.00032985489815473557, balance: 0.5239999890327454\n",
      "val_loss: 0.15420444309711456, ATE: 0.1452709585428238, ATE_hat: 0.07246974855661392, loss: 0.005300016142427921, balance: 0.46799999475479126\n",
      "val_loss: 0.13500168919563293, ATE: 0.01909017562866211, ATE_hat: 0.03405449911952019, loss: 0.00022393098333850503, balance: 0.5080000162124634\n",
      "val_loss: 0.1098671555519104, ATE: 0.17707887291908264, ATE_hat: 0.10358493775129318, loss: 0.005401358474045992, balance: 0.5199999809265137\n",
      "val_loss: 0.0880010575056076, ATE: 0.09988224506378174, ATE_hat: 0.10815858095884323, loss: 6.849773490102962e-05, balance: 0.47200000286102295\n",
      "val_loss: 0.06488069146871567, ATE: 0.2041589915752411, ATE_hat: 0.07174573093652725, loss: 0.017533274367451668, balance: 0.5479999780654907\n",
      "val_loss: 0.0543658547103405, ATE: 0.18200461566448212, ATE_hat: 0.07882366329431534, loss: 0.010646308772265911, balance: 0.6000000238418579\n",
      "val_loss: 0.04484355077147484, ATE: 0.16941970586776733, ATE_hat: 0.11423324048519135, loss: 0.0030455458909273148, balance: 0.4480000138282776\n",
      "val_loss: 0.04153968766331673, ATE: 0.10765653848648071, ATE_hat: 0.09869912266731262, loss: 8.023529517231509e-05, balance: 0.4399999976158142\n",
      "val_loss: 0.02945583313703537, ATE: 0.2043703943490982, ATE_hat: 0.10404506325721741, loss: 0.010065171867609024, balance: 0.527999997138977\n",
      "val_loss: 0.0281794685870409, ATE: 0.09337913990020752, ATE_hat: 0.10030724853277206, loss: 4.7998688387451693e-05, balance: 0.492000013589859\n",
      "val_loss: 0.02242744155228138, ATE: 0.14229196310043335, ATE_hat: 0.11527731269598007, loss: 0.0007297913543879986, balance: 0.5080000162124634\n",
      "val_loss: 0.01847750134766102, ATE: 0.07980269193649292, ATE_hat: 0.10323206335306168, loss: 0.0005489354371093214, balance: 0.527999997138977\n",
      "val_loss: 0.01409926638007164, ATE: 0.09703031182289124, ATE_hat: 0.09400832653045654, loss: 9.132395462074783e-06, balance: 0.5479999780654907\n",
      "val_loss: 0.01174852903932333, ATE: -0.05922088027000427, ATE_hat: 0.10316599905490875, loss: 0.026369499042630196, balance: 0.5120000243186951\n",
      "val_loss: 0.01173726562410593, ATE: 0.0680253803730011, ATE_hat: 0.10884629935026169, loss: 0.001666347379796207, balance: 0.5360000133514404\n",
      "val_loss: 0.010341199114918709, ATE: 0.03416275978088379, ATE_hat: 0.09144479036331177, loss: 0.003281231038272381, balance: 0.5080000162124634\n",
      "val_loss: 0.010717005468904972, ATE: 0.051667213439941406, ATE_hat: 0.09371138364076614, loss: 0.001767712295986712, balance: 0.5479999780654907\n",
      "val_loss: 0.010944591835141182, ATE: 0.08366316556930542, ATE_hat: 0.09803073853254318, loss: 0.00020642715389840305, balance: 0.5600000023841858\n",
      "val_loss: 0.00935482420027256, ATE: 0.16705241799354553, ATE_hat: 0.09155584126710892, loss: 0.005699733272194862, balance: 0.5199999809265137\n",
      "val_loss: 0.007687239442020655, ATE: -0.04997794330120087, ATE_hat: 0.09148932993412018, loss: 0.0200129896402359, balance: 0.4480000138282776\n",
      "val_loss: 0.007927987724542618, ATE: 0.1025974303483963, ATE_hat: 0.09987901151180267, loss: 7.389800884993747e-06, balance: 0.515999972820282\n",
      "val_loss: 0.010331070981919765, ATE: 0.05464249849319458, ATE_hat: 0.10000545531511307, loss: 0.0020577977411448956, balance: 0.4880000054836273\n",
      "val_loss: 0.0087003568187356, ATE: 0.04102116823196411, ATE_hat: 0.10825453698635101, loss: 0.004520325921475887, balance: 0.5120000243186951\n",
      "val_loss: 0.008523979224264622, ATE: 0.07288596034049988, ATE_hat: 0.0954783484339714, loss: 0.0005104159936308861, balance: 0.5040000081062317\n",
      "val_loss: 0.008143296465277672, ATE: 0.08741803467273712, ATE_hat: 0.09608244150876999, loss: 7.50719482311979e-05, balance: 0.5\n",
      "val_loss: 0.006875393912196159, ATE: 0.06577908992767334, ATE_hat: 0.09829455614089966, loss: 0.0010572555474936962, balance: 0.4560000002384186\n",
      "val_loss: 0.006429586093872786, ATE: 0.19401568174362183, ATE_hat: 0.09152413159608841, loss: 0.010504517704248428, balance: 0.4880000054836273\n",
      "val_loss: 0.005157214589416981, ATE: 0.11649948358535767, ATE_hat: 0.09763374924659729, loss: 0.00035591592313721776, balance: 0.4880000054836273\n",
      "val_loss: 0.0041552879847586155, ATE: 0.1284784972667694, ATE_hat: 0.09660972654819489, loss: 0.0010156185599043965, balance: 0.4480000138282776\n",
      "val_loss: 0.0037522227503359318, ATE: 0.03926825523376465, ATE_hat: 0.10033155977725983, loss: 0.003728727111592889, balance: 0.5239999890327454\n",
      "val_loss: 0.004306152928620577, ATE: -0.0265941321849823, ATE_hat: 0.09734199941158295, loss: 0.01536016445606947, balance: 0.5\n",
      "val_loss: 0.00593747990205884, ATE: 0.12604135274887085, ATE_hat: 0.09686754643917084, loss: 0.0008511109626851976, balance: 0.4399999976158142\n",
      "val_loss: 0.006946386303752661, ATE: -0.0029497742652893066, ATE_hat: 0.0981694683432579, loss: 0.010225101374089718, balance: 0.4880000054836273\n",
      "val_loss: 0.007092930376529694, ATE: 0.1350795030593872, ATE_hat: 0.09156651049852371, loss: 0.0018933805404230952, balance: 0.5759999752044678\n",
      "val_loss: 0.006234295666217804, ATE: 0.1709543615579605, ATE_hat: 0.10168112069368362, loss: 0.004798782058060169, balance: 0.46799999475479126\n"
     ]
    }
   ],
   "source": [
    "cnn1.train(data_loader, epochs=200, validation_data = {\"X\":torch.tensor(X_val).float(), \n",
    "                                              \"tau\":torch.Tensor(tau_val).float()})"
   ]
  },
  {
   "cell_type": "code",
   "execution_count": 41,
   "metadata": {},
   "outputs": [
    {
     "data": {
      "image/png": "[encoded data removed]",
      "text/plain": [
       "<Figure size 432x288 with 1 Axes>"
      ]
     },
     "metadata": {
      "needs_background": "light"
     },
     "output_type": "display_data"
    }
   ],
   "source": [
    "import matplotlib.pyplot as plt\n",
    "plt.plot(cnn1.val_loss)\n",
    "plt.show()"
   ]
  },
  {
   "cell_type": "markdown",
   "metadata": {},
   "source": [
    "For neural networks without hidden layer, we can compare the coefficients to the known true coefficients."
   ]
  },
  {
   "cell_type": "markdown",
   "metadata": {},
   "source": [
    "The ATE is usually approximately correct."
   ]
  },
  {
   "cell_type": "code",
   "execution_count": 18,
   "metadata": {},
   "outputs": [
    {
     "data": {
      "text/plain": [
       "0.09801189472366993"
      ]
     },
     "execution_count": 18,
     "metadata": {},
     "output_type": "execute_result"
    }
   ],
   "source": [
    "tau_zero"
   ]
  },
  {
   "cell_type": "code",
   "execution_count": 19,
   "metadata": {},
   "outputs": [
    {
     "data": {
      "text/plain": [
       "array([0.09859589], dtype=float32)"
      ]
     },
     "execution_count": 19,
     "metadata": {},
     "output_type": "execute_result"
    }
   ],
   "source": [
    "list(cnn1.net.parameters())[1].detach().numpy()"
   ]
  },
  {
   "cell_type": "markdown",
   "metadata": {},
   "source": [
    "The estimated coefficients often don't capture the direction and even approximate size of the effect. "
   ]
  },
  {
   "cell_type": "code",
   "execution_count": 20,
   "metadata": {},
   "outputs": [
    {
     "data": {
      "text/plain": [
       "array([-0.00307794, -0.01166978, -0.00385822, -0.00118968, -0.00839613,\n",
       "       -0.01482367,  0.0107416 , -0.01228733, -0.00672245, -0.00236073])"
      ]
     },
     "execution_count": 20,
     "metadata": {},
     "output_type": "execute_result"
    }
   ],
   "source": [
    "coef_tau"
   ]
  },
  {
   "cell_type": "code",
   "execution_count": 21,
   "metadata": {},
   "outputs": [
    {
     "data": {
      "text/plain": [
       "array([[ 0.03445683, -0.02473592, -0.02038331,  0.00429013, -0.02890932,\n",
       "        -0.02791671,  0.02570495,  0.00292601,  0.02517804, -0.00177828]],\n",
       "      dtype=float32)"
      ]
     },
     "execution_count": 21,
     "metadata": {},
     "output_type": "execute_result"
    }
   ],
   "source": [
    "list(cnn1.net.parameters())[0].detach().numpy()"
   ]
  },
  {
   "cell_type": "markdown",
   "metadata": {},
   "source": [
    "The predicted treatment effects are usually not a accurate estimate of the true individual treatment effects, but correlation is at least positive."
   ]
  },
  {
   "cell_type": "code",
   "execution_count": 22,
   "metadata": {},
   "outputs": [],
   "source": [
    "pred = cnn1(torch.tensor(X).float()).detach().numpy()"
   ]
  },
  {
   "cell_type": "code",
   "execution_count": 23,
   "metadata": {},
   "outputs": [
    {
     "name": "stdout",
     "output_type": "stream",
     "text": [
      "0.09786279375105283 0.027739007909583484\n",
      "0.0983696 0.070951745\n",
      "[[1.         0.48864703]\n",
      " [0.48864703 1.        ]]\n"
     ]
    }
   ],
   "source": [
    "print(tau.mean(), tau.std())\n",
    "print(pred.mean(), pred.std())\n",
    "print(np.corrcoef(tau,pred.flatten(), rowvar=False))"
   ]
  },
  {
   "cell_type": "code",
   "execution_count": 24,
   "metadata": {},
   "outputs": [
    {
     "data": {
      "text/plain": [
       "array([ 0.08988072,  0.01105264,  0.10028923,  0.1462851 ,  0.09939626,\n",
       "        0.13995215,  0.10327283,  0.31601238, -0.00289319,  0.07911087],\n",
       "      dtype=float32)"
      ]
     },
     "execution_count": 24,
     "metadata": {},
     "output_type": "execute_result"
    }
   ],
   "source": [
    "pred.flatten()[:10]"
   ]
  },
  {
   "cell_type": "code",
   "execution_count": 25,
   "metadata": {},
   "outputs": [
    {
     "data": {
      "text/plain": [
       "array([0.07974348, 0.08498332, 0.10089869, 0.08148552, 0.06959321,\n",
       "       0.13259103, 0.1152406 , 0.12448763, 0.05613586, 0.07686927])"
      ]
     },
     "execution_count": 25,
     "metadata": {},
     "output_type": "execute_result"
    }
   ],
   "source": [
    "tau[:10]"
   ]
  },
  {
   "cell_type": "markdown",
   "metadata": {},
   "source": [
    "## Addditive two-model approach / residual network"
   ]
  },
  {
   "cell_type": "markdown",
   "metadata": {},
   "source": [
    "### Model\n",
    "Again estimate two networks jointly. Decompose the response estimate for treated observations into the response without treatment and the treatment effect. \n",
    "\n",
    "$$ \\hat{y}_t = f_R(X_t) + f_T(X_t) \\\\\n",
    "   \\hat{y}_t = f_R(X_c)$$\n",
    "\n",
    "One network $f_R$ predicts the response without treatment for each customer (treatment and control), the second network $f_T$ estimates the treatment effect. The loss for the first network is the response prediction MSE over all observations $$\\frac{1}{N}\\sum([\\hat{y_t};\\hat{y_c}] - [y_t;y_c])^2$$ the loss for the second network is the response prediction MSE for *only the treated group*, i.e. $$\\frac{1}{N_T}\\sum(\\hat{y_t} - y_t)^2$$"
   ]
  },
  {
   "cell_type": "markdown",
   "metadata": {},
   "source": [
    "TODO: This seems related to an approach called *covariate transformation* in the uplift literature. For covariate transformation, we estimate the outcome $y_i$ on a set of variables $[X_i, t_i \\cdot X_i]$, where $t_i \\cdot X_i$ is the interaction between the treatment indicator $t_i \\in {0;1}$ and observed variables $X$. \n",
    "\n",
    "TODO: For the linear regression model, this is equivalent to including each variable-treatment interaction term (?)\n",
    "\n",
    "TODO: I'm pretty sure that this works only when the response network $f_R$ is good. Check this. "
   ]
  },
  {
   "cell_type": "code",
   "execution_count": 26,
   "metadata": {},
   "outputs": [],
   "source": [
    "class causalnet2(nn.Module):\n",
    "    def __init__(self, input_dim, hidden_layer_sizes):\n",
    "        super().__init__()\n",
    "        self.net0 = nnet(input_dim, hidden_layer_sizes)\n",
    "        self.net1 = nnet(input_dim, hidden_layer_sizes)\n",
    "        self.loss = []\n",
    "        self.val_loss = []\n",
    "        \n",
    "    def forward(self, X):\n",
    "        return self.net1(X)\n",
    "    \n",
    "    def train(self, data_loader, epochs, validation_data=None):\n",
    "        for epoch in range(epochs):\n",
    "            ATE, ATE_hat, loss, g_ratio = self._train_iteration(data_loader)\n",
    "            self.loss.append(loss)\n",
    "            if epoch % 5 == 0:\n",
    "                if validation_data is not None:\n",
    "                    tau_hat = self.net1(validation_data['X'])\n",
    "                    val_loss = (validation_data['tau'] - tau_hat).pow(2).mean().detach().numpy()\n",
    "                    self.val_loss.append(val_loss)\n",
    "                    print(f\"val_loss: {val_loss}, ATE: {ATE}, ATE_hat: {ATE_hat}, loss: {loss}, balance: {g_ratio}\")\n",
    "                else:\n",
    "                    print(f\"ATE: {ATE}, ATE_hat: {ATE_hat}, loss: {loss}, balance: {g_ratio}\")\n",
    "            \n",
    "    \n",
    "    def _train_iteration(self,data_loader):\n",
    "        for i, (X,y,g) in enumerate(data_loader):\n",
    "            \n",
    "            X = X.float()\n",
    "            y = y.unsqueeze(1).float()\n",
    "            \n",
    "            X0 = Variable(X[g==0,:])\n",
    "            y0 = Variable(y[g==0])\n",
    "            \n",
    "            X1 = Variable(X[g==1,:])\n",
    "            y1 = Variable(y[g==1])\n",
    "            \n",
    "            g_ratio = g.float().mean()\n",
    "            \n",
    "            response0 = self.net0(X0)\n",
    "            loss0 = ((y0 - response0).pow(2)).mean()\n",
    "            \n",
    "            response1 = self.net0(X1) + self.net1(X1)\n",
    "            loss1 = ((y1 - response1).pow(2)).mean()\n",
    "            \n",
    "            loss = loss0 + loss1\n",
    "            \n",
    "            ATE_hat = response1.mean() - response0.mean()\n",
    "            ATE     = y1.mean() - y0.mean()\n",
    "            loss_treatment = (ATE - ATE_hat).pow(2)            \n",
    "            \n",
    "            self.net0.zero_grad()\n",
    "            loss0.backward()\n",
    "            optim0.step()\n",
    "\n",
    "            self.net1.zero_grad()\n",
    "            loss1.backward()\n",
    "            optim1.step()\n",
    "                \n",
    "            \n",
    "        return ATE.detach().numpy(), ATE_hat.detach().numpy(), loss.detach().numpy(), g_ratio\n",
    "            "
   ]
  },
  {
   "cell_type": "markdown",
   "metadata": {},
   "source": [
    "### Simulation"
   ]
  },
  {
   "cell_type": "code",
   "execution_count": 27,
   "metadata": {},
   "outputs": [],
   "source": [
    "data_loader = DataLoader(data, batch_size=128, shuffle=True)"
   ]
  },
  {
   "cell_type": "markdown",
   "metadata": {},
   "source": [
    "We can train a FFNN without hidden layers as equivalent to a linear regression model. Note that the true model for y is non-linear, while the true model for the treatment effect is linear."
   ]
  },
  {
   "cell_type": "code",
   "execution_count": 28,
   "metadata": {},
   "outputs": [],
   "source": [
    "cnn2 = causalnet2(10, [])"
   ]
  },
  {
   "cell_type": "code",
   "execution_count": 29,
   "metadata": {},
   "outputs": [],
   "source": [
    "optim0 = Adam(cnn2.net0.parameters(), lr=0.001)\n",
    "optim1 = Adam(cnn2.net1.parameters(), lr=0.001)"
   ]
  },
  {
   "cell_type": "code",
   "execution_count": 30,
   "metadata": {},
   "outputs": [
    {
     "name": "stdout",
     "output_type": "stream",
     "text": [
      "val_loss: 0.07902302592992783, ATE: 0.11625814437866211, ATE_hat: -0.035088252276182175, loss: 1.0581822395324707, balance: 0.5438596606254578\n",
      "val_loss: 0.018727239221334457, ATE: 0.06554797291755676, ATE_hat: 0.19432908296585083, loss: 0.3741544485092163, balance: 0.48245614767074585\n",
      "val_loss: 0.0039681741036474705, ATE: 0.23010030388832092, ATE_hat: 0.1751628816127777, loss: 0.4842052459716797, balance: 0.42105263471603394\n",
      "val_loss: 0.003081697039306164, ATE: 0.1037260890007019, ATE_hat: 0.09680069983005524, loss: 0.3687504827976227, balance: 0.5175438523292542\n",
      "val_loss: 0.003194720484316349, ATE: 0.0292435884475708, ATE_hat: 0.14252597093582153, loss: 0.48138993978500366, balance: 0.5175438523292542\n",
      "val_loss: 0.0029647191986441612, ATE: 0.033151835203170776, ATE_hat: 0.09790477156639099, loss: 0.37130486965179443, balance: 0.5\n",
      "val_loss: 0.0025073355063796043, ATE: 0.1367647498846054, ATE_hat: 0.05682149529457092, loss: 0.36271199584007263, balance: 0.5263158082962036\n",
      "val_loss: 0.002758691320195794, ATE: 0.09732058644294739, ATE_hat: 0.08788073062896729, loss: 0.3541632890701294, balance: 0.42105263471603394\n",
      "val_loss: 0.003309920197352767, ATE: 0.2050780951976776, ATE_hat: 0.08298000693321228, loss: 0.4728640913963318, balance: 0.4736842215061188\n",
      "val_loss: 0.0033868332393467426, ATE: 0.16476772725582123, ATE_hat: 0.09351631999015808, loss: 0.37722674012184143, balance: 0.42105263471603394\n",
      "val_loss: 0.0030140739399939775, ATE: 0.16884759068489075, ATE_hat: 0.11120826005935669, loss: 0.3607179522514343, balance: 0.4649122953414917\n",
      "val_loss: 0.0030625450890511274, ATE: 0.09348171949386597, ATE_hat: 0.10205078125, loss: 0.298186331987381, balance: 0.5087719559669495\n",
      "val_loss: 0.0030637739691883326, ATE: 0.07284075021743774, ATE_hat: 0.06382009387016296, loss: 0.3951941430568695, balance: 0.42105263471603394\n",
      "val_loss: 0.0035011444706469774, ATE: 0.19243192672729492, ATE_hat: 0.13566994667053223, loss: 0.406033992767334, balance: 0.429824560880661\n",
      "val_loss: 0.002775871194899082, ATE: 0.08843293786048889, ATE_hat: 0.057966142892837524, loss: 0.40658634901046753, balance: 0.4649122953414917\n",
      "val_loss: 0.002775466302409768, ATE: 0.16614596545696259, ATE_hat: 0.147281676530838, loss: 0.49050819873809814, balance: 0.4912280738353729\n",
      "val_loss: 0.0031720860861241817, ATE: 0.07734847068786621, ATE_hat: 0.055847883224487305, loss: 0.3259674906730652, balance: 0.44736841320991516\n",
      "val_loss: 0.0026747456286102533, ATE: 0.06432217359542847, ATE_hat: 0.09867486357688904, loss: 0.6494370102882385, balance: 0.5438596606254578\n",
      "val_loss: 0.0029357285238802433, ATE: 0.08625540137290955, ATE_hat: -0.01875358819961548, loss: 0.3505702018737793, balance: 0.4649122953414917\n",
      "val_loss: 0.0028858475852757692, ATE: -0.05382883548736572, ATE_hat: 0.12964904308319092, loss: 0.37403714656829834, balance: 0.48245614767074585\n",
      "val_loss: 0.002957702148705721, ATE: 0.13924601674079895, ATE_hat: 0.11158260703086853, loss: 0.30172622203826904, balance: 0.5\n",
      "val_loss: 0.0026482839602977037, ATE: 0.0477062463760376, ATE_hat: 0.060521453619003296, loss: 0.2839146852493286, balance: 0.5438596606254578\n",
      "val_loss: 0.003241979517042637, ATE: 0.13152995705604553, ATE_hat: 0.05207699537277222, loss: 0.3803829550743103, balance: 0.5\n",
      "val_loss: 0.002959253266453743, ATE: 0.015596151351928711, ATE_hat: 0.08766880631446838, loss: 0.2875649929046631, balance: 0.5438596606254578\n",
      "val_loss: 0.002586161717772484, ATE: 0.07190737128257751, ATE_hat: 0.0691976547241211, loss: 0.38565945625305176, balance: 0.5\n",
      "val_loss: 0.002855616854503751, ATE: -0.08109113574028015, ATE_hat: 0.019008666276931763, loss: 0.41788530349731445, balance: 0.4912280738353729\n",
      "val_loss: 0.003128127893432975, ATE: -0.0359010249376297, ATE_hat: 0.08597522974014282, loss: 0.3584727644920349, balance: 0.42105263471603394\n",
      "val_loss: 0.0030465812887996435, ATE: 0.17463865876197815, ATE_hat: 0.11103641986846924, loss: 0.40067312121391296, balance: 0.5614035129547119\n",
      "val_loss: 0.0027800670359283686, ATE: 0.23294813930988312, ATE_hat: 0.0916329026222229, loss: 0.40006059408187866, balance: 0.5087719559669495\n",
      "val_loss: 0.0029109835159033537, ATE: 0.1977861076593399, ATE_hat: 0.06276339292526245, loss: 0.3836837112903595, balance: 0.5\n",
      "val_loss: 0.002909675007686019, ATE: 0.18197277188301086, ATE_hat: 0.16778425872325897, loss: 0.40273502469062805, balance: 0.5263158082962036\n",
      "val_loss: 0.0032099802047014236, ATE: 0.03677752614021301, ATE_hat: 0.08830386400222778, loss: 0.2686580717563629, balance: 0.4912280738353729\n",
      "val_loss: 0.003043362172320485, ATE: 0.11852839589118958, ATE_hat: 0.06262686848640442, loss: 0.3624700903892517, balance: 0.5263158082962036\n",
      "val_loss: 0.0028532652650028467, ATE: 0.06150926649570465, ATE_hat: 0.11919309198856354, loss: 0.3646125793457031, balance: 0.5263158082962036\n",
      "val_loss: 0.0027908182237297297, ATE: 0.1105780303478241, ATE_hat: 0.07507088780403137, loss: 0.42262113094329834, balance: 0.5438596606254578\n",
      "val_loss: 0.003257029689848423, ATE: 0.061341702938079834, ATE_hat: 0.06422185897827148, loss: 0.3057342767715454, balance: 0.4649122953414917\n",
      "val_loss: 0.0031096921302378178, ATE: 0.1340412199497223, ATE_hat: 0.114458829164505, loss: 0.33676785230636597, balance: 0.5087719559669495\n",
      "val_loss: 0.00282606715336442, ATE: 0.06527000665664673, ATE_hat: 0.06556817889213562, loss: 0.29465344548225403, balance: 0.5175438523292542\n",
      "val_loss: 0.0029766380321234465, ATE: 0.27794772386550903, ATE_hat: 0.11497867107391357, loss: 0.4190037250518799, balance: 0.41228070855140686\n",
      "val_loss: 0.0034844393376260996, ATE: 0.02420908212661743, ATE_hat: 0.11891481280326843, loss: 0.3924705982208252, balance: 0.4912280738353729\n"
     ]
    }
   ],
   "source": [
    "cnn2.train(data_loader, epochs=200, validation_data = {\"X\":torch.tensor(X_val).float(), \n",
    "                                              \"tau\":torch.Tensor(tau_val).float()})"
   ]
  },
  {
   "cell_type": "code",
   "execution_count": 31,
   "metadata": {},
   "outputs": [
    {
     "data": {
      "image/png": "[encoded data removed]",
      "text/plain": [
       "<Figure size 432x288 with 1 Axes>"
      ]
     },
     "metadata": {
      "needs_background": "light"
     },
     "output_type": "display_data"
    }
   ],
   "source": [
    "import matplotlib.pyplot as plt\n",
    "plt.plot(cnn2.val_loss)\n",
    "plt.show()"
   ]
  },
  {
   "cell_type": "markdown",
   "metadata": {},
   "source": [
    "For neural networks without hidden layer, we can compare the coefficients to the known true coefficients."
   ]
  },
  {
   "cell_type": "code",
   "execution_count": 32,
   "metadata": {},
   "outputs": [
    {
     "data": {
      "text/plain": [
       "0.09801189472366993"
      ]
     },
     "execution_count": 32,
     "metadata": {},
     "output_type": "execute_result"
    }
   ],
   "source": [
    "tau_zero"
   ]
  },
  {
   "cell_type": "code",
   "execution_count": 33,
   "metadata": {},
   "outputs": [
    {
     "data": {
      "text/plain": [
       "array([0.0971529], dtype=float32)"
      ]
     },
     "execution_count": 33,
     "metadata": {},
     "output_type": "execute_result"
    }
   ],
   "source": [
    "list(cnn2.net1.parameters())[1].detach().numpy()"
   ]
  },
  {
   "cell_type": "markdown",
   "metadata": {},
   "source": [
    "The estimated coefficients usually capture the direction and even approximate size of the effect."
   ]
  },
  {
   "cell_type": "code",
   "execution_count": 34,
   "metadata": {},
   "outputs": [
    {
     "data": {
      "text/plain": [
       "array([-0.00307794, -0.01166978, -0.00385822, -0.00118968, -0.00839613,\n",
       "       -0.01482367,  0.0107416 , -0.01228733, -0.00672245, -0.00236073])"
      ]
     },
     "execution_count": 34,
     "metadata": {},
     "output_type": "execute_result"
    }
   ],
   "source": [
    "coef_tau"
   ]
  },
  {
   "cell_type": "code",
   "execution_count": 35,
   "metadata": {},
   "outputs": [
    {
     "data": {
      "text/plain": [
       "array([[ 0.00299329, -0.01730319, -0.00615218,  0.00632256, -0.01877621,\n",
       "        -0.01581331,  0.01221997, -0.0279921 ,  0.00436302,  0.00056852]],\n",
       "      dtype=float32)"
      ]
     },
     "execution_count": 35,
     "metadata": {},
     "output_type": "execute_result"
    }
   ],
   "source": [
    "list(cnn2.net1.parameters())[0].detach().numpy()"
   ]
  },
  {
   "cell_type": "markdown",
   "metadata": {},
   "source": [
    "The predicted treatment effects are usually not a accurate estimate of the true individual treatment effects, but correlation is often high."
   ]
  },
  {
   "cell_type": "code",
   "execution_count": 36,
   "metadata": {},
   "outputs": [],
   "source": [
    "pred = cnn2.net1(torch.tensor(X).float()).detach().numpy()"
   ]
  },
  {
   "cell_type": "code",
   "execution_count": 37,
   "metadata": {},
   "outputs": [
    {
     "name": "stdout",
     "output_type": "stream",
     "text": [
      "0.09786279375105283 0.027739007909583484\n",
      "0.097075194 0.044248715\n",
      "[[1.        0.8558968]\n",
      " [0.8558968 1.       ]]\n"
     ]
    }
   ],
   "source": [
    "print(tau.mean(), tau.std())\n",
    "print(pred.mean(), pred.std())\n",
    "print(np.corrcoef(tau,pred.flatten(), rowvar=False))"
   ]
  },
  {
   "cell_type": "code",
   "execution_count": 38,
   "metadata": {},
   "outputs": [
    {
     "data": {
      "text/plain": [
       "array([0.05481749, 0.08407508, 0.09644684, 0.10432093, 0.04511233,\n",
       "       0.17318489, 0.14628927, 0.16647863, 0.03747349, 0.06683242],\n",
       "      dtype=float32)"
      ]
     },
     "execution_count": 38,
     "metadata": {},
     "output_type": "execute_result"
    }
   ],
   "source": [
    "pred.flatten()[:10]"
   ]
  },
  {
   "cell_type": "code",
   "execution_count": 39,
   "metadata": {},
   "outputs": [
    {
     "data": {
      "text/plain": [
       "array([0.07974348, 0.08498332, 0.10089869, 0.08148552, 0.06959321,\n",
       "       0.13259103, 0.1152406 , 0.12448763, 0.05613586, 0.07686927])"
      ]
     },
     "execution_count": 39,
     "metadata": {},
     "output_type": "execute_result"
    }
   ],
   "source": [
    "tau[:10]"
   ]
  },
  {
   "cell_type": "code",
   "execution_count": null,
   "metadata": {},
   "outputs": [],
   "source": []
  }
 ],
 "metadata": {
  "kernelspec": {
   "display_name": "Python [deeplearning]",
   "language": "python",
   "name": "Python [deeplearning]"
  },
  "language_info": {
   "codemirror_mode": {
    "name": "ipython",
    "version": 3
   },
   "file_extension": ".py",
   "mimetype": "text/x-python",
   "name": "python",
   "nbconvert_exporter": "python",
   "pygments_lexer": "ipython3",
   "version": "3.6.7"
  }
 },
 "nbformat": 4,
 "nbformat_minor": 2
}
