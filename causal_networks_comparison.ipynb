{
 "cells": [
  {
   "cell_type": "code",
   "execution_count": 1,
   "metadata": {},
   "outputs": [],
   "source": [
    "import numpy as np\n",
    "import pandas as pd\n",
    "from collections import OrderedDict\n",
    "\n",
    "import torch\n",
    "import torch.nn as nn\n",
    "import torch.nn.functional as F\n",
    "from torch.autograd import Variable\n",
    "\n",
    "from torch.utils.data import Dataset, DataLoader\n",
    "\n",
    "from torch.optim import SGD, Adam\n",
    "\n",
    "from tqdm import tqdm\n",
    "\n",
    "import matplotlib.pyplot as plt"
   ]
  },
  {
   "cell_type": "markdown",
   "metadata": {},
   "source": [
    "The model is a standard multi-layer perceptron. Classification only requires a change to the output activation from None to sigmoid."
   ]
  },
  {
   "cell_type": "code",
   "execution_count": 2,
   "metadata": {},
   "outputs": [],
   "source": [
    "class nnet(nn.Module):\n",
    "    def __init__(self, input_dim, hidden_layer_sizes):\n",
    "        super(nnet, self).__init__()\n",
    "        \n",
    "        self.input_dim = input_dim\n",
    "        self.layer_sizes = hidden_layer_sizes\n",
    "        self.iter = 0\n",
    "        \n",
    "        hidden_layer_sizes = hidden_layer_sizes + [1] # Output layer\n",
    "        first_layer = nn.Linear(input_dim, hidden_layer_sizes[0])\n",
    "        self.layers = nn.ModuleList(\n",
    "            [first_layer] +\\\n",
    "            [nn.Linear(input_, output_)\n",
    "             for input_, output_ in \n",
    "             zip(hidden_layer_sizes, hidden_layer_sizes[1:])])\n",
    "\n",
    "        \n",
    "    def forward(self, x):\n",
    "        for layer in self.layers[:-1]:\n",
    "            x = F.relu(layer(x))\n",
    "        x = self.layers[-1](x)\n",
    "        \n",
    "        return x\n",
    "    \n",
    "    def train(self, data_loader, epochs):\n",
    "        for epoch in range(epochs):\n",
    "            loss = self._train_iteration(data_loader)\n",
    "            if epoch % 5 == 0:\n",
    "                print(f\"loss: {loss}\")\n",
    "                \n",
    "    def _train_iteration(self,data_loader):\n",
    "        for i, (X,y,g) in enumerate(data_loader):\n",
    "            \n",
    "            X = X.float()\n",
    "            y = y.unsqueeze(1).float()\n",
    "            \n",
    "            X = Variable(X, requires_grad=True)\n",
    "            y = Variable(y, requires_grad=True)\n",
    "                      \n",
    "            pred = self(X)\n",
    "            loss = ((y - pred)**2).mean()\n",
    "            \n",
    "            optim.zero_grad()\n",
    "            loss.backward()\n",
    "            optim.step()\n",
    "               \n",
    "        return loss.detach().numpy()"
   ]
  },
  {
   "cell_type": "markdown",
   "metadata": {},
   "source": [
    "# Data"
   ]
  },
  {
   "cell_type": "markdown",
   "metadata": {},
   "source": [
    "The data generating process works as follows (story just for reference):\n",
    "Revenue ($y_i$) depends on some characteristics $X_i$ of the customer i. Customers are given a coupon (treatment $g_i$) with 50% probability . Customer who receive a coupon will spend more or less money (treatment effect $\\tau_i$) depending linearly on their characteristics.\n",
    "\n",
    "$$y_i = X_i ^\\top \\beta_X + g_i \\cdot (\\tau_0 + X_i ^\\top \\beta_{\\tau} + \\epsilon^{\\tau}_i) + \\epsilon_i$$\n",
    "\n",
    "with \n",
    "\n",
    "$$\\epsilon_i \\sim \\text{Normal}(mean = 0, std = 0.1)$$\n",
    "\n",
    "$$g_i \\sim \\text{Bernoulli}(p=0.5)$$\n",
    "$$\\epsilon^{\\tau}_i \\sim \\text{Normal}(mean = 0, std = 0.001)$$\n",
    "\n",
    "I think there is merit to the assumption that the true reponse model is often more complex than the model behind the heterogeneity of treatment effects. \n"
   ]
  },
  {
   "cell_type": "code",
   "execution_count": 3,
   "metadata": {},
   "outputs": [],
   "source": [
    "#from scipy.stats import logistic\n",
    "\n",
    "def generate_experiment(n_obs,n_var, tau=None):\n",
    "    X = np.random.multivariate_normal(\n",
    "             np.zeros(n_var),\n",
    "             np.eye(n_var)*1,\n",
    "             n_obs\n",
    "             )\n",
    "    \n",
    "    \n",
    "    # Linear effects\n",
    "    beta     = np.random.normal(loc=0, scale=0.1, size=n_var)\n",
    "    # Non-linear effects (optional)\n",
    "    beta_X2  = np.random.normal(loc=0, scale=0.1, size=n_var)\n",
    "    # Linear effects on treatment effect\n",
    "    beta_tau = np.random.normal(loc=0.01, scale=0.1, size=n_var)\n",
    "    # Baseline treatment effect\n",
    "    tau_zero = np.random.normal(0.1,0.01)\n",
    "    \n",
    "    g = np.hstack([np.ones(n_obs//2), np.zeros(n_obs//2)])\n",
    "        #np.random.binomial(1,0.5,size=n_obs)\n",
    "        \n",
    "    if tau is None:\n",
    "        tau = tau_zero + np.dot(X,beta_tau) + np.random.normal(scale=0.001, size=n_obs)\n",
    "        \n",
    "    y = np.dot(X,beta) +\\\n",
    "        np.dot(np.power(X,2),beta_X2) +\\\n",
    "        g * tau + np.random.normal(scale=1, size=n_obs)\n",
    "    \n",
    "    \n",
    "    return X, y, g, tau, beta, beta_X2, tau_zero, beta_tau\n",
    "    \n",
    "    "
   ]
  },
  {
   "cell_type": "markdown",
   "metadata": {},
   "source": [
    "The Dataloader is currently a random sampler (see below) that returns $X_i$, $y_i$ and $g_i$ for a batch. \n",
    "\n",
    "TODO: I think a batch sampler stratified on $g$ makes more sense."
   ]
  },
  {
   "cell_type": "code",
   "execution_count": 4,
   "metadata": {},
   "outputs": [],
   "source": [
    "class ExperimentData(Dataset):\n",
    "    def __init__(self, X, y, g):\n",
    "        self.X = X\n",
    "        self.y = y\n",
    "        self.g = g\n",
    "        \n",
    "    def __len__(self):\n",
    "        return X.shape[0]\n",
    "    \n",
    "    def __getitem__(self, idx):\n",
    "        return X[idx,:], y[idx], g[idx]\n",
    "                "
   ]
  },
  {
   "cell_type": "code",
   "execution_count": 5,
   "metadata": {},
   "outputs": [],
   "source": [
    "X, y, g, tau, coef, coef_x2, tau_zero, coef_tau = generate_experiment(20000,10, tau=None)"
   ]
  },
  {
   "cell_type": "code",
   "execution_count": 6,
   "metadata": {},
   "outputs": [],
   "source": [
    "from sklearn.model_selection import train_test_split, StratifiedShuffleSplit\n",
    "splitter = StratifiedShuffleSplit(n_splits=2, test_size=0.5)\n",
    "idx_train, idx_test = next(splitter.split(X,g))"
   ]
  },
  {
   "cell_type": "code",
   "execution_count": 7,
   "metadata": {},
   "outputs": [],
   "source": [
    "import json\n",
    "with open('data/nonlinear_random_experiment_190313.json', 'w') as fp:\n",
    "    json.dump({\n",
    "        \"X\":X.tolist(), \"y\":y.tolist(), \n",
    "        \"g\":g.tolist(), \"tau\":tau.tolist(), \n",
    "        \"coef\":coef.tolist(), \"coef_x2\":coef_x2.tolist(), \n",
    "        \"tau_zero\":tau_zero, \"coef_tau\":coef_tau.tolist(),\n",
    "        \"train_idx\":idx_train.tolist()\n",
    "    }, fp)"
   ]
  },
  {
   "cell_type": "code",
   "execution_count": 8,
   "metadata": {},
   "outputs": [],
   "source": [
    "X_val, y_val, g_val, tau_val = [obj[idx_train] for obj in [X,y,g,tau]]\n",
    "X, y, g, tau, = [obj[idx_train] for obj in [X,y,g,tau]]\n",
    "\n",
    "X, X_val, y, y_val, g, g_val, tau, tau_val = train_test_split(X,y,g,tau, stratify=g)"
   ]
  },
  {
   "cell_type": "markdown",
   "metadata": {},
   "source": [
    "For evaluation in the simulation context, I assume that the treatment effects are known and calculate the accuracy on the model in estimating the treatment effects on a holdout validation set. In practice, the true treatment effects are unknown, of course, so holdout evaluation is an open question."
   ]
  },
  {
   "cell_type": "code",
   "execution_count": 9,
   "metadata": {},
   "outputs": [
    {
     "data": {
      "text/plain": [
       "(0.05743843740773068, 1.1224788527068903)"
      ]
     },
     "execution_count": 9,
     "metadata": {},
     "output_type": "execute_result"
    }
   ],
   "source": [
    "np.mean(y), np.std(y)"
   ]
  },
  {
   "cell_type": "markdown",
   "metadata": {},
   "source": [
    "ATE summary statistics. These should be stable to confirm that the info-noise ratio in the data is not too high."
   ]
  },
  {
   "cell_type": "code",
   "execution_count": 10,
   "metadata": {},
   "outputs": [
    {
     "name": "stdout",
     "output_type": "stream",
     "text": [
      "Baseline treatment effect (True ATE):0.10380047919005067\n",
      "Sample treatment effect (ITE Mean, ITE Std.): (0.09799812983297236, 0.34538359032647176)\n",
      "Empirical ATE: 0.10548894867393199\n"
     ]
    }
   ],
   "source": [
    "# True ATE and standard deviation of individual treatment effects\n",
    "print(f\"Baseline treatment effect (True ATE):{tau_zero}\")\n",
    "print(f\"Sample treatment effect (ITE Mean, ITE Std.): {np.mean(tau), np.std(tau)}\")\n",
    "print(f\"Empirical ATE: {np.mean(y[g==1]) - np.mean(y[g==0])}\")"
   ]
  },
  {
   "cell_type": "code",
   "execution_count": 11,
   "metadata": {},
   "outputs": [
    {
     "name": "stdout",
     "output_type": "stream",
     "text": [
      "Baseline MSE for treatment effect prediction on validation data:      0.12391618297544664\n"
     ]
    }
   ],
   "source": [
    "print(f\"Baseline MSE for treatment effect prediction on validation data:\\\n",
    "      {np.mean((tau_val - (np.mean(y[g==1]) - np.mean(y[g==0])))**2)}\")"
   ]
  },
  {
   "cell_type": "code",
   "execution_count": 12,
   "metadata": {},
   "outputs": [],
   "source": [
    "data = ExperimentData(X,y,g)"
   ]
  },
  {
   "cell_type": "markdown",
   "metadata": {},
   "source": [
    "## Setup"
   ]
  },
  {
   "cell_type": "code",
   "execution_count": 13,
   "metadata": {},
   "outputs": [],
   "source": [
    "pred = OrderedDict()\n",
    "pred_val = OrderedDict()"
   ]
  },
  {
   "cell_type": "code",
   "execution_count": 14,
   "metadata": {},
   "outputs": [],
   "source": [
    "pred[\"ATE\"] = (y[g==1].mean()-y[g==0].mean()) * np.ones([X.shape[0]])\n",
    "pred_val[\"ATE\"] = y[g==1].mean()-y[g==0].mean() * np.ones([X_val.shape[0]])"
   ]
  },
  {
   "cell_type": "markdown",
   "metadata": {},
   "source": [
    "## Two-model causal net (T-Learner)"
   ]
  },
  {
   "cell_type": "markdown",
   "metadata": {},
   "source": [
    "## Model"
   ]
  },
  {
   "cell_type": "code",
   "execution_count": 15,
   "metadata": {},
   "outputs": [],
   "source": [
    "class TNet(nn.Module):\n",
    "    def __init__(self, input_dim, hidden_layer_sizes):\n",
    "        super().__init__()\n",
    "        self.net0 = nnet(input_dim, hidden_layer_sizes)\n",
    "        self.net1 = nnet(input_dim, hidden_layer_sizes)\n",
    "        self.loss = []\n",
    "        self.val_loss = []\n",
    "        \n",
    "    def forward(self, X):\n",
    "        treatment_effect = self.net1(X) - self.net0(X)\n",
    "        return treatment_effect\n",
    "    \n",
    "    def train(self, data_loader, epochs, validation_data=None):\n",
    "        for epoch in range(epochs):\n",
    "            ATE, ATE_hat, loss, g_ratio = self._train_iteration(data_loader)\n",
    "            self.loss.append(loss)\n",
    "            if epoch % 5 == 0:\n",
    "                if validation_data is not None:\n",
    "                    tau_hat = self(validation_data['X'])\n",
    "                    val_loss = (validation_data['tau'] - tau_hat).pow(2).mean().detach().numpy()\n",
    "                    self.val_loss.append(val_loss)\n",
    "                    print(f\"val_loss: {val_loss}, ATE: {ATE}, ATE_hat: {ATE_hat}, loss: {loss}, balance: {g_ratio}\")\n",
    "                else:\n",
    "                    print(f\"ATE: {ATE}, ATE_hat: {ATE_hat}, loss: {loss}, balance: {g_ratio}\")\n",
    "            \n",
    "    \n",
    "    def _train_iteration(self,data_loader):\n",
    "        for i, (X,y,g) in enumerate(data_loader):\n",
    "            \n",
    "            X = X.float()\n",
    "            y = y.unsqueeze(1).float()\n",
    "            \n",
    "            X0 = Variable(X[g==0,:])\n",
    "            y0 = Variable(y[g==0])\n",
    "            \n",
    "            X1 = Variable(X[g==1,:])\n",
    "            y1 = Variable(y[g==1])\n",
    "            \n",
    "            g_ratio = g.float().mean()\n",
    "            \n",
    "            response0 = self.net0(X0)\n",
    "            loss0 = ((y0 - response0)**2).mean()\n",
    "            \n",
    "            response1 = self.net1(X1)\n",
    "            loss1 = ((y1 - response1)**2).mean()\n",
    "            \n",
    "            loss = loss1 + loss0\n",
    "\n",
    "            treatment_effect = self(X)\n",
    "            \n",
    "            ATE_hat = treatment_effect.mean()\n",
    "            ATE     = y1.mean() - y0.mean()\n",
    "            # MSE\n",
    "            loss_treatment = (ATE - ATE_hat)**2            \n",
    "\n",
    "            self.net0.zero_grad()\n",
    "            loss0.backward()\n",
    "            optim0.step()\n",
    "            \n",
    "            self.net1.zero_grad()\n",
    "            loss1.backward()\n",
    "            optim1.step()\n",
    "                \n",
    "            \n",
    "        return ATE.detach().numpy(), ATE_hat.detach().numpy(), loss.detach().numpy(), g_ratio\n",
    "            "
   ]
  },
  {
   "cell_type": "markdown",
   "metadata": {},
   "source": [
    "### Simulation"
   ]
  },
  {
   "cell_type": "markdown",
   "metadata": {},
   "source": [
    "We can train two FFNN without hidden layers as equivalent to a linear model. Note that this model is misspecified, because it ignores the non-linearity!"
   ]
  },
  {
   "cell_type": "code",
   "execution_count": 16,
   "metadata": {},
   "outputs": [],
   "source": [
    "tnet = TNet(10, [])"
   ]
  },
  {
   "cell_type": "code",
   "execution_count": 17,
   "metadata": {},
   "outputs": [],
   "source": [
    "data_loader = DataLoader(data, batch_size=256, shuffle=True)"
   ]
  },
  {
   "cell_type": "code",
   "execution_count": 18,
   "metadata": {},
   "outputs": [],
   "source": [
    "optim0 = Adam(tnet.net0.parameters(), lr=0.001)\n",
    "optim1 = Adam(tnet.net1.parameters(), lr=0.001)"
   ]
  },
  {
   "cell_type": "code",
   "execution_count": 19,
   "metadata": {},
   "outputs": [
    {
     "name": "stdout",
     "output_type": "stream",
     "text": [
      "val_loss: 0.6044944524765015, ATE: 0.08315280079841614, ATE_hat: -0.23389367759227753, loss: 2.6908493041992188, balance: 0.4868420958518982\n",
      "val_loss: 0.3290735185146332, ATE: -0.046202488243579865, ATE_hat: -0.008193578571081161, loss: 3.5133466720581055, balance: 0.4868420958518982\n",
      "val_loss: 0.23180529475212097, ATE: 0.20888204872608185, ATE_hat: 0.022446149960160255, loss: 2.055600881576538, balance: 0.3552631437778473\n",
      "val_loss: 0.20777800679206848, ATE: 0.15357184410095215, ATE_hat: 0.11933031678199768, loss: 2.3885881900787354, balance: 0.5131579041481018\n",
      "val_loss: 0.2066866010427475, ATE: 0.5404994487762451, ATE_hat: 0.11378024518489838, loss: 2.566412925720215, balance: 0.5921052694320679\n",
      "val_loss: 0.21714767813682556, ATE: 0.21789175271987915, ATE_hat: 0.11320031434297562, loss: 2.34797739982605, balance: 0.5394737124443054\n",
      "val_loss: 0.22840732336044312, ATE: 0.05192151665687561, ATE_hat: 0.10528958588838577, loss: 1.7102501392364502, balance: 0.4736842215061188\n",
      "val_loss: 0.23864483833312988, ATE: -0.08445407450199127, ATE_hat: 0.10093353688716888, loss: 2.005052328109741, balance: 0.42105263471603394\n",
      "val_loss: 0.2501694858074188, ATE: -0.09850610792636871, ATE_hat: 0.07172425091266632, loss: 2.5749402046203613, balance: 0.5394737124443054\n",
      "val_loss: 0.2550601065158844, ATE: 0.5062636137008667, ATE_hat: 0.03125119209289551, loss: 2.290069580078125, balance: 0.5657894611358643\n",
      "val_loss: 0.25845983624458313, ATE: 0.21390777826309204, ATE_hat: 0.08375965803861618, loss: 2.190279960632324, balance: 0.3947368562221527\n",
      "val_loss: 0.2621299922466278, ATE: 0.0037404298782348633, ATE_hat: 0.10650776326656342, loss: 1.509617805480957, balance: 0.40789473056793213\n",
      "val_loss: 0.2609601318836212, ATE: 0.24540841579437256, ATE_hat: 0.16595116257667542, loss: 2.0575311183929443, balance: 0.5131579041481018\n",
      "val_loss: 0.2557942867279053, ATE: 0.27594059705734253, ATE_hat: 0.08881980925798416, loss: 2.114579677581787, balance: 0.4736842215061188\n",
      "val_loss: 0.2593303322792053, ATE: 0.1931612491607666, ATE_hat: 0.09661246091127396, loss: 2.376858711242676, balance: 0.4868420958518982\n",
      "val_loss: 0.2554715871810913, ATE: -0.015122814103960991, ATE_hat: 0.15918679535388947, loss: 2.3716909885406494, balance: 0.5263158082962036\n",
      "val_loss: 0.2624492347240448, ATE: -0.03253370523452759, ATE_hat: 0.12633903324604034, loss: 2.686113119125366, balance: 0.5657894611358643\n",
      "val_loss: 0.26042601466178894, ATE: 0.01896507665514946, ATE_hat: 0.06701313704252243, loss: 1.93861985206604, balance: 0.4868420958518982\n",
      "val_loss: 0.258321076631546, ATE: -0.32068932056427, ATE_hat: 0.07525662332773209, loss: 2.342745065689087, balance: 0.5394737124443054\n",
      "val_loss: 0.2615024745464325, ATE: 0.3877224326133728, ATE_hat: 0.1166389137506485, loss: 2.342446804046631, balance: 0.5131579041481018\n",
      "val_loss: 0.2601907253265381, ATE: -0.04951988533139229, ATE_hat: 0.08209160715341568, loss: 2.1769120693206787, balance: 0.5657894611358643\n",
      "val_loss: 0.25977152585983276, ATE: -0.35819491744041443, ATE_hat: 0.06483948230743408, loss: 2.407595157623291, balance: 0.5\n",
      "val_loss: 0.25905463099479675, ATE: 0.03301362693309784, ATE_hat: 0.12470994144678116, loss: 2.087855815887451, balance: 0.4736842215061188\n",
      "val_loss: 0.2623862326145172, ATE: 0.060128942131996155, ATE_hat: 0.09947509318590164, loss: 2.0126595497131348, balance: 0.5131579041481018\n",
      "val_loss: 0.260320246219635, ATE: 0.4065748155117035, ATE_hat: 0.07399766147136688, loss: 2.3524999618530273, balance: 0.5263158082962036\n",
      "val_loss: 0.25926584005355835, ATE: -0.014727137982845306, ATE_hat: 0.12346601486206055, loss: 2.426440715789795, balance: 0.46052631735801697\n",
      "val_loss: 0.25924885272979736, ATE: 0.13768832385540009, ATE_hat: 0.07334210723638535, loss: 1.771522045135498, balance: 0.5526315569877625\n",
      "val_loss: 0.2584768831729889, ATE: -0.1423599272966385, ATE_hat: 0.07125068455934525, loss: 2.110952615737915, balance: 0.3815789520740509\n",
      "val_loss: 0.2601218819618225, ATE: 0.2994414269924164, ATE_hat: 0.145687997341156, loss: 1.7781107425689697, balance: 0.5657894611358643\n",
      "val_loss: 0.26091668009757996, ATE: 0.3022204339504242, ATE_hat: 0.13280834257602692, loss: 2.5732064247131348, balance: 0.32894736528396606\n",
      "val_loss: 0.2579587697982788, ATE: 0.23622199892997742, ATE_hat: 0.14886321127414703, loss: 2.01116943359375, balance: 0.5263158082962036\n",
      "val_loss: 0.2583944499492645, ATE: -0.12991081178188324, ATE_hat: 0.14529110491275787, loss: 1.8490805625915527, balance: 0.44736841320991516\n",
      "val_loss: 0.2621239423751831, ATE: -0.02497982233762741, ATE_hat: 0.09618087857961655, loss: 2.230764150619507, balance: 0.4868420958518982\n",
      "val_loss: 0.25887054204940796, ATE: 0.010215803980827332, ATE_hat: 0.11805304884910583, loss: 2.059903621673584, balance: 0.5394737124443054\n",
      "val_loss: 0.25709497928619385, ATE: 0.4104679226875305, ATE_hat: 0.12485629320144653, loss: 2.183198928833008, balance: 0.5\n",
      "val_loss: 0.25620684027671814, ATE: 0.12582933902740479, ATE_hat: 0.14674901962280273, loss: 2.3020389080047607, balance: 0.4736842215061188\n",
      "val_loss: 0.2586403787136078, ATE: -0.10867734998464584, ATE_hat: 0.12174329906702042, loss: 2.476780414581299, balance: 0.4736842215061188\n",
      "val_loss: 0.2620348334312439, ATE: 0.0876028835773468, ATE_hat: 0.07194438576698303, loss: 2.195492744445801, balance: 0.43421053886413574\n",
      "val_loss: 0.2605288326740265, ATE: -0.11521090567111969, ATE_hat: 0.08354347944259644, loss: 2.345632553100586, balance: 0.5394737124443054\n",
      "val_loss: 0.25657954812049866, ATE: -0.05467762053012848, ATE_hat: 0.08198992162942886, loss: 2.222660541534424, balance: 0.4736842215061188\n",
      "val_loss: 0.25719204545021057, ATE: 0.18567834794521332, ATE_hat: 0.05380326882004738, loss: 2.4833781719207764, balance: 0.5657894611358643\n",
      "val_loss: 0.2582705020904541, ATE: 0.45769262313842773, ATE_hat: 0.16069144010543823, loss: 1.8136568069458008, balance: 0.43421053886413574\n",
      "val_loss: 0.26009654998779297, ATE: 0.5008409023284912, ATE_hat: 0.14914381504058838, loss: 2.2019870281219482, balance: 0.43421053886413574\n",
      "val_loss: 0.26216229796409607, ATE: 0.02903907001018524, ATE_hat: 0.08291947841644287, loss: 1.9318352937698364, balance: 0.5131579041481018\n",
      "val_loss: 0.26297199726104736, ATE: 0.20349161326885223, ATE_hat: 0.16390591859817505, loss: 2.502978801727295, balance: 0.40789473056793213\n",
      "val_loss: 0.2610391676425934, ATE: 0.2405880093574524, ATE_hat: 0.20814861357212067, loss: 2.0310537815093994, balance: 0.6315789222717285\n",
      "val_loss: 0.2598384916782379, ATE: 0.3391876220703125, ATE_hat: 0.16503320634365082, loss: 1.9230985641479492, balance: 0.5394737124443054\n",
      "val_loss: 0.2612168788909912, ATE: 0.3985699713230133, ATE_hat: 0.029314661398530006, loss: 2.4264943599700928, balance: 0.3815789520740509\n",
      "val_loss: 0.2584202289581299, ATE: -0.07209119945764542, ATE_hat: 0.12940718233585358, loss: 1.7816227674484253, balance: 0.5789473652839661\n",
      "val_loss: 0.26022326946258545, ATE: 0.24981841444969177, ATE_hat: 0.10446885228157043, loss: 2.2791175842285156, balance: 0.5394737124443054\n",
      "val_loss: 0.259206622838974, ATE: 0.1459035724401474, ATE_hat: 0.14922410249710083, loss: 2.143695116043091, balance: 0.4736842215061188\n",
      "val_loss: 0.2566010355949402, ATE: 0.17659690976142883, ATE_hat: 0.07470366358757019, loss: 2.2618658542633057, balance: 0.44736841320991516\n",
      "val_loss: 0.26156163215637207, ATE: 0.4174269735813141, ATE_hat: 0.06571925431489944, loss: 2.2479159832000732, balance: 0.5394737124443054\n",
      "val_loss: 0.2613709270954132, ATE: 0.04300815239548683, ATE_hat: 0.07780370116233826, loss: 1.3770910501480103, balance: 0.5131579041481018\n",
      "val_loss: 0.258881151676178, ATE: 0.13460686802864075, ATE_hat: 0.10349120199680328, loss: 2.1134095191955566, balance: 0.4736842215061188\n",
      "val_loss: 0.2623414397239685, ATE: 0.2754887342453003, ATE_hat: 0.12908591330051422, loss: 2.5865797996520996, balance: 0.46052631735801697\n",
      "val_loss: 0.25598791241645813, ATE: 0.05678638815879822, ATE_hat: 0.11056657880544662, loss: 2.8014793395996094, balance: 0.5394737124443054\n",
      "val_loss: 0.26011332869529724, ATE: -0.3857477307319641, ATE_hat: 0.0700032114982605, loss: 1.827714443206787, balance: 0.5657894611358643\n",
      "val_loss: 0.2600206732749939, ATE: 0.019328318536281586, ATE_hat: 0.07356957346200943, loss: 2.0552978515625, balance: 0.43421053886413574\n",
      "val_loss: 0.26344913244247437, ATE: 0.2271507978439331, ATE_hat: 0.08576256036758423, loss: 1.7524738311767578, balance: 0.5394737124443054\n"
     ]
    }
   ],
   "source": [
    "tnet.train(data_loader, epochs=300, validation_data = {\"X\":torch.tensor(X_val).float(), \n",
    "                                              \"tau\":torch.Tensor(tau_val).float()})"
   ]
  },
  {
   "cell_type": "code",
   "execution_count": 20,
   "metadata": {},
   "outputs": [
    {
     "data": {
      "image/png": "[encoded data removed]",
      "text/plain": [
       "<Figure size 432x288 with 1 Axes>"
      ]
     },
     "metadata": {
      "needs_background": "light"
     },
     "output_type": "display_data"
    }
   ],
   "source": [
    "import matplotlib.pyplot as plt\n",
    "plt.plot(tnet.val_loss[2:])\n",
    "plt.show()"
   ]
  },
  {
   "cell_type": "markdown",
   "metadata": {},
   "source": [
    "For neural networks without hidden layer, we can compare the coefficients to the known true coefficients."
   ]
  },
  {
   "cell_type": "code",
   "execution_count": 21,
   "metadata": {},
   "outputs": [],
   "source": [
    "pred['tnet'] = tnet(torch.tensor(X).float()).detach().numpy()\n",
    "pred_val['tnet'] = tnet(torch.tensor(X_val).float()).detach().numpy()"
   ]
  },
  {
   "cell_type": "markdown",
   "metadata": {},
   "source": [
    "The ATE is usually approximately correct."
   ]
  },
  {
   "cell_type": "code",
   "execution_count": 22,
   "metadata": {},
   "outputs": [
    {
     "data": {
      "text/plain": [
       "0.10380047919005067"
      ]
     },
     "execution_count": 22,
     "metadata": {},
     "output_type": "execute_result"
    }
   ],
   "source": [
    "tau_zero"
   ]
  },
  {
   "cell_type": "code",
   "execution_count": 23,
   "metadata": {},
   "outputs": [
    {
     "data": {
      "text/plain": [
       "0.11168234"
      ]
     },
     "execution_count": 23,
     "metadata": {},
     "output_type": "execute_result"
    }
   ],
   "source": [
    "pred['tnet'].mean()"
   ]
  },
  {
   "cell_type": "markdown",
   "metadata": {},
   "source": [
    "Correlation between predicted and actual treatment effects is highly positive"
   ]
  },
  {
   "cell_type": "code",
   "execution_count": 24,
   "metadata": {},
   "outputs": [
    {
     "name": "stdout",
     "output_type": "stream",
     "text": [
      "0.09799812983297236 0.34538359032647176\n",
      "0.11168234 0.35698712\n",
      "[[1.         0.97512691]\n",
      " [0.97512691 1.        ]]\n"
     ]
    }
   ],
   "source": [
    "print(tau.mean(), tau.std())\n",
    "print(pred['tnet'].mean(), pred['tnet'].std())\n",
    "print(np.corrcoef(tau,pred['tnet'].flatten(), rowvar=False))"
   ]
  },
  {
   "cell_type": "code",
   "execution_count": 25,
   "metadata": {},
   "outputs": [
    {
     "data": {
      "text/plain": [
       "array([-0.11112738,  0.10563691,  0.09471646, -0.45630848, -0.36827728,\n",
       "        0.27307937, -0.2223877 , -0.26845756,  0.38340265, -0.20004234],\n",
       "      dtype=float32)"
      ]
     },
     "execution_count": 25,
     "metadata": {},
     "output_type": "execute_result"
    }
   ],
   "source": [
    "pred['tnet'].flatten()[:10]"
   ]
  },
  {
   "cell_type": "code",
   "execution_count": 26,
   "metadata": {},
   "outputs": [
    {
     "data": {
      "text/plain": [
       "array([-0.01988365,  0.12072511,  0.1431697 , -0.43861269, -0.31420735,\n",
       "        0.21725887, -0.2357704 , -0.20820869,  0.45622765, -0.04514085])"
      ]
     },
     "execution_count": 26,
     "metadata": {},
     "output_type": "execute_result"
    }
   ],
   "source": [
    "tau[:10]"
   ]
  },
  {
   "cell_type": "code",
   "execution_count": 27,
   "metadata": {},
   "outputs": [
    {
     "data": {
      "image/png": "[encoded data removed]",
      "text/plain": [
       "<Figure size 432x288 with 1 Axes>"
      ]
     },
     "metadata": {
      "needs_background": "light"
     },
     "output_type": "display_data"
    }
   ],
   "source": [
    "plt.scatter(tau,pred['tnet'])\n",
    "plt.show()"
   ]
  },
  {
   "cell_type": "markdown",
   "metadata": {},
   "source": [
    "## Mini-batch ATE causal net"
   ]
  },
  {
   "cell_type": "markdown",
   "metadata": {},
   "source": [
    "### Model\n",
    "The two-model approach estimates two distinct models on the response variable, one for each group. The difference between the two estimates for the same observations is the treatment effect for a single observation. Disjoint estimation may result in models that are not well calibrated.\n",
    "\n",
    "Solution: Train a neural network to estimate the treatment effect directly. This is not possible for a single observation (-> fundamental problem of causal inference):\n",
    "\n",
    "$$ r_i = \\hat{\\tau}_i - \\tau_i, $$\n",
    "where $\\tau_i$ is of course unknown. \n",
    "\n",
    "We can however evaluate the total error for groups of observations $i \\in 1,\\ldots,N$:\n",
    "\n",
    "$$ \\sum^N r_i = \\sum^N \\hat{\\tau}_i - \\tau_i = \\sum^N \\hat{\\tau}_i - \\sum^N \\tau_i$$\n",
    "\n",
    "\n",
    "The sum treatment effect is only weakly informative for the treatment effect of a single observation and estimating the overall sum of treatment effects leaves too many degrees of freedom for the treatment effect of each observations. By using mini-batches instead, the summed individual treatment effects need to be correct not only for the population N, but also for each subset of the population $M \\in N$.\n",
    "\n",
    "The trick is in shuffling and reshuffling the observation between the batches. On the full sample, the model can get away with predicting the ATE for each observation. For the ATE *in each subset* to be correct, the model needs to predict the individual treatment effects correctly. \n",
    "\n",
    "TODO: Show this formally!"
   ]
  },
  {
   "cell_type": "code",
   "execution_count": 28,
   "metadata": {},
   "outputs": [],
   "source": [
    "class causalnet1(nn.Module):\n",
    "    def __init__(self, input_dim, hidden_layer_sizes, average_control_response=None):\n",
    "        super().__init__()\n",
    "        self.net = nnet(input_dim, hidden_layer_sizes)\n",
    "        self.loss = []\n",
    "        self.val_loss = []\n",
    "        self.average_control_response = average_control_response\n",
    "        \n",
    "    def forward(self, X):\n",
    "        treatment_effect = self.net(X)\n",
    "        return treatment_effect\n",
    "    \n",
    "    def train(self, data_loader, epochs, validation_data=None):\n",
    "        for epoch in range(epochs):\n",
    "            ATE, ATE_hat, loss, g_ratio = self._train_iteration(data_loader)\n",
    "            self.loss.append(loss)\n",
    "            if epoch % 5 == 0:\n",
    "                if validation_data is not None:\n",
    "                    tau_hat = self.net(validation_data['X'])\n",
    "                    val_loss = (validation_data['tau'] - tau_hat).pow(2).mean().detach().numpy()\n",
    "                    self.val_loss.append(val_loss)\n",
    "                    print(f\"val_loss: {val_loss}, ATE: {ATE}, ATE_hat: {ATE_hat}, loss: {loss}, balance: {g_ratio}\")\n",
    "                else:\n",
    "                    print(f\"ATE: {ATE}, ATE_hat: {ATE_hat}, loss: {loss}, balance: {g_ratio}\")\n",
    "            \n",
    "    \n",
    "    def _train_iteration(self,data_loader):\n",
    "        for i, (X,y,g) in enumerate(data_loader):\n",
    "            \n",
    "            X = X.float()\n",
    "            y = y.unsqueeze(1).float()\n",
    "            \n",
    "            X0 = Variable(X[g==0,:])\n",
    "            y0 = Variable(y[g==0])\n",
    "            \n",
    "            X1 = Variable(X[g==1,:])\n",
    "            y1 = Variable(y[g==1])\n",
    "            \n",
    "            g_ratio = g.float().mean()\n",
    "            \n",
    "#             response0 = self.net0(X0)\n",
    "#             loss0 = ((y0 - response0)**2).mean()\n",
    "            \n",
    "#             response1 = self.net1(X1)\n",
    "#             loss1 = ((y1 - response1)**2).mean()\n",
    "\n",
    "            treatment_effect = self(X[g==1])\n",
    "            ATE_hat = treatment_effect.mean()\n",
    "            \n",
    "            if self.average_control_response is None:\n",
    "                average_control_response = y0.mean()\n",
    "            else:\n",
    "                average_control_response = self.average_control_response\n",
    "            \n",
    "            ATE     = y1.mean() - average_control_response\n",
    "            # MSE\n",
    "            loss_treatment = (ATE - ATE_hat).pow(2)\n",
    "\n",
    "            \n",
    "#             if i % 2==0:\n",
    "#                 self.net0.zero_grad()\n",
    "#                 loss =  0*loss0 + loss_treatment\n",
    "#                 loss.backward()\n",
    "#                 optim0.step()\n",
    "#             else:\n",
    "            self.net.zero_grad()\n",
    "            loss =  loss_treatment\n",
    "            loss.backward()\n",
    "            optim.step()\n",
    "                \n",
    "            \n",
    "        return ATE.detach().numpy(), ATE_hat.detach().numpy(), loss.detach().numpy(), g_ratio\n",
    "            "
   ]
  },
  {
   "cell_type": "markdown",
   "metadata": {},
   "source": [
    "### Simulation"
   ]
  },
  {
   "cell_type": "markdown",
   "metadata": {},
   "source": [
    "We can train a FFNN without hidden layers as equivalent to a linear model."
   ]
  },
  {
   "cell_type": "code",
   "execution_count": 29,
   "metadata": {},
   "outputs": [],
   "source": [
    "cnn1 = causalnet1(10, [])#, average_control_response = torch.tensor(y[g==0].mean()))"
   ]
  },
  {
   "cell_type": "markdown",
   "metadata": {},
   "source": [
    "My intuition about the batch size is tradeoff: Too large and the signal from each observation becomes too small and predicting the ATE is the dominant strategy. Too small and the training becomes unstable."
   ]
  },
  {
   "cell_type": "markdown",
   "metadata": {},
   "source": [
    "TODO: A dynamic decrease in batch size could provide more and more information given that the model is stable enough to create decent estimates"
   ]
  },
  {
   "cell_type": "markdown",
   "metadata": {},
   "source": [
    "TODO: Ideally, the data loader will pass bs/2 observations of each the treatment and the control group, but this will take some coding, so I ignore it for now. For small batch sizes, it's currently possible that not both groups are present in the batch so the loss will return NaN and training fails."
   ]
  },
  {
   "cell_type": "code",
   "execution_count": 30,
   "metadata": {},
   "outputs": [],
   "source": [
    "data_loader = DataLoader(data, batch_size=500, shuffle=True)"
   ]
  },
  {
   "cell_type": "markdown",
   "metadata": {},
   "source": [
    "A low learning rate is possibly necessary to stabilize training given the noise in the ATE within each batch."
   ]
  },
  {
   "cell_type": "code",
   "execution_count": 31,
   "metadata": {},
   "outputs": [],
   "source": [
    "optim = Adam(cnn1.net.parameters(), lr=0.001)"
   ]
  },
  {
   "cell_type": "code",
   "execution_count": 32,
   "metadata": {},
   "outputs": [],
   "source": [
    "# optim0 = Adam(cnn.net0.parameters(), lr=0.001)\n",
    "# optim1 = Adam(cnn.net1.parameters(), lr=0.001)"
   ]
  },
  {
   "cell_type": "markdown",
   "metadata": {},
   "source": [
    "I train for more epochs to equalize the number of model updates, because the batches are bigger."
   ]
  },
  {
   "cell_type": "code",
   "execution_count": 33,
   "metadata": {},
   "outputs": [
    {
     "name": "stdout",
     "output_type": "stream",
     "text": [
      "val_loss: 0.7544888257980347, ATE: 0.045579709112644196, ATE_hat: -0.2375781387090683, loss: 0.08017837256193161, balance: 0.5059999823570251\n",
      "val_loss: 0.7176960110664368, ATE: 0.23482869565486908, ATE_hat: -0.151117742061615, loss: 0.14895465970039368, balance: 0.4819999933242798\n",
      "val_loss: 0.6890114545822144, ATE: -0.03269176557660103, ATE_hat: -0.05379202961921692, loss: 0.00044522114330902696, balance: 0.46000000834465027\n",
      "val_loss: 0.676437497138977, ATE: 0.1813630759716034, ATE_hat: -0.08347585797309875, loss: 0.07013966143131256, balance: 0.5440000295639038\n",
      "val_loss: 0.6519296765327454, ATE: 0.15246540307998657, ATE_hat: 0.053469277918338776, loss: 0.009800232946872711, balance: 0.5400000214576721\n",
      "val_loss: 0.628546416759491, ATE: 0.18143528699874878, ATE_hat: 0.05434519425034523, loss: 0.01615189202129841, balance: 0.5099999904632568\n",
      "val_loss: 0.6140576601028442, ATE: 0.04102277755737305, ATE_hat: 0.04864984378218651, loss: 5.8172139688394964e-05, balance: 0.5180000066757202\n",
      "val_loss: 0.5936571359634399, ATE: 0.05914158374071121, ATE_hat: 0.1213904470205307, loss: 0.0038749210070818663, balance: 0.4779999852180481\n",
      "val_loss: 0.5501493811607361, ATE: 0.14305461943149567, ATE_hat: 0.06506630778312683, loss: 0.006082176696509123, balance: 0.4819999933242798\n",
      "val_loss: 0.5249140858650208, ATE: 0.04197070002555847, ATE_hat: 0.06989587098360062, loss: 0.0007798151928000152, balance: 0.5120000243186951\n",
      "val_loss: 0.47788605093955994, ATE: 0.10183041542768478, ATE_hat: 0.10113953053951263, loss: 4.7732191887917e-07, balance: 0.5320000052452087\n",
      "val_loss: 0.45490556955337524, ATE: 0.09425108879804611, ATE_hat: 0.08165951073169708, loss: 0.00015854783123359084, balance: 0.5180000066757202\n",
      "val_loss: 0.434604674577713, ATE: 0.09216722846031189, ATE_hat: 0.10596609115600586, loss: 0.00019040860934183002, balance: 0.5339999794960022\n",
      "val_loss: 0.40428632497787476, ATE: 0.04802101105451584, ATE_hat: 0.10062246024608612, loss: 0.0027669125702232122, balance: 0.4819999933242798\n",
      "val_loss: 0.3852187693119049, ATE: 0.29286473989486694, ATE_hat: 0.0458725243806839, loss: 0.06100515276193619, balance: 0.4779999852180481\n",
      "val_loss: 0.3665958344936371, ATE: 0.31697195768356323, ATE_hat: 0.1281149834394455, loss: 0.03566695749759674, balance: 0.4860000014305115\n",
      "val_loss: 0.35659903287887573, ATE: 0.1525038480758667, ATE_hat: 0.14916644990444183, loss: 1.113822690967936e-05, balance: 0.5120000243186951\n",
      "val_loss: 0.3468788266181946, ATE: 0.1900164783000946, ATE_hat: 0.10330282151699066, loss: 0.007519258186221123, balance: 0.5120000243186951\n",
      "val_loss: 0.32908645272254944, ATE: 0.1719217151403427, ATE_hat: 0.07565559446811676, loss: 0.009267166256904602, balance: 0.49799999594688416\n",
      "val_loss: 0.3196271061897278, ATE: 0.18110516667366028, ATE_hat: 0.12019584327936172, loss: 0.003709945594891906, balance: 0.4959999918937683\n",
      "val_loss: 0.31264546513557434, ATE: 0.008777692914009094, ATE_hat: 0.11977504938840866, loss: 0.012320413254201412, balance: 0.5120000243186951\n",
      "val_loss: 0.29367178678512573, ATE: -0.08531368523836136, ATE_hat: 0.08691119402647018, loss: 0.029661409556865692, balance: 0.4699999988079071\n",
      "val_loss: 0.2731790840625763, ATE: 0.2986726760864258, ATE_hat: 0.11372946202754974, loss: 0.034203991293907166, balance: 0.4699999988079071\n",
      "val_loss: 0.261025071144104, ATE: 0.05120084434747696, ATE_hat: 0.0955401286482811, loss: 0.0019659721292555332, balance: 0.5\n",
      "val_loss: 0.2570621967315674, ATE: 0.06230325996875763, ATE_hat: 0.12878425419330597, loss: 0.004419722594320774, balance: 0.4819999933242798\n",
      "val_loss: 0.2475932538509369, ATE: 0.05627245455980301, ATE_hat: 0.09632831066846848, loss: 0.0016044715885072947, balance: 0.4880000054836273\n",
      "val_loss: 0.2453741729259491, ATE: 0.025799952447414398, ATE_hat: 0.10634689033031464, loss: 0.006487809121608734, balance: 0.4779999852180481\n",
      "val_loss: 0.23563896119594574, ATE: -0.0629865974187851, ATE_hat: 0.09788828343153, loss: 0.02588072419166565, balance: 0.5\n",
      "val_loss: 0.23536530137062073, ATE: 0.13316710293293, ATE_hat: 0.11855445802211761, loss: 0.00021352939074859023, balance: 0.5099999904632568\n",
      "val_loss: 0.22478726506233215, ATE: 0.12167249619960785, ATE_hat: 0.11243577301502228, loss: 8.531705680070445e-05, balance: 0.4959999918937683\n",
      "val_loss: 0.21724171936511993, ATE: 0.23962298035621643, ATE_hat: 0.10774058103561401, loss: 0.017392966896295547, balance: 0.5059999823570251\n",
      "val_loss: 0.21715879440307617, ATE: 0.01969306170940399, ATE_hat: 0.09404042363166809, loss: 0.0055275303311645985, balance: 0.5080000162124634\n",
      "val_loss: 0.21334952116012573, ATE: 0.007303196936845779, ATE_hat: 0.10951511561870575, loss: 0.010447276756167412, balance: 0.5\n",
      "val_loss: 0.21091358363628387, ATE: 0.17310108244419098, ATE_hat: 0.09618229418992996, loss: 0.005916499998420477, balance: 0.5\n",
      "val_loss: 0.20523686707019806, ATE: 0.07607128471136093, ATE_hat: 0.0771312490105629, loss: 1.123524270951748e-06, balance: 0.5120000243186951\n",
      "val_loss: 0.20057563483715057, ATE: 0.1265268474817276, ATE_hat: 0.14148598909378052, loss: 0.00022377591812983155, balance: 0.4880000054836273\n",
      "val_loss: 0.20329678058624268, ATE: 0.10795319825410843, ATE_hat: 0.10194122791290283, loss: 3.614378874772228e-05, balance: 0.5099999904632568\n",
      "val_loss: 0.19847850501537323, ATE: 0.08710998296737671, ATE_hat: 0.10037991404533386, loss: 0.00017609106726013124, balance: 0.5099999904632568\n",
      "val_loss: 0.195230633020401, ATE: 0.2039320021867752, ATE_hat: 0.09701278805732727, loss: 0.011431718245148659, balance: 0.5059999823570251\n",
      "val_loss: 0.1947612166404724, ATE: -0.027964778244495392, ATE_hat: 0.08654551953077316, loss: 0.013112608343362808, balance: 0.48399999737739563\n",
      "val_loss: 0.2030428946018219, ATE: 0.12332801520824432, ATE_hat: 0.08882348984479904, loss: 0.001190562266856432, balance: 0.5199999809265137\n",
      "val_loss: 0.20591384172439575, ATE: 0.3230763375759125, ATE_hat: 0.12139179557561874, loss: 0.040676649659872055, balance: 0.47600001096725464\n",
      "val_loss: 0.21192781627178192, ATE: 0.39582136273384094, ATE_hat: 0.11731535196304321, loss: 0.07756559550762177, balance: 0.5239999890327454\n",
      "val_loss: 0.21731962263584137, ATE: 0.09695111215114594, ATE_hat: 0.10073913633823395, loss: 1.4349127013701946e-05, balance: 0.47999998927116394\n",
      "val_loss: 0.21280832588672638, ATE: 0.09855500608682632, ATE_hat: 0.10749056935310364, loss: 7.984429248608649e-05, balance: 0.5040000081062317\n",
      "val_loss: 0.21810154616832733, ATE: -0.005886010825634003, ATE_hat: 0.07638118416070938, loss: 0.006767891347408295, balance: 0.5199999809265137\n",
      "val_loss: 0.22421342134475708, ATE: 0.2578868865966797, ATE_hat: 0.12167046219110489, loss: 0.018554916605353355, balance: 0.5299999713897705\n",
      "val_loss: 0.23759563267230988, ATE: 0.21311624348163605, ATE_hat: 0.13775824010372162, loss: 0.005678828805685043, balance: 0.5120000243186951\n",
      "val_loss: 0.24809706211090088, ATE: 0.1555136740207672, ATE_hat: 0.11535441875457764, loss: 0.0016127658309414983, balance: 0.5019999742507935\n",
      "val_loss: 0.25644636154174805, ATE: 0.1325846016407013, ATE_hat: 0.09875688701868057, loss: 0.001144314301200211, balance: 0.4860000014305115\n",
      "val_loss: 0.27198588848114014, ATE: 0.1218196377158165, ATE_hat: 0.1578098088502884, loss: 0.0012952924007549882, balance: 0.45399999618530273\n",
      "val_loss: 0.27718162536621094, ATE: 0.14907008409500122, ATE_hat: 0.08567754924297333, loss: 0.00401861360296607, balance: 0.5080000162124634\n",
      "val_loss: 0.2764158248901367, ATE: 0.05587032437324524, ATE_hat: 0.12058307975530624, loss: 0.0041877408511936665, balance: 0.5080000162124634\n",
      "val_loss: 0.2796390652656555, ATE: -0.0383649617433548, ATE_hat: 0.10314469784498215, loss: 0.02002498134970665, balance: 0.5379999876022339\n",
      "val_loss: 0.29424768686294556, ATE: 0.022397510707378387, ATE_hat: 0.05172494426369667, loss: 0.0008600983419455588, balance: 0.5400000214576721\n",
      "val_loss: 0.29731884598731995, ATE: 0.09932397305965424, ATE_hat: 0.1283654272556305, loss: 0.0008434060728177428, balance: 0.4740000069141388\n",
      "val_loss: 0.30609816312789917, ATE: 0.16804097592830658, ATE_hat: 0.12031223624944687, loss: 0.0022780324798077345, balance: 0.4880000054836273\n",
      "val_loss: 0.31137385964393616, ATE: 0.034879155457019806, ATE_hat: 0.11092036217451096, loss: 0.005782265216112137, balance: 0.5180000066757202\n",
      "val_loss: 0.30678024888038635, ATE: 0.24446004629135132, ATE_hat: 0.1292671412229538, loss: 0.01326940581202507, balance: 0.5299999713897705\n",
      "val_loss: 0.30265218019485474, ATE: 0.009221866726875305, ATE_hat: 0.10691361129283905, loss: 0.009543676860630512, balance: 0.5199999809265137\n",
      "val_loss: 0.2963322103023529, ATE: 0.1547652631998062, ATE_hat: 0.08156240731477737, loss: 0.005358658265322447, balance: 0.5220000147819519\n",
      "val_loss: 0.30818745493888855, ATE: 0.19766993820667267, ATE_hat: 0.11442197859287262, loss: 0.006930222734808922, balance: 0.5199999809265137\n",
      "val_loss: 0.3143083453178406, ATE: -0.14100146293640137, ATE_hat: 0.09309997409582138, loss: 0.05480348691344261, balance: 0.49000000953674316\n",
      "val_loss: 0.32015734910964966, ATE: 0.12355723977088928, ATE_hat: 0.11244488507509232, loss: 0.000123484423966147, balance: 0.5099999904632568\n",
      "val_loss: 0.3295517861843109, ATE: 0.09252449870109558, ATE_hat: 0.10601629316806793, loss: 0.00018202852515969425, balance: 0.5099999904632568\n",
      "val_loss: 0.32978352904319763, ATE: 0.09448212385177612, ATE_hat: 0.07372689992189407, loss: 0.00043077932787127793, balance: 0.4819999933242798\n",
      "val_loss: 0.33731207251548767, ATE: -0.015405155718326569, ATE_hat: 0.11099474132061005, loss: 0.015976935625076294, balance: 0.5299999713897705\n",
      "val_loss: 0.33006489276885986, ATE: -0.0007515735924243927, ATE_hat: 0.11746971309185028, loss: 0.013976272195577621, balance: 0.5239999890327454\n",
      "val_loss: 0.3271380662918091, ATE: 0.22073525190353394, ATE_hat: 0.08770520240068436, loss: 0.01769699528813362, balance: 0.4580000042915344\n",
      "val_loss: 0.3178987503051758, ATE: 0.13682901859283447, ATE_hat: 0.07043059170246124, loss: 0.0044087511487305164, balance: 0.4699999988079071\n",
      "val_loss: 0.3104077875614166, ATE: 0.013035338371992111, ATE_hat: 0.05729377642273903, loss: 0.0019588093273341656, balance: 0.47600001096725464\n",
      "val_loss: 0.31947097182273865, ATE: 0.17503014206886292, ATE_hat: 0.09949986636638641, loss: 0.005704822484403849, balance: 0.49399998784065247\n",
      "val_loss: 0.3195258677005768, ATE: 0.09606598317623138, ATE_hat: 0.05773114785552025, loss: 0.0014695596182718873, balance: 0.49799999594688416\n",
      "val_loss: 0.3095610439777374, ATE: 0.06258685886859894, ATE_hat: 0.12898026406764984, loss: 0.004408084321767092, balance: 0.4659999907016754\n",
      "val_loss: 0.31181490421295166, ATE: 0.03613409399986267, ATE_hat: 0.07012920826673508, loss: 0.0011556678218767047, balance: 0.47600001096725464\n",
      "val_loss: 0.30451199412345886, ATE: 0.08908743411302567, ATE_hat: 0.13325746357440948, loss: 0.0019509914563968778, balance: 0.5\n",
      "val_loss: 0.3133866488933563, ATE: 0.2006727159023285, ATE_hat: 0.07081642746925354, loss: 0.01686265505850315, balance: 0.5239999890327454\n",
      "val_loss: 0.3057934045791626, ATE: 0.07991007715463638, ATE_hat: 0.12326595932245255, loss: 0.0018797324737533927, balance: 0.492000013589859\n",
      "val_loss: 0.30394476652145386, ATE: 0.05367019772529602, ATE_hat: 0.06454727053642273, loss: 0.00011831071606138721, balance: 0.5019999742507935\n",
      "val_loss: 0.2952556312084198, ATE: 0.004473712295293808, ATE_hat: 0.12544290721416473, loss: 0.014633545652031898, balance: 0.5360000133514404\n",
      "val_loss: 0.29566690325737, ATE: 0.21701793372631073, ATE_hat: 0.10935105383396149, loss: 0.011592157185077667, balance: 0.5120000243186951\n",
      "val_loss: 0.31415697932243347, ATE: 0.04641027748584747, ATE_hat: 0.09404849261045456, loss: 0.0022693995852023363, balance: 0.49799999594688416\n",
      "val_loss: 0.3203803598880768, ATE: 0.24489565193653107, ATE_hat: 0.09128905087709427, loss: 0.023594984784722328, balance: 0.5180000066757202\n",
      "val_loss: 0.31772416830062866, ATE: -0.10771143436431885, ATE_hat: 0.10195865482091904, loss: 0.043961551040410995, balance: 0.5099999904632568\n",
      "val_loss: 0.3127877116203308, ATE: 0.16923683881759644, ATE_hat: 0.10641878843307495, loss: 0.003946107346564531, balance: 0.492000013589859\n",
      "val_loss: 0.3117060661315918, ATE: 0.10815997421741486, ATE_hat: 0.12235663831233978, loss: 0.00020154527737759054, balance: 0.5120000243186951\n",
      "val_loss: 0.3170241713523865, ATE: 0.10893338918685913, ATE_hat: 0.10575787723064423, loss: 1.0083876077260356e-05, balance: 0.5419999957084656\n",
      "val_loss: 0.32775866985321045, ATE: 0.13136127591133118, ATE_hat: 0.08462287485599518, loss: 0.002184478100389242, balance: 0.5080000162124634\n",
      "val_loss: 0.3230704069137573, ATE: 0.04349115863442421, ATE_hat: 0.053933922201395035, loss: 0.00010905131057370454, balance: 0.4959999918937683\n",
      "val_loss: 0.3396075665950775, ATE: 0.18014183640480042, ATE_hat: 0.11436060816049576, loss: 0.004327170085161924, balance: 0.515999972820282\n",
      "val_loss: 0.3387453258037567, ATE: 0.11600533127784729, ATE_hat: 0.11497420817613602, loss: 1.063214881469321e-06, balance: 0.47999998927116394\n",
      "val_loss: 0.33683064579963684, ATE: 0.15641134977340698, ATE_hat: 0.13111074268817902, loss: 0.0006401207065209746, balance: 0.47999998927116394\n",
      "val_loss: 0.3441074788570404, ATE: 0.08342991024255753, ATE_hat: 0.08595512062311172, loss: 6.376687451847829e-06, balance: 0.4959999918937683\n",
      "val_loss: 0.3476625680923462, ATE: 0.15737208724021912, ATE_hat: 0.09806114435195923, loss: 0.003517787903547287, balance: 0.49000000953674316\n",
      "val_loss: 0.33898332715034485, ATE: 0.1688195765018463, ATE_hat: 0.0900522917509079, loss: 0.006204285193234682, balance: 0.5139999985694885\n",
      "val_loss: 0.3412493169307709, ATE: 0.07188931107521057, ATE_hat: 0.109211765229702, loss: 0.0013929655542597175, balance: 0.492000013589859\n",
      "val_loss: 0.34654295444488525, ATE: 0.05258849263191223, ATE_hat: 0.11251812428236008, loss: 0.003591560758650303, balance: 0.4860000014305115\n",
      "val_loss: 0.3358071744441986, ATE: -0.1322023719549179, ATE_hat: 0.04145573079586029, loss: 0.03015713579952717, balance: 0.47999998927116394\n",
      "val_loss: 0.3333321511745453, ATE: 0.19590911269187927, ATE_hat: 0.10902630537748337, loss: 0.0075486223213374615, balance: 0.49399998784065247\n",
      "val_loss: 0.3286289572715759, ATE: 0.21193890273571014, ATE_hat: 0.10454898327589035, loss: 0.011532594449818134, balance: 0.5099999904632568\n"
     ]
    }
   ],
   "source": [
    "cnn1.train(data_loader, epochs=500, validation_data = {\"X\":torch.tensor(X_val).float(), \n",
    "                                              \"tau\":torch.Tensor(tau_val).float()})"
   ]
  },
  {
   "cell_type": "code",
   "execution_count": 34,
   "metadata": {},
   "outputs": [
    {
     "data": {
      "image/png": "[encoded data removed]",
      "text/plain": [
       "<Figure size 432x288 with 1 Axes>"
      ]
     },
     "metadata": {
      "needs_background": "light"
     },
     "output_type": "display_data"
    }
   ],
   "source": [
    "import matplotlib.pyplot as plt\n",
    "plt.plot(cnn1.val_loss)\n",
    "plt.show()"
   ]
  },
  {
   "cell_type": "markdown",
   "metadata": {},
   "source": [
    "For neural networks without hidden layer, we can compare the coefficients to the known true coefficients."
   ]
  },
  {
   "cell_type": "markdown",
   "metadata": {},
   "source": [
    "The ATE is usually approximately correct."
   ]
  },
  {
   "cell_type": "code",
   "execution_count": 35,
   "metadata": {},
   "outputs": [
    {
     "data": {
      "text/plain": [
       "0.10380047919005067"
      ]
     },
     "execution_count": 35,
     "metadata": {},
     "output_type": "execute_result"
    }
   ],
   "source": [
    "tau_zero"
   ]
  },
  {
   "cell_type": "code",
   "execution_count": 36,
   "metadata": {},
   "outputs": [
    {
     "data": {
      "text/plain": [
       "array([0.11645794], dtype=float32)"
      ]
     },
     "execution_count": 36,
     "metadata": {},
     "output_type": "execute_result"
    }
   ],
   "source": [
    "list(cnn1.net.parameters())[1].detach().numpy()"
   ]
  },
  {
   "cell_type": "markdown",
   "metadata": {},
   "source": [
    "The estimated coefficients often don't capture the direction and even approximate size of the effect. "
   ]
  },
  {
   "cell_type": "code",
   "execution_count": 37,
   "metadata": {},
   "outputs": [
    {
     "data": {
      "text/plain": [
       "array([-0.07267463,  0.09320446, -0.08646133, -0.13095108, -0.0807399 ,\n",
       "       -0.0526248 ,  0.20651296,  0.13451043,  0.10257962, -0.04149649])"
      ]
     },
     "execution_count": 37,
     "metadata": {},
     "output_type": "execute_result"
    }
   ],
   "source": [
    "coef_tau"
   ]
  },
  {
   "cell_type": "code",
   "execution_count": 38,
   "metadata": {},
   "outputs": [
    {
     "data": {
      "text/plain": [
       "array([[ 0.10118853, -0.01246702,  0.00056105, -0.10756449, -0.00843041,\n",
       "        -0.06404207,  0.35120395,  0.24406011, -0.06134946, -0.05923083]],\n",
       "      dtype=float32)"
      ]
     },
     "execution_count": 38,
     "metadata": {},
     "output_type": "execute_result"
    }
   ],
   "source": [
    "list(cnn1.net.parameters())[0].detach().numpy()"
   ]
  },
  {
   "cell_type": "markdown",
   "metadata": {},
   "source": [
    "The predicted treatment effects are usually not a accurate estimate of the true individual treatment effects, but correlation is at least positive."
   ]
  },
  {
   "cell_type": "code",
   "execution_count": 39,
   "metadata": {},
   "outputs": [],
   "source": [
    "pred[\"batch_cnn\"] = cnn1(torch.tensor(X).float()).detach().numpy()\n",
    "pred_val[\"batch_cnn\"] = cnn1(torch.tensor(X_val).float()).detach().numpy()"
   ]
  },
  {
   "cell_type": "code",
   "execution_count": 40,
   "metadata": {},
   "outputs": [
    {
     "name": "stdout",
     "output_type": "stream",
     "text": [
      "0.09799812983297236 0.34538359032647176\n",
      "0.111191034 0.45468026\n",
      "[[1.         0.66916748]\n",
      " [0.66916748 1.        ]]\n"
     ]
    }
   ],
   "source": [
    "print(tau.mean(), tau.std())\n",
    "print(pred[\"batch_cnn\"].mean(), pred[\"batch_cnn\"].std())\n",
    "print(np.corrcoef(tau,pred[\"batch_cnn\"].flatten(), rowvar=False))"
   ]
  },
  {
   "cell_type": "code",
   "execution_count": 41,
   "metadata": {},
   "outputs": [
    {
     "data": {
      "text/plain": [
       "array([-0.01350951,  0.23345932, -0.13824281, -0.25273752, -0.38796508,\n",
       "        0.41562617, -0.5312152 , -0.664926  , -0.20216072, -0.31756204],\n",
       "      dtype=float32)"
      ]
     },
     "execution_count": 41,
     "metadata": {},
     "output_type": "execute_result"
    }
   ],
   "source": [
    "pred[\"batch_cnn\"].flatten()[:10]"
   ]
  },
  {
   "cell_type": "code",
   "execution_count": 42,
   "metadata": {},
   "outputs": [
    {
     "data": {
      "text/plain": [
       "array([-0.01988365,  0.12072511,  0.1431697 , -0.43861269, -0.31420735,\n",
       "        0.21725887, -0.2357704 , -0.20820869,  0.45622765, -0.04514085])"
      ]
     },
     "execution_count": 42,
     "metadata": {},
     "output_type": "execute_result"
    }
   ],
   "source": [
    "tau[:10]"
   ]
  },
  {
   "cell_type": "markdown",
   "metadata": {},
   "source": [
    "## Addditive two-model approach / residual network"
   ]
  },
  {
   "cell_type": "markdown",
   "metadata": {},
   "source": [
    "### Model\n",
    "The causal batch network has the problem that the ATE within each batch depends on the treatment effect that we want to learn *and* the response rate in the control group, which may vary widely and introduce a lot of noise. \n",
    "We could correct for the response rate in the control group to avoid this source of error.\n",
    "\n",
    "Now we estimate two networks jointly. Decompose the response estimate for treated observations into the response without treatment and the treatment effect. \n",
    "\n",
    "$$ \\hat{y}_t = f_R(X_t) + f_T(X_t) \\\\\n",
    "   \\hat{y}_t = f_R(X_c)$$\n",
    "\n",
    "One network $f_R$ predicts the response without treatment for each customer (treatment and control), the second network $f_T$ estimates the treatment effect. The loss for the first network is the response prediction MSE over all observations $$\\frac{1}{N}\\sum([\\hat{y_t};\\hat{y_c}] - [y_t;y_c])^2$$ the loss for the second network is the response prediction MSE for *only the treated group*, i.e. $$\\frac{1}{N_T}\\sum(\\hat{y_t} - y_t)^2$$\n",
    "\n",
    "This is closely related to the two-model approach and essentially half of the X-Learner. In comparison to the two-model approach, it avoids training the second model as a potentially complex response model, instead training it as a model of the (treatment effect + residual). "
   ]
  },
  {
   "cell_type": "markdown",
   "metadata": {},
   "source": [
    "TODO: I strongly suspect that the model is biased when the residual from the response model is not random, e.g. due to model misspecification."
   ]
  },
  {
   "cell_type": "markdown",
   "metadata": {},
   "source": [
    "TODO: This seems related to an approach called *covariate transformation* in the uplift literature. For covariate transformation, we estimate the outcome $y_i$ on a set of variables $[X_i, t_i \\cdot X_i]$, where $t_i \\cdot X_i$ is the interaction between the treatment indicator $t_i \\in {0;1}$ and observed variables $X$. \n",
    "\n",
    "TODO: For the linear regression model, this is equivalent to including each variable-treatment interaction term (?)\n",
    "\n",
    "TODO: I'm pretty sure that this works only when the response network $f_R$ is good. Check this. "
   ]
  },
  {
   "cell_type": "code",
   "execution_count": 43,
   "metadata": {},
   "outputs": [],
   "source": [
    "class causalnet2(nn.Module):\n",
    "    def __init__(self, input_dim, hidden_layer_sizes):\n",
    "        super().__init__()\n",
    "        self.net0 = nnet(input_dim, hidden_layer_sizes)\n",
    "        self.net1 = nnet(input_dim, hidden_layer_sizes)\n",
    "        self.loss = []\n",
    "        self.val_loss = []\n",
    "        \n",
    "    def forward(self, X):\n",
    "        return self.net1(X)\n",
    "    \n",
    "    def train(self, data_loader, epochs, validation_data=None):\n",
    "        for epoch in range(epochs):\n",
    "            ATE, ATE_hat, loss, g_ratio = self._train_iteration(data_loader)\n",
    "            self.loss.append(loss)\n",
    "            if epoch % 5 == 0:\n",
    "                if validation_data is not None:\n",
    "                    tau_hat = self.net1(validation_data['X'])\n",
    "                    val_loss = (validation_data['tau'] - tau_hat).pow(2).mean().detach().numpy()\n",
    "                    self.val_loss.append(val_loss)\n",
    "                    print(f\"val_loss: {val_loss}, ATE: {ATE}, ATE_hat: {ATE_hat}, loss: {loss}, balance: {g_ratio}\")\n",
    "                else:\n",
    "                    print(f\"ATE: {ATE}, ATE_hat: {ATE_hat}, loss: {loss}, balance: {g_ratio}\")\n",
    "            \n",
    "    \n",
    "    def _train_iteration(self,data_loader):\n",
    "        for i, (X,y,g) in enumerate(data_loader):\n",
    "            \n",
    "            X = X.float()\n",
    "            y = y.unsqueeze(1).float()\n",
    "            \n",
    "            X0 = Variable(X[g==0,:])\n",
    "            y0 = Variable(y[g==0])\n",
    "            \n",
    "            X1 = Variable(X[g==1,:])\n",
    "            y1 = Variable(y[g==1])\n",
    "            \n",
    "            g_ratio = g.float().mean()\n",
    "            \n",
    "            response0 = self.net0(X0)\n",
    "            loss0 = ((y0 - response0).pow(2)).mean()\n",
    "            \n",
    "            response1 = self.net0(X1) + self.net1(X1)\n",
    "            loss1 = ((y1 - response1).pow(2)).mean()\n",
    "            \n",
    "            loss = loss0 + loss1\n",
    "            \n",
    "            ATE_hat = response1.mean() - response0.mean()\n",
    "            ATE     = y1.mean() - y0.mean()\n",
    "            loss_treatment = (ATE - ATE_hat).pow(2)            \n",
    "            \n",
    "#             self.net0.zero_grad()\n",
    "#             self.net1.zero_grad()\n",
    "#             loss_treatment.backward()\n",
    "#             optim0.step()\n",
    "#             optim1.step()\n",
    "\n",
    "            self.net0.zero_grad()\n",
    "            loss0.backward()\n",
    "            optim0.step()\n",
    "\n",
    "            self.net1.zero_grad()\n",
    "            loss1.backward()\n",
    "            optim1.step()\n",
    "                \n",
    "            \n",
    "        return ATE.detach().numpy(), ATE_hat.detach().numpy(), loss.detach().numpy(), g_ratio\n",
    "            "
   ]
  },
  {
   "cell_type": "markdown",
   "metadata": {},
   "source": [
    "### Simulation"
   ]
  },
  {
   "cell_type": "code",
   "execution_count": 44,
   "metadata": {},
   "outputs": [],
   "source": [
    "data_loader = DataLoader(data, batch_size=128, shuffle=True)"
   ]
  },
  {
   "cell_type": "markdown",
   "metadata": {},
   "source": [
    "We can train a FFNN without hidden layers as equivalent to a linear regression model. Note that the true model for y is non-linear, while the true model for the treatment effect is linear."
   ]
  },
  {
   "cell_type": "code",
   "execution_count": 45,
   "metadata": {},
   "outputs": [],
   "source": [
    "cnn2 = causalnet2(10, [])"
   ]
  },
  {
   "cell_type": "code",
   "execution_count": 46,
   "metadata": {},
   "outputs": [],
   "source": [
    "optim0 = Adam(cnn2.net0.parameters(), lr=0.001)\n",
    "optim1 = Adam(cnn2.net1.parameters(), lr=0.001)"
   ]
  },
  {
   "cell_type": "code",
   "execution_count": 47,
   "metadata": {},
   "outputs": [
    {
     "name": "stdout",
     "output_type": "stream",
     "text": [
      "val_loss: 0.5323887467384338, ATE: 0.3635962903499603, ATE_hat: -0.37791770696640015, loss: 4.17932653427124, balance: 0.5657894611358643\n",
      "val_loss: 0.361976683139801, ATE: 0.1426154375076294, ATE_hat: -0.2564840316772461, loss: 2.8872265815734863, balance: 0.46052631735801697\n",
      "val_loss: 0.3008783161640167, ATE: 0.6030575037002563, ATE_hat: -0.07978237420320511, loss: 2.858963966369629, balance: 0.46052631735801697\n",
      "val_loss: 0.272440105676651, ATE: -0.058522164821624756, ATE_hat: 0.19520221650600433, loss: 2.0343985557556152, balance: 0.5526315569877625\n",
      "val_loss: 0.2639313340187073, ATE: -0.029853276908397675, ATE_hat: -0.14300775527954102, loss: 2.179408550262451, balance: 0.5\n",
      "val_loss: 0.2610609531402588, ATE: 0.11235928535461426, ATE_hat: 0.11038623750209808, loss: 2.0703392028808594, balance: 0.5131579041481018\n",
      "val_loss: 0.2591300904750824, ATE: 0.007262872532010078, ATE_hat: 0.0654340386390686, loss: 2.1589841842651367, balance: 0.42105263471603394\n",
      "val_loss: 0.25654640793800354, ATE: -0.12038927525281906, ATE_hat: 0.07302989810705185, loss: 2.378873586654663, balance: 0.5394737124443054\n",
      "val_loss: 0.25914570689201355, ATE: -0.38223397731781006, ATE_hat: -0.06380306929349899, loss: 2.3320140838623047, balance: 0.4736842215061188\n",
      "val_loss: 0.2604295015335083, ATE: 0.2683473825454712, ATE_hat: 0.16794858872890472, loss: 1.9775395393371582, balance: 0.5131579041481018\n",
      "val_loss: 0.2612912356853485, ATE: 0.2080780565738678, ATE_hat: -0.012552782893180847, loss: 1.973740816116333, balance: 0.44736841320991516\n",
      "val_loss: 0.2589946389198303, ATE: -0.34548836946487427, ATE_hat: 0.16444073617458344, loss: 1.828245997428894, balance: 0.5263158082962036\n",
      "val_loss: 0.2568245530128479, ATE: 0.48715487122535706, ATE_hat: 0.13575072586536407, loss: 2.6677961349487305, balance: 0.6973684430122375\n",
      "val_loss: 0.25798553228378296, ATE: 0.020367592573165894, ATE_hat: 0.04285052418708801, loss: 2.2996480464935303, balance: 0.46052631735801697\n",
      "val_loss: 0.26150766015052795, ATE: -0.042033851146698, ATE_hat: 0.06509897112846375, loss: 1.6525332927703857, balance: 0.4868420958518982\n",
      "val_loss: 0.2595001459121704, ATE: 0.11169511824846268, ATE_hat: 0.1904042363166809, loss: 1.8259207010269165, balance: 0.42105263471603394\n",
      "val_loss: 0.26050716638565063, ATE: -0.19645650684833527, ATE_hat: 0.006144348531961441, loss: 2.1364283561706543, balance: 0.5263158082962036\n",
      "val_loss: 0.25885215401649475, ATE: -0.09563493728637695, ATE_hat: -0.06729156523942947, loss: 2.584225654602051, balance: 0.44736841320991516\n",
      "val_loss: 0.2604190409183502, ATE: 0.019694678485393524, ATE_hat: 0.07030368596315384, loss: 2.777528762817383, balance: 0.4736842215061188\n",
      "val_loss: 0.2617018520832062, ATE: 0.213247612118721, ATE_hat: 0.06112438067793846, loss: 2.8341102600097656, balance: 0.46052631735801697\n",
      "val_loss: 0.2583266496658325, ATE: -0.06127534061670303, ATE_hat: 0.10485860705375671, loss: 2.687978744506836, balance: 0.5526315569877625\n",
      "val_loss: 0.25964099168777466, ATE: 0.42884761095046997, ATE_hat: 0.16306261718273163, loss: 2.5585384368896484, balance: 0.42105263471603394\n",
      "val_loss: 0.26100724935531616, ATE: 0.1328638792037964, ATE_hat: 0.043254412710666656, loss: 2.736912250518799, balance: 0.43421053886413574\n",
      "val_loss: 0.25699928402900696, ATE: 0.2733105421066284, ATE_hat: 0.07163253426551819, loss: 2.975759506225586, balance: 0.5131579041481018\n",
      "val_loss: 0.25905901193618774, ATE: 0.2166767716407776, ATE_hat: 0.13434195518493652, loss: 1.9993932247161865, balance: 0.42105263471603394\n",
      "val_loss: 0.260009765625, ATE: -0.3030179440975189, ATE_hat: 0.03574925661087036, loss: 2.271847724914551, balance: 0.5789473652839661\n",
      "val_loss: 0.26182642579078674, ATE: 0.40275174379348755, ATE_hat: 0.15680532157421112, loss: 2.6288833618164062, balance: 0.43421053886413574\n",
      "val_loss: 0.2579948306083679, ATE: -0.08838796615600586, ATE_hat: 0.03238087147474289, loss: 2.120063304901123, balance: 0.5789473652839661\n",
      "val_loss: 0.2584024667739868, ATE: 0.13851557672023773, ATE_hat: 0.018934816122055054, loss: 1.9367268085479736, balance: 0.4736842215061188\n",
      "val_loss: 0.26068514585494995, ATE: 0.102326899766922, ATE_hat: 0.2665309011936188, loss: 2.204531192779541, balance: 0.5131579041481018\n",
      "val_loss: 0.25913572311401367, ATE: 0.0755542740225792, ATE_hat: 0.20925593376159668, loss: 1.8095754384994507, balance: 0.6052631735801697\n",
      "val_loss: 0.25691524147987366, ATE: 0.03243909031152725, ATE_hat: 0.10239683091640472, loss: 1.9959105253219604, balance: 0.46052631735801697\n",
      "val_loss: 0.2562717795372009, ATE: 0.4638735055923462, ATE_hat: 0.17049725353717804, loss: 2.137213706970215, balance: 0.5263158082962036\n",
      "val_loss: 0.2604113817214966, ATE: 0.06062823534011841, ATE_hat: 0.0018807612359523773, loss: 1.7519840002059937, balance: 0.5\n",
      "val_loss: 0.2579883933067322, ATE: -0.02690090984106064, ATE_hat: 0.11532534658908844, loss: 1.7343025207519531, balance: 0.46052631735801697\n",
      "val_loss: 0.2567905783653259, ATE: -0.0003914354310836643, ATE_hat: 0.1264231950044632, loss: 1.8425151109695435, balance: 0.5394737124443054\n",
      "val_loss: 0.2579720914363861, ATE: 0.14153148233890533, ATE_hat: 0.3100944459438324, loss: 1.7745435237884521, balance: 0.4868420958518982\n",
      "val_loss: 0.2600178122520447, ATE: 0.33439502120018005, ATE_hat: 0.1519017368555069, loss: 1.6961681842803955, balance: 0.5657894611358643\n",
      "val_loss: 0.25994691252708435, ATE: 0.02866688370704651, ATE_hat: -0.011823683977127075, loss: 2.0362002849578857, balance: 0.5131579041481018\n",
      "val_loss: 0.2580958604812622, ATE: -0.05893651396036148, ATE_hat: 0.016501016914844513, loss: 2.1143176555633545, balance: 0.5131579041481018\n",
      "val_loss: 0.2563205361366272, ATE: -0.14684873819351196, ATE_hat: -0.018760548904538155, loss: 2.744863748550415, balance: 0.46052631735801697\n",
      "val_loss: 0.2568531334400177, ATE: -0.023867830634117126, ATE_hat: 0.08504618704319, loss: 2.4531922340393066, balance: 0.6315789222717285\n",
      "val_loss: 0.2606875002384186, ATE: -0.19854937493801117, ATE_hat: 0.10933180898427963, loss: 2.2516841888427734, balance: 0.5131579041481018\n",
      "val_loss: 0.25947096943855286, ATE: 0.5240672826766968, ATE_hat: 0.12906071543693542, loss: 2.2613842487335205, balance: 0.3947368562221527\n",
      "val_loss: 0.2593640089035034, ATE: -0.07574087381362915, ATE_hat: 0.07047467678785324, loss: 1.6972806453704834, balance: 0.5526315569877625\n",
      "val_loss: 0.26020491123199463, ATE: 0.15736791491508484, ATE_hat: 0.03236476331949234, loss: 2.099170207977295, balance: 0.5789473652839661\n",
      "val_loss: 0.2618088722229004, ATE: 0.4353958070278168, ATE_hat: 0.1698359251022339, loss: 2.132594108581543, balance: 0.5263158082962036\n",
      "val_loss: 0.2599751651287079, ATE: -0.1799885779619217, ATE_hat: 0.1915723830461502, loss: 2.3890864849090576, balance: 0.3947368562221527\n",
      "val_loss: 0.25695163011550903, ATE: 0.11761952936649323, ATE_hat: 0.06729263067245483, loss: 2.5833048820495605, balance: 0.44736841320991516\n",
      "val_loss: 0.2612328827381134, ATE: 0.1911303997039795, ATE_hat: 0.0092703178524971, loss: 2.352713108062744, balance: 0.40789473056793213\n",
      "val_loss: 0.26156821846961975, ATE: 0.11557387560606003, ATE_hat: 0.03967537730932236, loss: 2.9002552032470703, balance: 0.5789473652839661\n",
      "val_loss: 0.2599655091762543, ATE: -0.3335858881473541, ATE_hat: -0.08980631083250046, loss: 2.0744693279266357, balance: 0.4736842215061188\n",
      "val_loss: 0.2593056559562683, ATE: 0.19519464671611786, ATE_hat: 0.25118130445480347, loss: 2.5475802421569824, balance: 0.46052631735801697\n",
      "val_loss: 0.25784555077552795, ATE: 0.1942945420742035, ATE_hat: 0.22041688859462738, loss: 1.5139590501785278, balance: 0.3815789520740509\n",
      "val_loss: 0.258976012468338, ATE: -0.28906339406967163, ATE_hat: 0.027326390147209167, loss: 2.5714375972747803, balance: 0.5263158082962036\n",
      "val_loss: 0.2576896846294403, ATE: 0.09981332719326019, ATE_hat: 0.07390224188566208, loss: 2.567082405090332, balance: 0.46052631735801697\n",
      "val_loss: 0.2608952820301056, ATE: 0.07465746998786926, ATE_hat: 0.052562616765499115, loss: 2.0052528381347656, balance: 0.5789473652839661\n",
      "val_loss: 0.25807076692581177, ATE: -0.10246740281581879, ATE_hat: 0.21558968722820282, loss: 2.5565619468688965, balance: 0.43421053886413574\n",
      "val_loss: 0.2580231726169586, ATE: 0.3348296284675598, ATE_hat: 0.16004030406475067, loss: 2.7716755867004395, balance: 0.6052631735801697\n",
      "val_loss: 0.2587871253490448, ATE: 0.11479490995407104, ATE_hat: 0.1869085133075714, loss: 2.5188043117523193, balance: 0.4736842215061188\n"
     ]
    }
   ],
   "source": [
    "cnn2.train(data_loader, epochs=300, validation_data = {\"X\":torch.tensor(X_val).float(), \n",
    "                                              \"tau\":torch.Tensor(tau_val).float()})"
   ]
  },
  {
   "cell_type": "code",
   "execution_count": 48,
   "metadata": {},
   "outputs": [
    {
     "data": {
      "image/png": "[encoded data removed]",
      "text/plain": [
       "<Figure size 432x288 with 1 Axes>"
      ]
     },
     "metadata": {
      "needs_background": "light"
     },
     "output_type": "display_data"
    }
   ],
   "source": [
    "import matplotlib.pyplot as plt\n",
    "plt.plot(cnn2.val_loss)\n",
    "plt.show()"
   ]
  },
  {
   "cell_type": "markdown",
   "metadata": {},
   "source": [
    "For neural networks without hidden layer, we can compare the coefficients to the known true coefficients."
   ]
  },
  {
   "cell_type": "code",
   "execution_count": 49,
   "metadata": {},
   "outputs": [
    {
     "data": {
      "text/plain": [
       "0.10380047919005067"
      ]
     },
     "execution_count": 49,
     "metadata": {},
     "output_type": "execute_result"
    }
   ],
   "source": [
    "tau_zero"
   ]
  },
  {
   "cell_type": "code",
   "execution_count": 50,
   "metadata": {},
   "outputs": [
    {
     "data": {
      "text/plain": [
       "array([0.1189222], dtype=float32)"
      ]
     },
     "execution_count": 50,
     "metadata": {},
     "output_type": "execute_result"
    }
   ],
   "source": [
    "list(cnn2.net1.parameters())[1].detach().numpy()"
   ]
  },
  {
   "cell_type": "markdown",
   "metadata": {},
   "source": [
    "The estimated coefficients usually capture the direction and even approximate size of the effect."
   ]
  },
  {
   "cell_type": "code",
   "execution_count": 51,
   "metadata": {},
   "outputs": [
    {
     "data": {
      "text/plain": [
       "array([-0.07267463,  0.09320446, -0.08646133, -0.13095108, -0.0807399 ,\n",
       "       -0.0526248 ,  0.20651296,  0.13451043,  0.10257962, -0.04149649])"
      ]
     },
     "execution_count": 51,
     "metadata": {},
     "output_type": "execute_result"
    }
   ],
   "source": [
    "coef_tau"
   ]
  },
  {
   "cell_type": "code",
   "execution_count": 52,
   "metadata": {},
   "outputs": [
    {
     "data": {
      "text/plain": [
       "array([[-0.04985304,  0.08415718, -0.08712332, -0.14256772, -0.0828073 ,\n",
       "        -0.00435946,  0.2328749 ,  0.17035814,  0.06944076, -0.01646998]],\n",
       "      dtype=float32)"
      ]
     },
     "execution_count": 52,
     "metadata": {},
     "output_type": "execute_result"
    }
   ],
   "source": [
    "list(cnn2.net1.parameters())[0].detach().numpy()"
   ]
  },
  {
   "cell_type": "markdown",
   "metadata": {},
   "source": [
    "The predicted treatment effects are often an accurate estimate of the true individual treatment effects and correlation is often high."
   ]
  },
  {
   "cell_type": "code",
   "execution_count": 53,
   "metadata": {},
   "outputs": [],
   "source": [
    "pred[\"res_cnn\"] = cnn2.net1(torch.tensor(X).float()).detach().numpy()\n",
    "pred_val[\"res_cnn\"] = cnn2.net1(torch.tensor(X_val).float()).detach().numpy()"
   ]
  },
  {
   "cell_type": "code",
   "execution_count": 54,
   "metadata": {},
   "outputs": [
    {
     "name": "stdout",
     "output_type": "stream",
     "text": [
      "0.09799812983297236 0.34538359032647176\n",
      "0.11248301 0.35928112\n",
      "[[1.         0.97443741]\n",
      " [0.97443741 1.        ]]\n"
     ]
    }
   ],
   "source": [
    "print(tau.mean(), tau.std())\n",
    "print(pred[\"res_cnn\"].mean(), pred[\"res_cnn\"].std())\n",
    "print(np.corrcoef(tau,pred[\"res_cnn\"].flatten(), rowvar=False))"
   ]
  },
  {
   "cell_type": "code",
   "execution_count": 55,
   "metadata": {},
   "outputs": [
    {
     "data": {
      "text/plain": [
       "array([-0.11313003,  0.10790282,  0.08733623, -0.44794348, -0.35260418,\n",
       "        0.26206592, -0.23074737, -0.27133498,  0.41001648, -0.19506243],\n",
       "      dtype=float32)"
      ]
     },
     "execution_count": 55,
     "metadata": {},
     "output_type": "execute_result"
    }
   ],
   "source": [
    "pred[\"res_cnn\"].flatten()[:10]"
   ]
  },
  {
   "cell_type": "code",
   "execution_count": 56,
   "metadata": {},
   "outputs": [
    {
     "data": {
      "text/plain": [
       "array([-0.01988365,  0.12072511,  0.1431697 , -0.43861269, -0.31420735,\n",
       "        0.21725887, -0.2357704 , -0.20820869,  0.45622765, -0.04514085])"
      ]
     },
     "execution_count": 56,
     "metadata": {},
     "output_type": "execute_result"
    }
   ],
   "source": [
    "tau[:10]"
   ]
  },
  {
   "cell_type": "markdown",
   "metadata": {},
   "source": [
    "## Summary"
   ]
  },
  {
   "cell_type": "code",
   "execution_count": 57,
   "metadata": {},
   "outputs": [
    {
     "data": {
      "text/plain": [
       "0.10380047919005067"
      ]
     },
     "execution_count": 57,
     "metadata": {},
     "output_type": "execute_result"
    }
   ],
   "source": [
    "tau_zero"
   ]
  },
  {
   "cell_type": "code",
   "execution_count": 58,
   "metadata": {},
   "outputs": [
    {
     "data": {
      "text/plain": [
       "0.10548894867393199"
      ]
     },
     "execution_count": 58,
     "metadata": {},
     "output_type": "execute_result"
    }
   ],
   "source": [
    "y[g==1].mean() - y[g==0].mean()"
   ]
  },
  {
   "cell_type": "code",
   "execution_count": 59,
   "metadata": {},
   "outputs": [
    {
     "data": {
      "text/plain": [
       "{'ATE': 0.105488948673932,\n",
       " 'tnet': 0.11168234,\n",
       " 'batch_cnn': 0.111191034,\n",
       " 'res_cnn': 0.11248301}"
      ]
     },
     "execution_count": 59,
     "metadata": {},
     "output_type": "execute_result"
    }
   ],
   "source": [
    "{key:x.mean() for key,x in pred.items()}"
   ]
  },
  {
   "cell_type": "markdown",
   "metadata": {},
   "source": [
    "Absolute error against true (unknown) treatment effects (Lower is better)"
   ]
  },
  {
   "cell_type": "code",
   "execution_count": 60,
   "metadata": {},
   "outputs": [
    {
     "data": {
      "text/plain": [
       "{'ATE': 0.2798043699350534,\n",
       " 'tnet': 0.4054825585269063,\n",
       " 'batch_cnn': 0.462945421836178,\n",
       " 'res_cnn': 0.4068920708844783}"
      ]
     },
     "execution_count": 60,
     "metadata": {},
     "output_type": "execute_result"
    }
   ],
   "source": [
    "{key:np.abs(x-tau_val).mean() for key,x in pred_val.items()}"
   ]
  },
  {
   "cell_type": "markdown",
   "metadata": {},
   "source": [
    "Ranking metrics for continuous variables ([-1;1], higher is better)"
   ]
  },
  {
   "cell_type": "code",
   "execution_count": 61,
   "metadata": {},
   "outputs": [
    {
     "data": {
      "text/plain": [
       "{'ATE': nan,\n",
       " 'tnet': 0.8595502200880353,\n",
       " 'batch_cnn': 0.487946218487395,\n",
       " 'res_cnn': 0.8574994797919169}"
      ]
     },
     "execution_count": 61,
     "metadata": {},
     "output_type": "execute_result"
    }
   ],
   "source": [
    "# Weighted number of rank mistakes\n",
    "from scipy.stats import spearmanr, kendalltau\n",
    "{key:kendalltau(tau_val, x, nan_policy='propagate')[0] for key,x in pred_val.items()}"
   ]
  },
  {
   "cell_type": "code",
   "execution_count": 62,
   "metadata": {},
   "outputs": [
    {
     "name": "stderr",
     "output_type": "stream",
     "text": [
      "/Users/hauptjoh/anaconda/envs/deeplearning/lib/python3.6/site-packages/numpy/lib/function_base.py:2400: RuntimeWarning: invalid value encountered in true_divide\n",
      "  c /= stddev[:, None]\n",
      "/Users/hauptjoh/anaconda/envs/deeplearning/lib/python3.6/site-packages/numpy/lib/function_base.py:2401: RuntimeWarning: invalid value encountered in true_divide\n",
      "  c /= stddev[None, :]\n",
      "/Users/hauptjoh/anaconda/envs/deeplearning/lib/python3.6/site-packages/scipy/stats/_distn_infrastructure.py:879: RuntimeWarning: invalid value encountered in greater\n",
      "  return (self.a < x) & (x < self.b)\n",
      "/Users/hauptjoh/anaconda/envs/deeplearning/lib/python3.6/site-packages/scipy/stats/_distn_infrastructure.py:879: RuntimeWarning: invalid value encountered in less\n",
      "  return (self.a < x) & (x < self.b)\n",
      "/Users/hauptjoh/anaconda/envs/deeplearning/lib/python3.6/site-packages/scipy/stats/_distn_infrastructure.py:1821: RuntimeWarning: invalid value encountered in less_equal\n",
      "  cond2 = cond0 & (x <= self.a)\n"
     ]
    },
    {
     "data": {
      "text/plain": [
       "{'ATE': nan,\n",
       " 'tnet': 0.9730393887103023,\n",
       " 'batch_cnn': 0.6763422427427589,\n",
       " 'res_cnn': 0.9722625258660043}"
      ]
     },
     "execution_count": 62,
     "metadata": {},
     "output_type": "execute_result"
    }
   ],
   "source": [
    "{key:spearmanr(tau_val, x, nan_policy='propagate')[0] for key,x in pred_val.items()}"
   ]
  },
  {
   "cell_type": "code",
   "execution_count": 63,
   "metadata": {},
   "outputs": [],
   "source": [
    "#from pylift.eval import UpliftEval\n",
    "#{key:UpliftEval(g_val,y_val,x) for key,x in pred_val.items()}"
   ]
  },
  {
   "cell_type": "code",
   "execution_count": 70,
   "metadata": {},
   "outputs": [
    {
     "data": {
      "image/png": "[encoded data removed]",
      "text/plain": [
       "<Figure size 432x288 with 1 Axes>"
      ]
     },
     "metadata": {
      "needs_background": "light"
     },
     "output_type": "display_data"
    },
    {
     "data": {
      "image/png": "[encoded data removed]",
      "text/plain": [
       "<Figure size 432x288 with 1 Axes>"
      ]
     },
     "metadata": {
      "needs_background": "light"
     },
     "output_type": "display_data"
    },
    {
     "data": {
      "image/png": "[encoded data removed]",
      "text/plain": [
       "<Figure size 432x288 with 1 Axes>"
      ]
     },
     "metadata": {
      "needs_background": "light"
     },
     "output_type": "display_data"
    },
    {
     "data": {
      "image/png": "[encoded data removed]",
      "text/plain": [
       "<Figure size 432x288 with 1 Axes>"
      ]
     },
     "metadata": {
      "needs_background": "light"
     },
     "output_type": "display_data"
    }
   ],
   "source": [
    "for i,x in pred_val.items():\n",
    "    plt.hist(tau_val, color='black', alpha=0.5, range=[-2,2], bins=20)\n",
    "    plt.hist(x, alpha=0.5, bins=20)\n",
    "    plt.title(i)\n",
    "    plt.show()\n"
   ]
  },
  {
   "cell_type": "code",
   "execution_count": null,
   "metadata": {},
   "outputs": [],
   "source": []
  }
 ],
 "metadata": {
  "kernelspec": {
   "display_name": "Python [deeplearning]",
   "language": "python",
   "name": "Python [deeplearning]"
  },
  "language_info": {
   "codemirror_mode": {
    "name": "ipython",
    "version": 3
   },
   "file_extension": ".py",
   "mimetype": "text/x-python",
   "name": "python",
   "nbconvert_exporter": "python",
   "pygments_lexer": "ipython3",
   "version": "3.6.7"
  }
 },
 "nbformat": 4,
 "nbformat_minor": 2
}
