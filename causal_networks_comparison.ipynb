{
 "cells": [
  {
   "cell_type": "code",
   "execution_count": 1,
   "metadata": {},
   "outputs": [],
   "source": [
    "import numpy as np\n",
    "import pandas as pd\n",
    "import torch\n",
    "import torch.nn as nn\n",
    "import torch.nn.functional as F\n",
    "from torch.autograd import Variable\n",
    "\n",
    "from torch.utils.data import Dataset, DataLoader\n",
    "\n",
    "from torch.optim import SGD, Adam\n",
    "\n",
    "from tqdm import tqdm"
   ]
  },
  {
   "cell_type": "markdown",
   "metadata": {},
   "source": [
    "The model is a standard multi-layer perceptron. Classification only requires a change to the output activation from None to sigmoid."
   ]
  },
  {
   "cell_type": "code",
   "execution_count": 2,
   "metadata": {},
   "outputs": [],
   "source": [
    "class nnet(nn.Module):\n",
    "    def __init__(self, input_dim, hidden_layer_sizes):\n",
    "        super(nnet, self).__init__()\n",
    "        \n",
    "        self.input_dim = input_dim\n",
    "        self.layer_sizes = hidden_layer_sizes\n",
    "        self.iter = 0\n",
    "        \n",
    "        hidden_layer_sizes = hidden_layer_sizes + [1] # Output layer\n",
    "        first_layer = nn.Linear(input_dim, hidden_layer_sizes[0])\n",
    "        self.layers = nn.ModuleList(\n",
    "            [first_layer] +\\\n",
    "            [nn.Linear(input_, output_)\n",
    "             for input_, output_ in \n",
    "             zip(hidden_layer_sizes, hidden_layer_sizes[1:])])\n",
    "\n",
    "        \n",
    "    def forward(self, x):\n",
    "        for layer in self.layers[:-1]:\n",
    "            x = F.relu(layer(x))\n",
    "        x = self.layers[-1](x)\n",
    "        \n",
    "        return x\n",
    "    \n",
    "    def train(self, data_loader, epochs):\n",
    "        for epoch in range(epochs):\n",
    "            loss = self._train_iteration(data_loader)\n",
    "            if epoch % 5 == 0:\n",
    "                print(f\"loss: {loss}\")\n",
    "                \n",
    "    def _train_iteration(self,data_loader):\n",
    "        for i, (X,y,g) in enumerate(data_loader):\n",
    "            \n",
    "            X = X.float()\n",
    "            y = y.unsqueeze(1).float()\n",
    "            \n",
    "            X = Variable(X, requires_grad=True)\n",
    "            y = Variable(y, requires_grad=True)\n",
    "                      \n",
    "            pred = self(X)\n",
    "            loss = ((y - pred)**2).mean()\n",
    "            \n",
    "            optim.zero_grad()\n",
    "            loss.backward()\n",
    "            optim.step()\n",
    "               \n",
    "        return loss.detach().numpy()"
   ]
  },
  {
   "cell_type": "markdown",
   "metadata": {},
   "source": [
    "# Data"
   ]
  },
  {
   "cell_type": "markdown",
   "metadata": {},
   "source": [
    "The data generating process works as follows (story just for reference):\n",
    "Revenue ($y_i$) depends on some characteristics $X_i$ of the customer i. Customers are given a coupon (treatment $g_i$) with 50% probability . Customer who receive a coupon will spend more or less money (treatment effect $\\tau_i$) depending linearly on their characteristics.\n",
    "\n",
    "$$y_i = X_i ^\\top \\beta_X + g_i \\cdot (\\tau_0 + X_i ^\\top \\beta_{\\tau} + \\epsilon^{\\tau}_i) + \\epsilon_i$$\n",
    "\n",
    "with \n",
    "\n",
    "$$\\epsilon_i \\sim \\text{Normal}(mean = 0, std = 0.1)$$\n",
    "\n",
    "$$g_i \\sim \\text{Bernoulli}(p=0.5)$$\n",
    "$$\\epsilon^{\\tau}_i \\sim \\text{Normal}(mean = 0, std = 0.001)$$\n",
    "\n",
    "I think there is merit to the assumption that the true reponse model is often more complex than the model behind the heterogeneity of treatment effects. \n"
   ]
  },
  {
   "cell_type": "code",
   "execution_count": 3,
   "metadata": {},
   "outputs": [],
   "source": [
    "def generate_experiment(n_obs,n_var, tau=None):\n",
    "    X = np.random.multivariate_normal(\n",
    "             np.zeros(n_var),\n",
    "             np.eye(n_var),\n",
    "             n_obs\n",
    "             )\n",
    "    \n",
    "    \n",
    "    # Linear effects\n",
    "    beta     = np.random.normal(scale=0.1, size=n_var)\n",
    "    # Non-linear effects (optional)\n",
    "    beta_X2  = np.random.normal(loc=0, scale=0.1, size=n_var)\n",
    "    # Linear effects on treatment effect\n",
    "    beta_tau = np.random.normal(loc=0,scale=0.01, size=n_var)\n",
    "    # Baseline treatment effect\n",
    "    tau_zero = np.random.normal(0.1,0.01)\n",
    "    \n",
    "    g = np.hstack([np.ones(n_obs//2), np.zeros(n_obs//2)])\n",
    "        #np.random.binomial(1,0.5,size=n_obs)\n",
    "        \n",
    "    if tau is None:\n",
    "        tau = tau_zero + np.dot(X,beta_tau) + np.random.normal(scale=0.001, size=n_obs)\n",
    "        \n",
    "    y = np.dot(X,beta) +\\\n",
    "        np.dot(np.power(X,2),beta_X2) +\\\n",
    "        g * tau + np.random.normal(scale=0.1, size=n_obs)\n",
    "    \n",
    "    return X, y, g, tau, beta, beta_X2, tau_zero, beta_tau\n",
    "    \n",
    "    "
   ]
  },
  {
   "cell_type": "markdown",
   "metadata": {},
   "source": [
    "The Dataloader is currently a random sampler (see below) that returns $X_i$, $y_i$ and $g_i$ for a batch. \n",
    "\n",
    "TODO: I think a batch sampler stratified on $g$ makes more sense."
   ]
  },
  {
   "cell_type": "code",
   "execution_count": 4,
   "metadata": {},
   "outputs": [],
   "source": [
    "class ExperimentData(Dataset):\n",
    "    def __init__(self, X, y, g):\n",
    "        self.X = X\n",
    "        self.y = y\n",
    "        self.g = g\n",
    "        \n",
    "    def __len__(self):\n",
    "        return X.shape[0]\n",
    "    \n",
    "    def __getitem__(self, idx):\n",
    "        return X[idx,:], y[idx], g[idx]\n",
    "                "
   ]
  },
  {
   "cell_type": "code",
   "execution_count": 5,
   "metadata": {},
   "outputs": [],
   "source": [
    "X, y, g, tau, coef, coef_x2, tau_zero, coef_tau = generate_experiment(15000,10, tau=None)"
   ]
  },
  {
   "cell_type": "markdown",
   "metadata": {},
   "source": [
    "For evaluation in the simulation context, I assume that the treatment effects are known and calculate the accuracy on the model in estimating the treatment effects on a holdout validation set. In practice, the true treatment effects are unknown, of course, so holdout evaluation is an open question."
   ]
  },
  {
   "cell_type": "code",
   "execution_count": 6,
   "metadata": {},
   "outputs": [
    {
     "data": {
      "text/plain": [
       "(0.30378227001716507, 0.38715602598402266)"
      ]
     },
     "execution_count": 6,
     "metadata": {},
     "output_type": "execute_result"
    }
   ],
   "source": [
    "np.mean(y), np.std(y)"
   ]
  },
  {
   "cell_type": "markdown",
   "metadata": {},
   "source": [
    "ATE summary statistics. These should be stable to confirm that the info-noise ratio in the data is not too high."
   ]
  },
  {
   "cell_type": "code",
   "execution_count": 7,
   "metadata": {},
   "outputs": [
    {
     "name": "stdout",
     "output_type": "stream",
     "text": [
      "Baseline treatment effect (True ATE):0.09941928491355384\n",
      "Sample treatment effect (ITE Mean, ITE Std.): (0.09968136775466813, 0.02549210466909146)\n",
      "Empirical ATE: 0.09203177699345721\n"
     ]
    }
   ],
   "source": [
    "# True ATE and standard deviation of individual treatment effects\n",
    "print(f\"Baseline treatment effect (True ATE):{tau_zero}\")\n",
    "print(f\"Sample treatment effect (ITE Mean, ITE Std.): {np.mean(tau), np.std(tau)}\")\n",
    "print(f\"Empirical ATE: {np.mean(y[g==1]) - np.mean(y[g==0])}\")"
   ]
  },
  {
   "cell_type": "code",
   "execution_count": 8,
   "metadata": {},
   "outputs": [],
   "source": [
    "from sklearn.model_selection import train_test_split\n",
    "X, X_val, y, y_val, g, g_val, tau, tau_val = train_test_split(X,y,g,tau, stratify=g)"
   ]
  },
  {
   "cell_type": "code",
   "execution_count": 87,
   "metadata": {},
   "outputs": [
    {
     "name": "stdout",
     "output_type": "stream",
     "text": [
      "Baseline MSE for treatment effect prediction on validation data:      0.0007049108390374096\n"
     ]
    }
   ],
   "source": [
    "print(f\"Baseline MSE for treatment effect prediction on validation data:\\\n",
    "      {np.mean((tau_val - (np.mean(y[g==1]) - np.mean(y[g==0])))**2)}\")"
   ]
  },
  {
   "cell_type": "code",
   "execution_count": 88,
   "metadata": {},
   "outputs": [],
   "source": [
    "data = ExperimentData(X,y,g)"
   ]
  },
  {
   "cell_type": "markdown",
   "metadata": {},
   "source": [
    "## Mini-batch ATE causal net"
   ]
  },
  {
   "cell_type": "markdown",
   "metadata": {},
   "source": [
    "### Model\n",
    "The two-model approach estimates two distinct models on the response variable, one for each group. The difference between the two estimates for the same observations is the treatment effect for a single observation. Disjoint estimation may result in models that are not well calibrated.\n",
    "\n",
    "Solution: Train a neural network to estimate the treatment effect directly. This is not possible for a single observation (-> fundamental problem of causal inference):\n",
    "\n",
    "$$ r_i = \\hat{\\tau}_i - \\tau_i, $$\n",
    "where $\\tau_i$ is of course unknown. \n",
    "\n",
    "We can however evaluate the total error for groups of observations $i \\in 1,\\ldots,N$:\n",
    "\n",
    "$$ \\sum^N r_i = \\sum^N \\hat{\\tau}_i - \\tau_i = \\sum^N \\hat{\\tau}_i - \\sum^N \\tau_i$$\n",
    "\n",
    "\n",
    "The sum treatment effect is only weakly informative for the treatment effect of a single observation and estimating the overall sum of treatment effects leaves too many degrees of freedom for the treatment effect of each observations. By using mini-batches instead, the summed individual treatment effects need to be correct not only for the population N, but also for each subset of the population $M \\in N$.\n",
    "\n",
    "The trick is in shuffling and reshuffling the observation between the batches. On the full sample, the model can get away with predicting the ATE for each observation. For the ATE *in each subset* to be correct, the model needs to predict the individual treatment effects correctly. \n",
    "\n",
    "TODO: Show this formally!"
   ]
  },
  {
   "cell_type": "code",
   "execution_count": 10,
   "metadata": {},
   "outputs": [],
   "source": [
    "class causalnet1(nn.Module):\n",
    "    def __init__(self, input_dim, hidden_layer_sizes):\n",
    "        super().__init__()\n",
    "        self.net = nnet(input_dim, hidden_layer_sizes)\n",
    "        self.loss = []\n",
    "        self.val_loss = []\n",
    "        \n",
    "    def forward(self, X):\n",
    "        treatment_effect = self.net(X)\n",
    "        return treatment_effect\n",
    "    \n",
    "    def train(self, data_loader, epochs, validation_data=None):\n",
    "        for epoch in range(epochs):\n",
    "            ATE, ATE_hat, loss, g_ratio = self._train_iteration(data_loader)\n",
    "            self.loss.append(loss)\n",
    "            if epoch % 5 == 0:\n",
    "                if validation_data is not None:\n",
    "                    tau_hat = self.net(validation_data['X'])\n",
    "                    val_loss = (validation_data['tau'] - tau_hat).pow(2).mean().detach().numpy()\n",
    "                    self.val_loss.append(val_loss)\n",
    "                    print(f\"val_loss: {val_loss}, ATE: {ATE}, ATE_hat: {ATE_hat}, loss: {loss}, balance: {g_ratio}\")\n",
    "                else:\n",
    "                    print(f\"ATE: {ATE}, ATE_hat: {ATE_hat}, loss: {loss}, balance: {g_ratio}\")\n",
    "            \n",
    "    \n",
    "    def _train_iteration(self,data_loader):\n",
    "        for i, (X,y,g) in enumerate(data_loader):\n",
    "            \n",
    "            X = X.float()\n",
    "            y = y.unsqueeze(1).float()\n",
    "            \n",
    "            X0 = Variable(X[g==0,:])\n",
    "            y0 = Variable(y[g==0])\n",
    "            \n",
    "            X1 = Variable(X[g==1,:])\n",
    "            y1 = Variable(y[g==1])\n",
    "            \n",
    "            g_ratio = g.float().mean()\n",
    "            \n",
    "#             response0 = self.net0(X0)\n",
    "#             loss0 = ((y0 - response0)**2).mean()\n",
    "            \n",
    "#             response1 = self.net1(X1)\n",
    "#             loss1 = ((y1 - response1)**2).mean()\n",
    "\n",
    "            treatment_effect = self.net(X)\n",
    "            \n",
    "            ATE_hat = treatment_effect.mean()\n",
    "            ATE     = y1.mean() - y0.mean()\n",
    "            loss_treatment = (ATE - ATE_hat)**2            \n",
    "            \n",
    "            \n",
    "#             if i % 2==0:\n",
    "#                 self.net0.zero_grad()\n",
    "#                 loss =  0*loss0 + loss_treatment\n",
    "#                 loss.backward()\n",
    "#                 optim0.step()\n",
    "#             else:\n",
    "            self.net.zero_grad()\n",
    "            loss =  loss_treatment\n",
    "            loss.backward()\n",
    "            optim.step()\n",
    "                \n",
    "            \n",
    "        return ATE.detach().numpy(), ATE_hat.detach().numpy(), loss.detach().numpy(), g_ratio\n",
    "            "
   ]
  },
  {
   "cell_type": "markdown",
   "metadata": {},
   "source": [
    "### Simulation"
   ]
  },
  {
   "cell_type": "markdown",
   "metadata": {},
   "source": [
    "We can train a FFNN without hidden layers as equivalent to a linear model."
   ]
  },
  {
   "cell_type": "code",
   "execution_count": 148,
   "metadata": {},
   "outputs": [],
   "source": [
    "cnn1 = causalnet1(10, [])"
   ]
  },
  {
   "cell_type": "markdown",
   "metadata": {},
   "source": [
    "My intuition about the batch size is tradeoff: Too large and the signal from each observation becomes too small and predicting the ATE is the dominant strategy. Too small and the training becomes unstable."
   ]
  },
  {
   "cell_type": "markdown",
   "metadata": {},
   "source": [
    "TODO: A dynamic decrease in batch size could provide more and more information given that the model is stable enough to create decent estimates"
   ]
  },
  {
   "cell_type": "markdown",
   "metadata": {},
   "source": [
    "TODO: Ideally, the data loader will pass bs/2 observations of each the treatment and the control group, but this will take some coding, so I ignore it for now. For small batch sizes, it's currently possible that not both groups are present in the batch so the loss will return NaN and training fails."
   ]
  },
  {
   "cell_type": "code",
   "execution_count": 268,
   "metadata": {},
   "outputs": [],
   "source": [
    "data_loader = DataLoader(data, batch_size=500, shuffle=True)"
   ]
  },
  {
   "cell_type": "markdown",
   "metadata": {},
   "source": [
    "A low learning rate is possibly necessary to stabilize training given the noise in the ATE within each batch."
   ]
  },
  {
   "cell_type": "code",
   "execution_count": 269,
   "metadata": {},
   "outputs": [],
   "source": [
    "optim = Adam(cnn1.net.parameters(), lr=0.001)"
   ]
  },
  {
   "cell_type": "code",
   "execution_count": 270,
   "metadata": {},
   "outputs": [],
   "source": [
    "# optim0 = Adam(cnn.net0.parameters(), lr=0.001)\n",
    "# optim1 = Adam(cnn.net1.parameters(), lr=0.001)"
   ]
  },
  {
   "cell_type": "code",
   "execution_count": 281,
   "metadata": {},
   "outputs": [
    {
     "name": "stdout",
     "output_type": "stream",
     "text": [
      "val_loss: 0.006031661760061979, ATE: 0.08883598446846008, ATE_hat: 0.09818439930677414, loss: 8.739285840420052e-05, balance: 0.5120000243186951\n",
      "val_loss: 0.007055092602968216, ATE: 0.09039746224880219, ATE_hat: 0.10067525506019592, loss: 0.00010563302203081548, balance: 0.5040000081062317\n",
      "val_loss: 0.005625902209430933, ATE: 0.12690168619155884, ATE_hat: 0.09595236927270889, loss: 0.0009578602039255202, balance: 0.492000013589859\n",
      "val_loss: 0.007948490791022778, ATE: 0.1316843032836914, ATE_hat: 0.09030191600322723, loss: 0.0017125019803643227, balance: 0.4440000057220459\n"
     ]
    }
   ],
   "source": [
    "cnn1.train(data_loader, epochs=20, validation_data = {\"X\":torch.tensor(X_val).float(), \n",
    "                                              \"tau\":torch.Tensor(tau_val).float()})"
   ]
  },
  {
   "cell_type": "code",
   "execution_count": 282,
   "metadata": {},
   "outputs": [
    {
     "data": {
      "image/png": "[encoded data removed]",
      "text/plain": [
       "<Figure size 432x288 with 1 Axes>"
      ]
     },
     "metadata": {
      "needs_background": "light"
     },
     "output_type": "display_data"
    }
   ],
   "source": [
    "import matplotlib.pyplot as plt\n",
    "plt.plot(cnn1.val_loss)\n",
    "plt.show()"
   ]
  },
  {
   "cell_type": "markdown",
   "metadata": {},
   "source": [
    "For neural networks without hidden layer, we can compare the coefficients to the known true coefficients."
   ]
  },
  {
   "cell_type": "markdown",
   "metadata": {},
   "source": [
    "The ATE is usually approximately correct."
   ]
  },
  {
   "cell_type": "code",
   "execution_count": 283,
   "metadata": {},
   "outputs": [
    {
     "data": {
      "text/plain": [
       "0.09941928491355384"
      ]
     },
     "execution_count": 283,
     "metadata": {},
     "output_type": "execute_result"
    }
   ],
   "source": [
    "tau_zero"
   ]
  },
  {
   "cell_type": "code",
   "execution_count": 284,
   "metadata": {},
   "outputs": [
    {
     "data": {
      "text/plain": [
       "array([0.09372278], dtype=float32)"
      ]
     },
     "execution_count": 284,
     "metadata": {},
     "output_type": "execute_result"
    }
   ],
   "source": [
    "list(cnn1.net.parameters())[1].detach().numpy()"
   ]
  },
  {
   "cell_type": "markdown",
   "metadata": {},
   "source": [
    "The estimated coefficients often don't capture the direction and even approximate size of the effect. "
   ]
  },
  {
   "cell_type": "code",
   "execution_count": 285,
   "metadata": {},
   "outputs": [
    {
     "data": {
      "text/plain": [
       "array([-0.01181628, -0.00056324, -0.00038409, -0.0026142 ,  0.00355688,\n",
       "       -0.01024895,  0.00623549,  0.00018308, -0.00534166, -0.01784753])"
      ]
     },
     "execution_count": 285,
     "metadata": {},
     "output_type": "execute_result"
    }
   ],
   "source": [
    "coef_tau"
   ]
  },
  {
   "cell_type": "code",
   "execution_count": 286,
   "metadata": {},
   "outputs": [
    {
     "data": {
      "text/plain": [
       "array([[-0.03630454,  0.01598906, -0.0417923 ,  0.01154869, -0.0105392 ,\n",
       "        -0.02764627,  0.01178028,  0.01612512, -0.02893417, -0.0010893 ]],\n",
       "      dtype=float32)"
      ]
     },
     "execution_count": 286,
     "metadata": {},
     "output_type": "execute_result"
    }
   ],
   "source": [
    "list(cnn1.net.parameters())[0].detach().numpy()"
   ]
  },
  {
   "cell_type": "markdown",
   "metadata": {},
   "source": [
    "The predicted treatment effects are usually not a accurate estimate of the true individual treatment effects, but correlation is at least positive."
   ]
  },
  {
   "cell_type": "code",
   "execution_count": 287,
   "metadata": {},
   "outputs": [],
   "source": [
    "pred = cnn1(torch.tensor(X).float()).detach().numpy()"
   ]
  },
  {
   "cell_type": "code",
   "execution_count": 294,
   "metadata": {},
   "outputs": [
    {
     "name": "stdout",
     "output_type": "stream",
     "text": [
      "0.09954795307329109 0.02537136176155067\n",
      "0.09374455 0.074115425\n",
      "[[1.         0.46754787]\n",
      " [0.46754787 1.        ]]\n"
     ]
    }
   ],
   "source": [
    "print(tau.mean(), tau.std())\n",
    "print(pred.mean(), pred.std())\n",
    "print(np.corrcoef(tau,pred.flatten(), rowvar=False))"
   ]
  },
  {
   "cell_type": "code",
   "execution_count": 295,
   "metadata": {},
   "outputs": [
    {
     "data": {
      "text/plain": [
       "array([0.23299932, 0.04181808, 0.06345747, 0.00100724, 0.12652723,\n",
       "       0.05745436, 0.07396063, 0.2554624 , 0.11520694, 0.00644137],\n",
       "      dtype=float32)"
      ]
     },
     "execution_count": 295,
     "metadata": {},
     "output_type": "execute_result"
    }
   ],
   "source": [
    "pred.flatten()[:10]"
   ]
  },
  {
   "cell_type": "code",
   "execution_count": 296,
   "metadata": {},
   "outputs": [
    {
     "data": {
      "text/plain": [
       "array([0.12381572, 0.10763013, 0.04988213, 0.0977745 , 0.12228992,\n",
       "       0.13137319, 0.1038555 , 0.10988424, 0.09399612, 0.09210034])"
      ]
     },
     "execution_count": 296,
     "metadata": {},
     "output_type": "execute_result"
    }
   ],
   "source": [
    "tau[:10]"
   ]
  },
  {
   "cell_type": "markdown",
   "metadata": {},
   "source": [
    "## Addditive two-model approach / residual network"
   ]
  },
  {
   "cell_type": "markdown",
   "metadata": {},
   "source": [
    "### Model\n",
    "Again estimate two networks jointly. Decompose the response estimate for treated observations into the response without treatment and the treatment effect. \n",
    "\n",
    "$$ \\hat{y}_t = f_R(X_t) + f_T(X_t) \\\\\n",
    "   \\hat{y}_t = f_R(X_c)$$\n",
    "\n",
    "One network $f_R$ predicts the response without treatment for each customer (treatment and control), the second network $f_T$ estimates the treatment effect. The loss for the first network is the response prediction MSE over all observations $$\\frac{1}{N}\\sum([\\hat{y_t};\\hat{y_c}] - [y_t;y_c])^2$$ the loss for the second network is the response prediction MSE for *only the treated group*, i.e. $$\\frac{1}{N_T}\\sum(\\hat{y_t} - y_t)^2$$"
   ]
  },
  {
   "cell_type": "markdown",
   "metadata": {},
   "source": [
    "TODO: This seems related to an approach called *covariate transformation* in the uplift literature. For covariate transformation, we estimate the outcome $y_i$ on a set of variables $[X_i, t_i \\cdot X_i]$, where $t_i \\cdot X_i$ is the interaction between the treatment indicator $t_i \\in {0;1}$ and observed variables $X$. \n",
    "\n",
    "TODO: For the linear regression model, this is equivalent to including each variable-treatment interaction term (?)"
   ]
  },
  {
   "cell_type": "code",
   "execution_count": 25,
   "metadata": {},
   "outputs": [],
   "source": [
    "class causalnet2(nn.Module):\n",
    "    def __init__(self, input_dim, hidden_layer_sizes):\n",
    "        super().__init__()\n",
    "        self.net0 = nnet(input_dim, hidden_layer_sizes)\n",
    "        self.net1 = nnet(input_dim, hidden_layer_sizes)\n",
    "        self.loss = []\n",
    "        self.val_loss = []\n",
    "        \n",
    "    def forward(self, X):\n",
    "        return self.net1(X)\n",
    "    \n",
    "    def train(self, data_loader, epochs, validation_data=None):\n",
    "        for epoch in range(epochs):\n",
    "            ATE, ATE_hat, loss, g_ratio = self._train_iteration(data_loader)\n",
    "            self.loss.append(loss)\n",
    "            if epoch % 5 == 0:\n",
    "                if validation_data is not None:\n",
    "                    tau_hat = self.net1(validation_data['X'])\n",
    "                    val_loss = (validation_data['tau'] - tau_hat).pow(2).mean().detach().numpy()\n",
    "                    self.val_loss.append(val_loss)\n",
    "                    print(f\"val_loss: {val_loss}, ATE: {ATE}, ATE_hat: {ATE_hat}, loss: {loss}, balance: {g_ratio}\")\n",
    "                else:\n",
    "                    print(f\"ATE: {ATE}, ATE_hat: {ATE_hat}, loss: {loss}, balance: {g_ratio}\")\n",
    "            \n",
    "    \n",
    "    def _train_iteration(self,data_loader):\n",
    "        for i, (X,y,g) in enumerate(data_loader):\n",
    "            \n",
    "            X = X.float()\n",
    "            y = y.unsqueeze(1).float()\n",
    "            \n",
    "            X0 = Variable(X[g==0,:])\n",
    "            y0 = Variable(y[g==0])\n",
    "            \n",
    "            X1 = Variable(X[g==1,:])\n",
    "            y1 = Variable(y[g==1])\n",
    "            \n",
    "            g_ratio = g.float().mean()\n",
    "            \n",
    "            response0 = self.net0(X0)\n",
    "            loss0 = ((y0 - response0).pow(2)).mean()\n",
    "            \n",
    "            response1 = self.net0(X1) + self.net1(X1)\n",
    "            loss1 = ((y1 - response1).pow(2)).mean()\n",
    "            \n",
    "            loss = loss0 + loss1\n",
    "            \n",
    "            ATE_hat = response1.mean() - response0.mean()\n",
    "            ATE     = y1.mean() - y0.mean()\n",
    "            loss_treatment = (ATE - ATE_hat).pow(2)            \n",
    "            \n",
    "            self.net0.zero_grad()\n",
    "            loss0.backward()\n",
    "            optim0.step()\n",
    "\n",
    "            self.net1.zero_grad()\n",
    "            loss1.backward()\n",
    "            optim1.step()\n",
    "                \n",
    "            \n",
    "        return ATE.detach().numpy(), ATE_hat.detach().numpy(), loss.detach().numpy(), g_ratio\n",
    "            "
   ]
  },
  {
   "cell_type": "markdown",
   "metadata": {},
   "source": [
    "### Simulation"
   ]
  },
  {
   "cell_type": "code",
   "execution_count": 297,
   "metadata": {},
   "outputs": [],
   "source": [
    "data_loader = DataLoader(data, batch_size=128, shuffle=True)"
   ]
  },
  {
   "cell_type": "markdown",
   "metadata": {},
   "source": [
    "We can train a FFNN without hidden layers as equivalent to a linear regression model. Note that the true model for y is non-linear, while the true model for the treatment effect is linear."
   ]
  },
  {
   "cell_type": "code",
   "execution_count": 298,
   "metadata": {},
   "outputs": [],
   "source": [
    "cnn2 = causalnet2(10, [])"
   ]
  },
  {
   "cell_type": "code",
   "execution_count": 299,
   "metadata": {},
   "outputs": [],
   "source": [
    "optim0 = Adam(cnn2.net0.parameters(), lr=0.001)\n",
    "optim1 = Adam(cnn2.net1.parameters(), lr=0.001)"
   ]
  },
  {
   "cell_type": "code",
   "execution_count": 300,
   "metadata": {},
   "outputs": [
    {
     "name": "stdout",
     "output_type": "stream",
     "text": [
      "val_loss: 0.2135770320892334, ATE: 0.18655477464199066, ATE_hat: 0.19107061624526978, loss: 0.5158156752586365, balance: 0.5\n",
      "val_loss: 0.017792565748095512, ATE: -0.034338489174842834, ATE_hat: 0.027360394597053528, loss: 0.202156662940979, balance: 0.48245614767074585\n",
      "val_loss: 0.0017366966931149364, ATE: 0.0642431378364563, ATE_hat: 0.05068811774253845, loss: 0.162737175822258, balance: 0.41228070855140686\n",
      "val_loss: 0.001481969142332673, ATE: 0.026723504066467285, ATE_hat: 0.026685744524002075, loss: 0.11837701499462128, balance: 0.45614033937454224\n",
      "val_loss: 0.0017251571407541633, ATE: 0.07240289449691772, ATE_hat: 0.08606421947479248, loss: 0.17076972126960754, balance: 0.5\n",
      "val_loss: 0.0016285869060084224, ATE: 0.17566508054733276, ATE_hat: 0.06951329112052917, loss: 0.15856397151947021, balance: 0.5526315569877625\n",
      "val_loss: 0.0017163169104605913, ATE: 0.13948842883110046, ATE_hat: 0.13218584656715393, loss: 0.158387690782547, balance: 0.5175438523292542\n",
      "val_loss: 0.0015009131748229265, ATE: 0.008832663297653198, ATE_hat: 0.04156199097633362, loss: 0.22436577081680298, balance: 0.5087719559669495\n",
      "val_loss: 0.0018471891526132822, ATE: 0.20117761194705963, ATE_hat: 0.10038845241069794, loss: 0.14521852135658264, balance: 0.5350877046585083\n",
      "val_loss: 0.0016961604123935103, ATE: -0.018645867705345154, ATE_hat: 0.049415647983551025, loss: 0.11788711696863174, balance: 0.5\n",
      "val_loss: 0.0015047002816572785, ATE: 0.11024054884910583, ATE_hat: 0.12398874759674072, loss: 0.0774020105600357, balance: 0.5614035129547119\n",
      "val_loss: 0.001628166064620018, ATE: 0.026520878076553345, ATE_hat: 0.05099445581436157, loss: 0.15106201171875, balance: 0.5614035129547119\n",
      "val_loss: 0.001645846525207162, ATE: 0.023354053497314453, ATE_hat: 0.07698756456375122, loss: 0.1276114583015442, balance: 0.6052631735801697\n",
      "val_loss: 0.0015664191450923681, ATE: 0.06620272994041443, ATE_hat: 0.06919234991073608, loss: 0.09604902565479279, balance: 0.5087719559669495\n",
      "val_loss: 0.001730429008603096, ATE: 0.0345359742641449, ATE_hat: 0.0501275360584259, loss: 0.12943047285079956, balance: 0.5350877046585083\n",
      "val_loss: 0.0015246811090037227, ATE: 0.046597838401794434, ATE_hat: 0.06610018014907837, loss: 0.13773463666439056, balance: 0.5438596606254578\n",
      "val_loss: 0.0019435911672189832, ATE: 0.15459109842777252, ATE_hat: 0.16622301936149597, loss: 0.14003831148147583, balance: 0.45614033937454224\n",
      "val_loss: 0.0015330180758610368, ATE: 0.14012262225151062, ATE_hat: 0.17622607946395874, loss: 0.1120634526014328, balance: 0.48245614767074585\n",
      "val_loss: 0.001549965818412602, ATE: 0.10570001602172852, ATE_hat: 0.1222076267004013, loss: 0.13965517282485962, balance: 0.4385964870452881\n",
      "val_loss: 0.0017926155123859644, ATE: -0.029206037521362305, ATE_hat: 0.0686250776052475, loss: 0.15106521546840668, balance: 0.5175438523292542\n",
      "val_loss: 0.001736525329761207, ATE: 0.09535858035087585, ATE_hat: 0.06106129288673401, loss: 0.12616018950939178, balance: 0.5350877046585083\n",
      "val_loss: 0.0015807872405275702, ATE: 0.03959193825721741, ATE_hat: 0.0659455955028534, loss: 0.10782542824745178, balance: 0.4912280738353729\n",
      "val_loss: 0.0016753282397985458, ATE: 0.018269836902618408, ATE_hat: 0.05236572027206421, loss: 0.12741293013095856, balance: 0.5263158082962036\n",
      "val_loss: 0.001479148748330772, ATE: 0.14986762404441833, ATE_hat: 0.1129213273525238, loss: 0.15413305163383484, balance: 0.4736842215061188\n",
      "val_loss: 0.001476727775298059, ATE: 0.06314916908740997, ATE_hat: 0.04800605773925781, loss: 0.11581797152757645, balance: 0.5438596606254578\n",
      "val_loss: 0.001728893374092877, ATE: 0.1214471310377121, ATE_hat: 0.09689928591251373, loss: 0.16050611436367035, balance: 0.6140350699424744\n",
      "val_loss: 0.001572599052451551, ATE: 0.0683726966381073, ATE_hat: 0.02068600058555603, loss: 0.10235556960105896, balance: 0.44736841320991516\n",
      "val_loss: 0.0014858194626867771, ATE: 0.05944600701332092, ATE_hat: 0.06186860799789429, loss: 0.1164393201470375, balance: 0.4385964870452881\n",
      "val_loss: 0.0015265278052538633, ATE: 0.03888443112373352, ATE_hat: 0.053599536418914795, loss: 0.11666607856750488, balance: 0.41228070855140686\n",
      "val_loss: 0.0016991826705634594, ATE: -0.07373359799385071, ATE_hat: 0.09270280599594116, loss: 0.19852395355701447, balance: 0.4912280738353729\n",
      "val_loss: 0.001728007453493774, ATE: 0.07132300734519958, ATE_hat: 0.0024548470973968506, loss: 0.10124798119068146, balance: 0.5438596606254578\n",
      "val_loss: 0.0017630044603720307, ATE: 0.13165472447872162, ATE_hat: 0.13665331900119781, loss: 0.0922539234161377, balance: 0.5263158082962036\n",
      "val_loss: 0.001521107624284923, ATE: 0.09926624596118927, ATE_hat: 0.0698544830083847, loss: 0.14976200461387634, balance: 0.5\n",
      "val_loss: 0.0015017807018011808, ATE: 0.11369214951992035, ATE_hat: 0.08766970038414001, loss: 0.09224720299243927, balance: 0.5438596606254578\n",
      "val_loss: 0.0018145046196877956, ATE: 0.11464333534240723, ATE_hat: 0.05846595764160156, loss: 0.1467813104391098, balance: 0.5526315569877625\n",
      "val_loss: 0.0016895511653274298, ATE: 0.09362438321113586, ATE_hat: 0.07468771934509277, loss: 0.16497191786766052, balance: 0.5701754093170166\n",
      "val_loss: 0.0016406190115958452, ATE: 0.12439389526844025, ATE_hat: 0.09603738784790039, loss: 0.14508527517318726, balance: 0.37719297409057617\n",
      "val_loss: 0.0018669080454856157, ATE: 0.09225931763648987, ATE_hat: 0.08211119472980499, loss: 0.14014321565628052, balance: 0.42105263471603394\n",
      "val_loss: 0.001690225093625486, ATE: 0.18480485677719116, ATE_hat: 0.18168367445468903, loss: 0.1095670759677887, balance: 0.4736842215061188\n",
      "val_loss: 0.001535750925540924, ATE: 0.20444509387016296, ATE_hat: 0.178988978266716, loss: 0.12141844630241394, balance: 0.5087719559669495\n"
     ]
    }
   ],
   "source": [
    "cnn2.train(data_loader, epochs=200, validation_data = {\"X\":torch.tensor(X_val).float(), \n",
    "                                              \"tau\":torch.Tensor(tau_val).float()})"
   ]
  },
  {
   "cell_type": "code",
   "execution_count": 301,
   "metadata": {},
   "outputs": [
    {
     "data": {
      "image/png": "[encoded data removed]",
      "text/plain": [
       "<Figure size 432x288 with 1 Axes>"
      ]
     },
     "metadata": {
      "needs_background": "light"
     },
     "output_type": "display_data"
    }
   ],
   "source": [
    "import matplotlib.pyplot as plt\n",
    "plt.plot(cnn2.val_loss)\n",
    "plt.show()"
   ]
  },
  {
   "cell_type": "markdown",
   "metadata": {},
   "source": [
    "For neural networks without hidden layer, we can compare the coefficients to the known true coefficients."
   ]
  },
  {
   "cell_type": "code",
   "execution_count": 302,
   "metadata": {},
   "outputs": [
    {
     "data": {
      "text/plain": [
       "0.09941928491355384"
      ]
     },
     "execution_count": 302,
     "metadata": {},
     "output_type": "execute_result"
    }
   ],
   "source": [
    "tau_zero"
   ]
  },
  {
   "cell_type": "code",
   "execution_count": 303,
   "metadata": {},
   "outputs": [
    {
     "data": {
      "text/plain": [
       "array([0.09622353], dtype=float32)"
      ]
     },
     "execution_count": 303,
     "metadata": {},
     "output_type": "execute_result"
    }
   ],
   "source": [
    "list(cnn2.net1.parameters())[1].detach().numpy()"
   ]
  },
  {
   "cell_type": "markdown",
   "metadata": {},
   "source": [
    "The estimated coefficients usually capture the direction and even approximate size of the effect."
   ]
  },
  {
   "cell_type": "code",
   "execution_count": 304,
   "metadata": {},
   "outputs": [
    {
     "data": {
      "text/plain": [
       "array([-0.01181628, -0.00056324, -0.00038409, -0.0026142 ,  0.00355688,\n",
       "       -0.01024895,  0.00623549,  0.00018308, -0.00534166, -0.01784753])"
      ]
     },
     "execution_count": 304,
     "metadata": {},
     "output_type": "execute_result"
    }
   ],
   "source": [
    "coef_tau"
   ]
  },
  {
   "cell_type": "code",
   "execution_count": 305,
   "metadata": {},
   "outputs": [
    {
     "data": {
      "text/plain": [
       "array([[-0.01858542,  0.00478654, -0.01331575,  0.006138  ,  0.00356346,\n",
       "        -0.01191409,  0.00573493, -0.00151849, -0.00746163, -0.02146538]],\n",
       "      dtype=float32)"
      ]
     },
     "execution_count": 305,
     "metadata": {},
     "output_type": "execute_result"
    }
   ],
   "source": [
    "list(cnn2.net1.parameters())[0].detach().numpy()"
   ]
  },
  {
   "cell_type": "markdown",
   "metadata": {},
   "source": [
    "The predicted treatment effects are usually not a accurate estimate of the true individual treatment effects, but correlation is often high."
   ]
  },
  {
   "cell_type": "code",
   "execution_count": 306,
   "metadata": {},
   "outputs": [],
   "source": [
    "pred = cnn2.net1(torch.tensor(X).float()).detach().numpy()"
   ]
  },
  {
   "cell_type": "code",
   "execution_count": 307,
   "metadata": {},
   "outputs": [
    {
     "name": "stdout",
     "output_type": "stream",
     "text": [
      "0.09954795307329109 0.02537136176155067\n",
      "0.09634175 0.035682973\n",
      "[[1.         0.86795479]\n",
      " [0.86795479 1.        ]]\n"
     ]
    }
   ],
   "source": [
    "print(tau.mean(), tau.std())\n",
    "print(pred.mean(), pred.std())\n",
    "print(np.corrcoef(tau,pred.flatten(), rowvar=False))"
   ]
  },
  {
   "cell_type": "code",
   "execution_count": 308,
   "metadata": {},
   "outputs": [
    {
     "data": {
      "text/plain": [
       "array([0.12510437, 0.12058824, 0.05378344, 0.08770087, 0.14319935,\n",
       "       0.12863287, 0.1067209 , 0.12998931, 0.10424721, 0.07129309],\n",
       "      dtype=float32)"
      ]
     },
     "execution_count": 308,
     "metadata": {},
     "output_type": "execute_result"
    }
   ],
   "source": [
    "pred.flatten()[:10]"
   ]
  },
  {
   "cell_type": "code",
   "execution_count": 309,
   "metadata": {},
   "outputs": [
    {
     "data": {
      "text/plain": [
       "array([0.12381572, 0.10763013, 0.04988213, 0.0977745 , 0.12228992,\n",
       "       0.13137319, 0.1038555 , 0.10988424, 0.09399612, 0.09210034])"
      ]
     },
     "execution_count": 309,
     "metadata": {},
     "output_type": "execute_result"
    }
   ],
   "source": [
    "tau[:10]"
   ]
  },
  {
   "cell_type": "code",
   "execution_count": null,
   "metadata": {},
   "outputs": [],
   "source": []
  }
 ],
 "metadata": {
  "kernelspec": {
   "display_name": "Python [deeplearning]",
   "language": "python",
   "name": "Python [deeplearning]"
  },
  "language_info": {
   "codemirror_mode": {
    "name": "ipython",
    "version": 3
   },
   "file_extension": ".py",
   "mimetype": "text/x-python",
   "name": "python",
   "nbconvert_exporter": "python",
   "pygments_lexer": "ipython3",
   "version": "3.6.7"
  }
 },
 "nbformat": 4,
 "nbformat_minor": 2
}
