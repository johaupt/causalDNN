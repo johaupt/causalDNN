{
 "cells": [
  {
   "cell_type": "code",
   "execution_count": 1,
   "metadata": {},
   "outputs": [],
   "source": [
    "import numpy as np\n",
    "import pandas as pd\n",
    "import torch\n",
    "import torch.nn as nn\n",
    "import torch.nn.functional as F\n",
    "from torch.autograd import Variable\n",
    "\n",
    "from torch.utils.data import Dataset, DataLoader\n",
    "\n",
    "from torch.optim import SGD, Adam\n",
    "\n",
    "from tqdm import tqdm"
   ]
  },
  {
   "cell_type": "markdown",
   "metadata": {},
   "source": [
    "The model is a standard multi-layer perceptron. Classification only requires a change to the output activation from None to sigmoid."
   ]
  },
  {
   "cell_type": "code",
   "execution_count": 2,
   "metadata": {},
   "outputs": [],
   "source": [
    "class nnet(nn.Module):\n",
    "    def __init__(self, input_dim, hidden_layer_sizes):\n",
    "        super(nnet, self).__init__()\n",
    "        \n",
    "        self.input_dim = input_dim\n",
    "        self.layer_sizes = hidden_layer_sizes\n",
    "        self.iter = 0\n",
    "        \n",
    "        hidden_layer_sizes = hidden_layer_sizes + [1] # Output layer\n",
    "        first_layer = nn.Linear(input_dim, hidden_layer_sizes[0])\n",
    "        self.layers = nn.ModuleList(\n",
    "            [first_layer] +\\\n",
    "            [nn.Linear(input_, output_)\n",
    "             for input_, output_ in \n",
    "             zip(hidden_layer_sizes, hidden_layer_sizes[1:])])\n",
    "\n",
    "        \n",
    "    def forward(self, x):\n",
    "        for layer in self.layers[:-1]:\n",
    "            x = F.relu(layer(x))\n",
    "        x = self.layers[-1](x)\n",
    "        \n",
    "        return x\n",
    "    \n",
    "    def train(self, data_loader, epochs):\n",
    "        for epoch in range(epochs):\n",
    "            loss = self._train_iteration(data_loader)\n",
    "            if epoch % 5 == 0:\n",
    "                print(f\"loss: {loss}\")\n",
    "                \n",
    "    def _train_iteration(self,data_loader):\n",
    "        for i, (X,y,g) in enumerate(data_loader):\n",
    "            \n",
    "            X = X.float()\n",
    "            y = y.unsqueeze(1).float()\n",
    "            \n",
    "            X = Variable(X, requires_grad=True)\n",
    "            y = Variable(y, requires_grad=True)\n",
    "                      \n",
    "            pred = self(X)\n",
    "            loss = ((y - pred)**2).mean()\n",
    "            \n",
    "            optim.zero_grad()\n",
    "            loss.backward()\n",
    "            optim.step()\n",
    "               \n",
    "        return loss.detach().numpy()"
   ]
  },
  {
   "cell_type": "markdown",
   "metadata": {},
   "source": [
    "# Data"
   ]
  },
  {
   "cell_type": "markdown",
   "metadata": {},
   "source": [
    "The data generating process works as follows (story just for reference):\n",
    "Revenue ($y_i$) depends on some characteristics $X_i$ of the customer i. Customers are given a coupon (treatment $g_i$) with 50% probability . Customer who receive a coupon will spend more or less money (treatment effect $\\tau_i$) depending linearly on their characteristics.\n",
    "\n",
    "$$y_i = X_i ^\\top \\beta_X + g_i \\cdot (\\tau_0 + X_i ^\\top \\beta_{\\tau} + \\epsilon^{\\tau}_i) + \\epsilon_i$$\n",
    "\n",
    "with \n",
    "\n",
    "$$\\epsilon_i \\sim \\text{Normal}(mean = 0, std = 0.1)$$\n",
    "\n",
    "$$g_i \\sim \\text{Bernoulli}(p=0.5)$$\n",
    "$$\\epsilon^{\\tau}_i \\sim \\text{Normal}(mean = 0, std = 0.001)$$\n",
    "\n",
    "I think there is merit to the assumption that the true reponse model is often more complex than the model behind the heterogeneity of treatment effects. \n"
   ]
  },
  {
   "cell_type": "code",
   "execution_count": 3,
   "metadata": {},
   "outputs": [],
   "source": [
    "def generate_experiment(n_obs,n_var, tau=None):\n",
    "    X = np.random.multivariate_normal(\n",
    "             np.zeros(n_var),\n",
    "             np.eye(n_var),\n",
    "             n_obs\n",
    "             )\n",
    "    \n",
    "    \n",
    "    # Linear effects\n",
    "    beta     = np.random.normal(scale=0.1, size=n_var)\n",
    "    # Non-linear effects (optional)\n",
    "    beta_X2  = np.random.normal(loc=0, scale=0.1, size=n_var)\n",
    "    # Linear effects on treatment effect\n",
    "    beta_tau = np.random.normal(loc=0,scale=0.01, size=n_var)\n",
    "    # Baseline treatment effect\n",
    "    tau_zero = np.random.normal(0.1,0.01)\n",
    "    \n",
    "    g = np.hstack([np.ones(n_obs//2), np.zeros(n_obs//2)])\n",
    "        #np.random.binomial(1,0.5,size=n_obs)\n",
    "        \n",
    "    if tau is None:\n",
    "        tau = tau_zero + np.dot(X,beta_tau) + np.random.normal(scale=0.001, size=n_obs)\n",
    "        \n",
    "    y = np.dot(X,beta) +\\\n",
    "        np.dot(np.power(X,2),beta_X2) +\\\n",
    "        g * tau + np.random.normal(scale=0.1, size=n_obs)\n",
    "    \n",
    "    return X, y, g, tau, beta, beta_X2, tau_zero, beta_tau\n",
    "    \n",
    "    "
   ]
  },
  {
   "cell_type": "markdown",
   "metadata": {},
   "source": [
    "The Dataloader is currently a random sampler (see below) that returns $X_i$, $y_i$ and $g_i$ for a batch. \n",
    "\n",
    "TODO: I think a batch sampler stratified on $g$ makes more sense."
   ]
  },
  {
   "cell_type": "code",
   "execution_count": 4,
   "metadata": {},
   "outputs": [],
   "source": [
    "class ExperimentData(Dataset):\n",
    "    def __init__(self, X, y, g):\n",
    "        self.X = X\n",
    "        self.y = y\n",
    "        self.g = g\n",
    "        \n",
    "    def __len__(self):\n",
    "        return X.shape[0]\n",
    "    \n",
    "    def __getitem__(self, idx):\n",
    "        return X[idx,:], y[idx], g[idx]\n",
    "                "
   ]
  },
  {
   "cell_type": "code",
   "execution_count": 5,
   "metadata": {},
   "outputs": [],
   "source": [
    "X, y, g, tau, coef, coef_x2, tau_zero, coef_tau = generate_experiment(15000,10, tau=None)"
   ]
  },
  {
   "cell_type": "markdown",
   "metadata": {},
   "source": [
    "For evaluation in the simulation context, I assume that the treatment effects are known and calculate the accuracy on the model in estimating the treatment effects on a holdout validation set. In practice, the true treatment effects are unknown, of course, so holdout evaluation is an open question."
   ]
  },
  {
   "cell_type": "code",
   "execution_count": 6,
   "metadata": {},
   "outputs": [
    {
     "data": {
      "text/plain": [
       "(0.30378227001716507, 0.38715602598402266)"
      ]
     },
     "execution_count": 6,
     "metadata": {},
     "output_type": "execute_result"
    }
   ],
   "source": [
    "np.mean(y), np.std(y)"
   ]
  },
  {
   "cell_type": "markdown",
   "metadata": {},
   "source": [
    "ATE summary statistics. These should be stable to confirm that the info-noise ratio in the data is not too high."
   ]
  },
  {
   "cell_type": "code",
   "execution_count": 7,
   "metadata": {},
   "outputs": [
    {
     "name": "stdout",
     "output_type": "stream",
     "text": [
      "Baseline treatment effect (True ATE):0.09941928491355384\n",
      "Sample treatment effect (ITE Mean, ITE Std.): (0.09968136775466813, 0.02549210466909146)\n",
      "Empirical ATE: 0.09203177699345721\n"
     ]
    }
   ],
   "source": [
    "# True ATE and standard deviation of individual treatment effects\n",
    "print(f\"Baseline treatment effect (True ATE):{tau_zero}\")\n",
    "print(f\"Sample treatment effect (ITE Mean, ITE Std.): {np.mean(tau), np.std(tau)}\")\n",
    "print(f\"Empirical ATE: {np.mean(y[g==1]) - np.mean(y[g==0])}\")"
   ]
  },
  {
   "cell_type": "code",
   "execution_count": 8,
   "metadata": {},
   "outputs": [],
   "source": [
    "from sklearn.model_selection import train_test_split\n",
    "X, X_val, y, y_val, g, g_val, tau, tau_val = train_test_split(X,y,g,tau, stratify=g)"
   ]
  },
  {
   "cell_type": "code",
   "execution_count": null,
   "metadata": {},
   "outputs": [],
   "source": [
    "tau_"
   ]
  },
  {
   "cell_type": "code",
   "execution_count": 82,
   "metadata": {},
   "outputs": [
    {
     "name": "stdout",
     "output_type": "stream",
     "text": [
      "Baseline MSE for treatment effect prediction on validation data:      0.25560378150483054\n"
     ]
    }
   ],
   "source": [
    "print(f\"Baseline MSE for treatment effect prediction on validation data:\\\n",
    "      {np.mean((tau_val - np.mean(y[g==1]) - np.mean(y[g==0]))**2)}\")"
   ]
  },
  {
   "cell_type": "code",
   "execution_count": 9,
   "metadata": {},
   "outputs": [],
   "source": [
    "data = ExperimentData(X,y,g)"
   ]
  },
  {
   "cell_type": "markdown",
   "metadata": {},
   "source": [
    "## Mini-batch ATE causal net"
   ]
  },
  {
   "cell_type": "markdown",
   "metadata": {},
   "source": [
    "### Model\n",
    "The two-model approach estimates two distinct models on the response variable, one for each group. The difference between the two estimates for the same observations is the treatment effect for a single observation. Disjoint estimation may result in models that are not well calibrated.\n",
    "\n",
    "Solution: Train a neural network to estimate the treatment effect directly. This is not possible for a single observation (-> fundamental problem of causal inference):\n",
    "\n",
    "$$ r_i = \\hat{\\tau}_i - \\tau_i, $$\n",
    "where $\\tau_i$ is of course unknown. \n",
    "\n",
    "We can however evaluate the total error for groups of observations $i \\in 1,\\ldots,N$:\n",
    "\n",
    "$$ \\sum^N r_i = \\sum^N \\hat{\\tau}_i - \\tau_i = \\sum^N \\hat{\\tau}_i - \\sum^N \\tau_i$$\n",
    "\n",
    "\n",
    "The sum treatment effect is only weakly informative for the treatment effect of a single observation and estimating the overall sum of treatment effects leaves too many degrees of freedom for the treatment effect of each observations. By using mini-batches instead, the summed individual treatment effects need to be correct not only for the population N, but also for each subset of the population $M \\in N$.\n",
    "\n",
    "The trick is in shuffling and reshuffling the observation between the batches. On the full sample, the model can get away with predicting the ATE for each observation. For the ATE *in each subset* to be correct, the model needs to predict the individual treatment effects correctly. \n",
    "\n",
    "TODO: Show this formally!"
   ]
  },
  {
   "cell_type": "code",
   "execution_count": 10,
   "metadata": {},
   "outputs": [],
   "source": [
    "class causalnet1(nn.Module):\n",
    "    def __init__(self, input_dim, hidden_layer_sizes):\n",
    "        super().__init__()\n",
    "        self.net = nnet(input_dim, hidden_layer_sizes)\n",
    "        self.loss = []\n",
    "        self.val_loss = []\n",
    "        \n",
    "    def forward(self, X):\n",
    "        treatment_effect = self.net(X)\n",
    "        return treatment_effect\n",
    "    \n",
    "    def train(self, data_loader, epochs, validation_data=None):\n",
    "        for epoch in range(epochs):\n",
    "            ATE, ATE_hat, loss, g_ratio = self._train_iteration(data_loader)\n",
    "            self.loss.append(loss)\n",
    "            if epoch % 5 == 0:\n",
    "                if validation_data is not None:\n",
    "                    tau_hat = self.net(validation_data['X'])\n",
    "                    val_loss = (validation_data['tau'] - tau_hat).pow(2).mean().detach().numpy()\n",
    "                    self.val_loss.append(val_loss)\n",
    "                    print(f\"val_loss: {val_loss}, ATE: {ATE}, ATE_hat: {ATE_hat}, loss: {loss}, balance: {g_ratio}\")\n",
    "                else:\n",
    "                    print(f\"ATE: {ATE}, ATE_hat: {ATE_hat}, loss: {loss}, balance: {g_ratio}\")\n",
    "            \n",
    "    \n",
    "    def _train_iteration(self,data_loader):\n",
    "        for i, (X,y,g) in enumerate(data_loader):\n",
    "            \n",
    "            X = X.float()\n",
    "            y = y.unsqueeze(1).float()\n",
    "            \n",
    "            X0 = Variable(X[g==0,:])\n",
    "            y0 = Variable(y[g==0])\n",
    "            \n",
    "            X1 = Variable(X[g==1,:])\n",
    "            y1 = Variable(y[g==1])\n",
    "            \n",
    "            g_ratio = g.float().mean()\n",
    "            \n",
    "#             response0 = self.net0(X0)\n",
    "#             loss0 = ((y0 - response0)**2).mean()\n",
    "            \n",
    "#             response1 = self.net1(X1)\n",
    "#             loss1 = ((y1 - response1)**2).mean()\n",
    "\n",
    "            treatment_effect = self.net(X)\n",
    "            \n",
    "            ATE_hat = treatment_effect.mean()\n",
    "            ATE     = y1.mean() - y0.mean()\n",
    "            loss_treatment = (ATE - ATE_hat)**2            \n",
    "            \n",
    "            \n",
    "#             if i % 2==0:\n",
    "#                 self.net0.zero_grad()\n",
    "#                 loss =  0*loss0 + loss_treatment\n",
    "#                 loss.backward()\n",
    "#                 optim0.step()\n",
    "#             else:\n",
    "            self.net.zero_grad()\n",
    "            loss =  loss_treatment\n",
    "            loss.backward()\n",
    "            optim.step()\n",
    "                \n",
    "            \n",
    "        return ATE.detach().numpy(), ATE_hat.detach().numpy(), loss.detach().numpy(), g_ratio\n",
    "            "
   ]
  },
  {
   "cell_type": "markdown",
   "metadata": {},
   "source": [
    "### Simulation"
   ]
  },
  {
   "cell_type": "markdown",
   "metadata": {},
   "source": [
    "My intuition about the batch size is tradeoff: Too large and the signal from each observation becomes too small and predicting the ATE is the dominant strategy. Too small and the training becomes unstable."
   ]
  },
  {
   "cell_type": "markdown",
   "metadata": {},
   "source": [
    "TODO: A dynamic decrease in batch size could provide more and more information given that the model is stable enough to create decent estimates"
   ]
  },
  {
   "cell_type": "markdown",
   "metadata": {},
   "source": [
    "TODO: Ideally, the data loader will pass bs/2 observations of each the treatment and the control group, but this will take some coding, so I ignore it for now. For small batch sizes, it's currently possible that not both groups are present in the batch so the loss will return NaN and training fails."
   ]
  },
  {
   "cell_type": "code",
   "execution_count": 66,
   "metadata": {},
   "outputs": [],
   "source": [
    "data_loader = DataLoader(data, batch_size=1024, shuffle=True)"
   ]
  },
  {
   "cell_type": "markdown",
   "metadata": {},
   "source": [
    "We can train a FFNN without hidden layers as equivalent to the true linear regression model."
   ]
  },
  {
   "cell_type": "code",
   "execution_count": 67,
   "metadata": {},
   "outputs": [],
   "source": [
    "cnn1 = causalnet1(10, [])"
   ]
  },
  {
   "cell_type": "markdown",
   "metadata": {},
   "source": [
    "A low learning rate is possibly necessary to stabilize training given the noise in the ATE within each batch."
   ]
  },
  {
   "cell_type": "code",
   "execution_count": 68,
   "metadata": {},
   "outputs": [],
   "source": [
    "optim = Adam(cnn1.net.parameters(), lr=0.001)"
   ]
  },
  {
   "cell_type": "code",
   "execution_count": 69,
   "metadata": {},
   "outputs": [],
   "source": [
    "# optim0 = Adam(cnn.net0.parameters(), lr=0.001)\n",
    "# optim1 = Adam(cnn.net1.parameters(), lr=0.001)"
   ]
  },
  {
   "cell_type": "code",
   "execution_count": 70,
   "metadata": {},
   "outputs": [
    {
     "name": "stdout",
     "output_type": "stream",
     "text": [
      "val_loss: 0.3939637541770935, ATE: 0.10460539162158966, ATE_hat: -0.15642894804477692, loss: 0.06813892722129822, balance: 0.4663366377353668\n",
      "val_loss: 0.3599683940410614, ATE: 0.09905397891998291, ATE_hat: -0.12370926141738892, loss: 0.049623459577560425, balance: 0.48712870478630066\n",
      "val_loss: 0.33551907539367676, ATE: 0.12718407809734344, ATE_hat: -0.07809216529130936, loss: 0.04213833808898926, balance: 0.5178217887878418\n",
      "val_loss: 0.32068872451782227, ATE: 0.09457835555076599, ATE_hat: -0.04236472770571709, loss: 0.018753409385681152, balance: 0.4821782112121582\n",
      "val_loss: 0.3120989501476288, ATE: 0.11626145243644714, ATE_hat: 0.01940097101032734, loss: 0.009381953626871109, balance: 0.512871265411377\n",
      "val_loss: 0.3062618672847748, ATE: 0.11410671472549438, ATE_hat: 0.02787178009748459, loss: 0.007436464074999094, balance: 0.4752475321292877\n",
      "val_loss: 0.29948824644088745, ATE: 0.09965014457702637, ATE_hat: 0.06370097398757935, loss: 0.001292342902161181, balance: 0.49702969193458557\n",
      "val_loss: 0.29192742705345154, ATE: 0.109487384557724, ATE_hat: 0.06496118009090424, loss: 0.0019825829658657312, balance: 0.48712870478630066\n",
      "val_loss: 0.28555163741111755, ATE: 0.09520623087882996, ATE_hat: 0.09307664632797241, loss: 4.53513030151953e-06, balance: 0.48712870478630066\n",
      "val_loss: 0.27885401248931885, ATE: 0.09982024133205414, ATE_hat: 0.07894858717918396, loss: 0.00043562595965340734, balance: 0.5326732397079468\n",
      "val_loss: 0.2697756886482239, ATE: 0.0860138088464737, ATE_hat: 0.10689328610897064, loss: 0.0004359525628387928, balance: 0.5059406161308289\n",
      "val_loss: 0.2634243071079254, ATE: 0.10074320435523987, ATE_hat: 0.06999925523996353, loss: 0.0009451904334127903, balance: 0.498019814491272\n",
      "val_loss: 0.25718340277671814, ATE: 0.07776293158531189, ATE_hat: 0.10250335931777954, loss: 0.0006120887701399624, balance: 0.5\n",
      "val_loss: 0.24682417511940002, ATE: 0.1278030127286911, ATE_hat: 0.09451033920049667, loss: 0.0011084021534770727, balance: 0.49405941367149353\n",
      "val_loss: 0.23561570048332214, ATE: 0.08400815725326538, ATE_hat: 0.10667934268712997, loss: 0.0005139826680533588, balance: 0.5\n",
      "val_loss: 0.22054064273834229, ATE: 0.07691913843154907, ATE_hat: 0.09576968848705292, loss: 0.0003553432470653206, balance: 0.5079208016395569\n",
      "val_loss: 0.21091006696224213, ATE: 0.12364666163921356, ATE_hat: 0.07803577184677124, loss: 0.002080353209748864, balance: 0.4732673168182373\n",
      "val_loss: 0.1987113058567047, ATE: 0.10863113403320312, ATE_hat: 0.10228323191404343, loss: 4.029586125398055e-05, balance: 0.49603959918022156\n",
      "val_loss: 0.19098520278930664, ATE: 0.1574845314025879, ATE_hat: 0.10541821271181107, loss: 0.0027109014336019754, balance: 0.49702969193458557\n",
      "val_loss: 0.1802978366613388, ATE: 0.09962081909179688, ATE_hat: 0.10455211997032166, loss: 2.4317729184986092e-05, balance: 0.5396039485931396\n",
      "val_loss: 0.1720374971628189, ATE: 0.1096058338880539, ATE_hat: 0.08072296530008316, loss: 0.0008342200890183449, balance: 0.5099009871482849\n",
      "val_loss: 0.1626783162355423, ATE: 0.12300980091094971, ATE_hat: 0.1016327440738678, loss: 0.00045697856694459915, balance: 0.513861358165741\n",
      "val_loss: 0.15610039234161377, ATE: 0.07614034414291382, ATE_hat: 0.08843313902616501, loss: 0.00015111280663404614, balance: 0.47623762488365173\n",
      "val_loss: 0.14637653529644012, ATE: 0.06476262211799622, ATE_hat: 0.08756976574659348, loss: 0.0005201657768338919, balance: 0.5059406161308289\n",
      "val_loss: 0.14081217348575592, ATE: 0.12451156973838806, ATE_hat: 0.08359695971012115, loss: 0.0016740052960813046, balance: 0.503960371017456\n",
      "val_loss: 0.1290147304534912, ATE: 0.09791702032089233, ATE_hat: 0.07792935520410538, loss: 0.0003995067672803998, balance: 0.5059406161308289\n",
      "val_loss: 0.12107009440660477, ATE: 0.10678732395172119, ATE_hat: 0.08443781733512878, loss: 0.0004995004273951054, balance: 0.499009907245636\n",
      "val_loss: 0.1173335388302803, ATE: 0.05211421847343445, ATE_hat: 0.0849122703075409, loss: 0.0010757121490314603, balance: 0.49504950642585754\n",
      "val_loss: 0.11391177773475647, ATE: 0.07181510329246521, ATE_hat: 0.09043285250663757, loss: 0.00034662059624679387, balance: 0.5108910799026489\n",
      "val_loss: 0.10845226794481277, ATE: 0.1356135904788971, ATE_hat: 0.0734553188085556, loss: 0.0038636508397758007, balance: 0.48613861203193665\n",
      "val_loss: 0.10099555552005768, ATE: 0.09326988458633423, ATE_hat: 0.09308914840221405, loss: 3.266556802827836e-08, balance: 0.5099009871482849\n",
      "val_loss: 0.09579352289438248, ATE: 0.09288620948791504, ATE_hat: 0.08457514643669128, loss: 6.907377246534452e-05, balance: 0.48712870478630066\n",
      "val_loss: 0.09106966108083725, ATE: 0.1352856159210205, ATE_hat: 0.09622896462678909, loss: 0.0015254219761118293, balance: 0.5118811726570129\n",
      "val_loss: 0.08611715584993362, ATE: 0.04913359880447388, ATE_hat: 0.08880436420440674, loss: 0.0015737696085125208, balance: 0.49603959918022156\n",
      "val_loss: 0.0813271701335907, ATE: 0.1395503282546997, ATE_hat: 0.10295595973730087, loss: 0.001339147798717022, balance: 0.48712870478630066\n",
      "val_loss: 0.07926081866025925, ATE: 0.10880807042121887, ATE_hat: 0.10227233171463013, loss: 4.2715881136246026e-05, balance: 0.4881187975406647\n",
      "val_loss: 0.07501266896724701, ATE: 0.10245952010154724, ATE_hat: 0.09482655674219131, loss: 5.8262128732167184e-05, balance: 0.5316831469535828\n",
      "val_loss: 0.06690536439418793, ATE: 0.07490098476409912, ATE_hat: 0.09430989623069763, loss: 0.0003767058369703591, balance: 0.502970278263092\n",
      "val_loss: 0.06379053741693497, ATE: 0.1088167130947113, ATE_hat: 0.10876422375440598, loss: 2.755130790177418e-09, balance: 0.499009907245636\n",
      "val_loss: 0.06058217212557793, ATE: 0.0743061900138855, ATE_hat: 0.08928580582141876, loss: 0.00022438888845499605, balance: 0.5148515105247498\n"
     ]
    }
   ],
   "source": [
    "cnn1.train(data_loader, epochs=200, validation_data = {\"X\":torch.tensor(X_val).float(), \n",
    "                                              \"tau\":torch.Tensor(tau_val).float()})"
   ]
  },
  {
   "cell_type": "code",
   "execution_count": 71,
   "metadata": {},
   "outputs": [
    {
     "data": {
      "image/png": "[encoded data removed]",
      "text/plain": [
       "<Figure size 432x288 with 1 Axes>"
      ]
     },
     "metadata": {
      "needs_background": "light"
     },
     "output_type": "display_data"
    }
   ],
   "source": [
    "import matplotlib.pyplot as plt\n",
    "plt.plot(cnn1.val_loss)\n",
    "plt.show()"
   ]
  },
  {
   "cell_type": "markdown",
   "metadata": {},
   "source": [
    "For neural networks without hidden layer, we can compare the coefficients to the known true coefficients."
   ]
  },
  {
   "cell_type": "markdown",
   "metadata": {},
   "source": [
    "The ATE is usually approximately correct."
   ]
  },
  {
   "cell_type": "code",
   "execution_count": 72,
   "metadata": {},
   "outputs": [
    {
     "data": {
      "text/plain": [
       "0.09941928491355384"
      ]
     },
     "execution_count": 72,
     "metadata": {},
     "output_type": "execute_result"
    }
   ],
   "source": [
    "tau_zero"
   ]
  },
  {
   "cell_type": "code",
   "execution_count": 73,
   "metadata": {},
   "outputs": [
    {
     "data": {
      "text/plain": [
       "array([0.09392048], dtype=float32)"
      ]
     },
     "execution_count": 73,
     "metadata": {},
     "output_type": "execute_result"
    }
   ],
   "source": [
    "list(cnn1.net.parameters())[1].detach().numpy()"
   ]
  },
  {
   "cell_type": "markdown",
   "metadata": {},
   "source": [
    "The estimated coefficients often don't capture the direction and even approximate size of the effect. "
   ]
  },
  {
   "cell_type": "code",
   "execution_count": 74,
   "metadata": {},
   "outputs": [
    {
     "data": {
      "text/plain": [
       "array([-0.01181628, -0.00056324, -0.00038409, -0.0026142 ,  0.00355688,\n",
       "       -0.01024895,  0.00623549,  0.00018308, -0.00534166, -0.01784753])"
      ]
     },
     "execution_count": 74,
     "metadata": {},
     "output_type": "execute_result"
    }
   ],
   "source": [
    "coef_tau"
   ]
  },
  {
   "cell_type": "code",
   "execution_count": 75,
   "metadata": {},
   "outputs": [
    {
     "data": {
      "text/plain": [
       "array([[ 0.02235821, -0.09537394,  0.03654303,  0.05068643,  0.12570445,\n",
       "        -0.09733441,  0.04787605,  0.08505245, -0.03988213,  0.08098884]],\n",
       "      dtype=float32)"
      ]
     },
     "execution_count": 75,
     "metadata": {},
     "output_type": "execute_result"
    }
   ],
   "source": [
    "list(cnn1.net.parameters())[0].detach().numpy()"
   ]
  },
  {
   "cell_type": "markdown",
   "metadata": {},
   "source": [
    "The predicted treatment effects are usually not a accurate estimate of the true individual treatment effects, but correlation is at least positive."
   ]
  },
  {
   "cell_type": "code",
   "execution_count": 76,
   "metadata": {},
   "outputs": [],
   "source": [
    "pred = cnn1(torch.tensor(X).float()).detach().numpy()"
   ]
  },
  {
   "cell_type": "code",
   "execution_count": 77,
   "metadata": {},
   "outputs": [
    {
     "name": "stdout",
     "output_type": "stream",
     "text": [
      "0.09954795307329109 0.02537136176155067\n",
      "0.09410434 0.23787782\n",
      "[[1.         0.02499012]\n",
      " [0.02499012 1.        ]]\n"
     ]
    }
   ],
   "source": [
    "print(tau.mean(), tau.std())\n",
    "print(pred.mean(), pred.std())\n",
    "print(np.corrcoef(tau,pred.flatten()))"
   ]
  },
  {
   "cell_type": "code",
   "execution_count": 78,
   "metadata": {},
   "outputs": [
    {
     "data": {
      "text/plain": [
       "array([-0.10420389,  0.11199708, -0.20473675,  0.02476408, -0.19007854,\n",
       "       -0.17463998,  0.21059147,  0.05530845,  0.02547589,  0.30920845],\n",
       "      dtype=float32)"
      ]
     },
     "execution_count": 78,
     "metadata": {},
     "output_type": "execute_result"
    }
   ],
   "source": [
    "pred.flatten()[:10]"
   ]
  },
  {
   "cell_type": "code",
   "execution_count": 79,
   "metadata": {},
   "outputs": [
    {
     "data": {
      "text/plain": [
       "array([0.12381572, 0.10763013, 0.04988213, 0.0977745 , 0.12228992,\n",
       "       0.13137319, 0.1038555 , 0.10988424, 0.09399612, 0.09210034])"
      ]
     },
     "execution_count": 79,
     "metadata": {},
     "output_type": "execute_result"
    }
   ],
   "source": [
    "tau[:10]"
   ]
  },
  {
   "cell_type": "markdown",
   "metadata": {},
   "source": [
    "## Addditive two-model approach / residual network"
   ]
  },
  {
   "cell_type": "markdown",
   "metadata": {},
   "source": [
    "### Model\n",
    "Again estimate two networks jointly. Decompose the response estimate for treated observations into the response without treatment and the treatment effect. \n",
    "\n",
    "$$ \\hat{y}_t = f_R(X_t) + f_T(X_t) \\\\\n",
    "   \\hat{y}_t = f_R(X_c)$$\n",
    "\n",
    "One network $f_R$ predicts the response without treatment for each customer (treatment and control), the second network $f_T$ estimates the treatment effect. The loss for the first network is the response prediction MSE over all observations $$\\frac{1}{N}\\sum([\\hat{y_t};\\hat{y_c}] - [y_t;y_c])^2$$ the loss for the second network is the response prediction MSE for *only the treated group*, i.e. $$\\frac{1}{N_T}\\sum(\\hat{y_t} - y_t)^2$$"
   ]
  },
  {
   "cell_type": "markdown",
   "metadata": {},
   "source": [
    "TODO: This seems related to an approach called *covariate transformation* in the uplift literature. For covariate transformation, we estimate the outcome $y_i$ on a set of variables $[X_i, t_i \\cdot X_i]$, where $t_i \\cdot X_i$ is the interaction between the treatment indicator $t_i \\in {0;1}$ and observed variables $X$. \n",
    "\n",
    "TODO: For the linear regression model, this is equivalent to including each variable-treatment interaction term (?)"
   ]
  },
  {
   "cell_type": "code",
   "execution_count": 25,
   "metadata": {},
   "outputs": [],
   "source": [
    "class causalnet2(nn.Module):\n",
    "    def __init__(self, input_dim, hidden_layer_sizes):\n",
    "        super().__init__()\n",
    "        self.net0 = nnet(input_dim, hidden_layer_sizes)\n",
    "        self.net1 = nnet(input_dim, hidden_layer_sizes)\n",
    "        self.loss = []\n",
    "        self.val_loss = []\n",
    "        \n",
    "    def forward(self, X):\n",
    "        return self.net1(X)\n",
    "    \n",
    "    def train(self, data_loader, epochs, validation_data=None):\n",
    "        for epoch in range(epochs):\n",
    "            ATE, ATE_hat, loss, g_ratio = self._train_iteration(data_loader)\n",
    "            self.loss.append(loss)\n",
    "            if epoch % 5 == 0:\n",
    "                if validation_data is not None:\n",
    "                    tau_hat = self.net1(validation_data['X'])\n",
    "                    val_loss = (validation_data['tau'] - tau_hat).pow(2).mean().detach().numpy()\n",
    "                    self.val_loss.append(val_loss)\n",
    "                    print(f\"val_loss: {val_loss}, ATE: {ATE}, ATE_hat: {ATE_hat}, loss: {loss}, balance: {g_ratio}\")\n",
    "                else:\n",
    "                    print(f\"ATE: {ATE}, ATE_hat: {ATE_hat}, loss: {loss}, balance: {g_ratio}\")\n",
    "            \n",
    "    \n",
    "    def _train_iteration(self,data_loader):\n",
    "        for i, (X,y,g) in enumerate(data_loader):\n",
    "            \n",
    "            X = X.float()\n",
    "            y = y.unsqueeze(1).float()\n",
    "            \n",
    "            X0 = Variable(X[g==0,:])\n",
    "            y0 = Variable(y[g==0])\n",
    "            \n",
    "            X1 = Variable(X[g==1,:])\n",
    "            y1 = Variable(y[g==1])\n",
    "            \n",
    "            g_ratio = g.float().mean()\n",
    "            \n",
    "            response0 = self.net0(X0)\n",
    "            loss0 = ((y0 - response0).pow(2)).mean()\n",
    "            \n",
    "            response1 = self.net0(X1) + self.net1(X1)\n",
    "            loss1 = ((y1 - response1).pow(2)).mean()\n",
    "            \n",
    "            loss = loss0 + loss1\n",
    "            \n",
    "            ATE_hat = response1.mean() - response0.mean()\n",
    "            ATE     = y1.mean() - y0.mean()\n",
    "            loss_treatment = (ATE - ATE_hat).pow(2)            \n",
    "            \n",
    "            self.net0.zero_grad()\n",
    "            loss0.backward()\n",
    "            optim0.step()\n",
    "\n",
    "            self.net1.zero_grad()\n",
    "            loss1.backward()\n",
    "            optim1.step()\n",
    "                \n",
    "            \n",
    "        return ATE.detach().numpy(), ATE_hat.detach().numpy(), loss.detach().numpy(), g_ratio\n",
    "            "
   ]
  },
  {
   "cell_type": "markdown",
   "metadata": {},
   "source": [
    "### Simulation"
   ]
  },
  {
   "cell_type": "code",
   "execution_count": 26,
   "metadata": {},
   "outputs": [],
   "source": [
    "data_loader = DataLoader(data, batch_size=128, shuffle=True)"
   ]
  },
  {
   "cell_type": "markdown",
   "metadata": {},
   "source": [
    "We can train a FFNN without hidden layers as equivalent to a linear regression model. Note that the true model for y is non-linear, while the true model for the treatment effect is linear."
   ]
  },
  {
   "cell_type": "code",
   "execution_count": 27,
   "metadata": {},
   "outputs": [],
   "source": [
    "cnn2 = causalnet2(10, [])"
   ]
  },
  {
   "cell_type": "code",
   "execution_count": 28,
   "metadata": {},
   "outputs": [],
   "source": [
    "optim0 = Adam(cnn2.net0.parameters(), lr=0.001)\n",
    "optim1 = Adam(cnn2.net1.parameters(), lr=0.001)"
   ]
  },
  {
   "cell_type": "code",
   "execution_count": 29,
   "metadata": {},
   "outputs": [
    {
     "name": "stdout",
     "output_type": "stream",
     "text": [
      "val_loss: 0.31983739137649536, ATE: 0.039856791496276855, ATE_hat: 0.2881721258163452, loss: 0.7874999046325684, balance: 0.5087719559669495\n",
      "val_loss: 0.05237380415201187, ATE: 0.03538721799850464, ATE_hat: 0.12635758519172668, loss: 0.1336619108915329, balance: 0.5087719559669495\n",
      "val_loss: 0.0027038927655667067, ATE: 0.2698028087615967, ATE_hat: 0.2562141716480255, loss: 0.13276541233062744, balance: 0.4736842215061188\n",
      "val_loss: 0.0014801514334976673, ATE: 0.14661186933517456, ATE_hat: 0.14969894289970398, loss: 0.14468304812908173, balance: 0.5263158082962036\n",
      "val_loss: 0.001657499698922038, ATE: -0.004258185625076294, ATE_hat: 0.10067881643772125, loss: 0.13434848189353943, balance: 0.4649122953414917\n",
      "val_loss: 0.0015906670596450567, ATE: 0.022585421800613403, ATE_hat: -0.040996626019477844, loss: 0.15352189540863037, balance: 0.45614033937454224\n",
      "val_loss: 0.0016710431082174182, ATE: 0.1673550307750702, ATE_hat: 0.12963742017745972, loss: 0.1302785873413086, balance: 0.4912280738353729\n",
      "val_loss: 0.0016228032764047384, ATE: 0.13480795919895172, ATE_hat: 0.08972875773906708, loss: 0.13871365785598755, balance: 0.5\n",
      "val_loss: 0.001696393359452486, ATE: 0.18891632556915283, ATE_hat: 0.15686167776584625, loss: 0.13847407698631287, balance: 0.5789473652839661\n",
      "val_loss: 0.0015773770865052938, ATE: -0.037367552518844604, ATE_hat: 0.05558043718338013, loss: 0.10169339179992676, balance: 0.4912280738353729\n",
      "val_loss: 0.0018846419407054782, ATE: 0.1435239464044571, ATE_hat: 0.18675439059734344, loss: 0.14251112937927246, balance: 0.5614035129547119\n",
      "val_loss: 0.0015663305530324578, ATE: 0.1447698473930359, ATE_hat: 0.17102397978305817, loss: 0.17206044495105743, balance: 0.5614035129547119\n",
      "val_loss: 0.0017408381681889296, ATE: 0.16718734800815582, ATE_hat: 0.16545438766479492, loss: 0.102955162525177, balance: 0.4736842215061188\n",
      "val_loss: 0.0014190274523571134, ATE: 0.15850158035755157, ATE_hat: 0.12695877254009247, loss: 0.12274298071861267, balance: 0.5\n",
      "val_loss: 0.0016075725434347987, ATE: -0.023440733551979065, ATE_hat: 0.04404856264591217, loss: 0.10983574390411377, balance: 0.5263158082962036\n",
      "val_loss: 0.0022595322225242853, ATE: 0.0389520525932312, ATE_hat: 0.07671639323234558, loss: 0.10496068745851517, balance: 0.4736842215061188\n",
      "val_loss: 0.001619525020942092, ATE: 0.07791844010353088, ATE_hat: 0.11364533007144928, loss: 0.10758599638938904, balance: 0.48245614767074585\n",
      "val_loss: 0.0015441683353856206, ATE: 0.2110358476638794, ATE_hat: 0.13020887970924377, loss: 0.1629050076007843, balance: 0.5087719559669495\n",
      "val_loss: 0.001512173330411315, ATE: 0.10425388813018799, ATE_hat: 0.0537261962890625, loss: 0.19055166840553284, balance: 0.5263158082962036\n",
      "val_loss: 0.001823511440306902, ATE: 0.034657418727874756, ATE_hat: 0.1485954374074936, loss: 0.11480177938938141, balance: 0.44736841320991516\n",
      "val_loss: 0.0018062301678583026, ATE: 0.007231026887893677, ATE_hat: 0.10101145505905151, loss: 0.11240528523921967, balance: 0.5614035129547119\n",
      "val_loss: 0.0018082530004903674, ATE: 0.06895843148231506, ATE_hat: 0.07861447334289551, loss: 0.11723065376281738, balance: 0.6052631735801697\n",
      "val_loss: 0.0017039133235812187, ATE: 0.03972688317298889, ATE_hat: 0.05273938179016113, loss: 0.12714140117168427, balance: 0.5350877046585083\n",
      "val_loss: 0.001604930148459971, ATE: 0.11826883256435394, ATE_hat: 0.10482466220855713, loss: 0.18889202177524567, balance: 0.5\n",
      "val_loss: 0.001934607746079564, ATE: 0.19662870466709137, ATE_hat: 0.15944048762321472, loss: 0.13276855647563934, balance: 0.6228070259094238\n",
      "val_loss: 0.0020583404693752527, ATE: 0.17335808277130127, ATE_hat: 0.10766083002090454, loss: 0.14030958712100983, balance: 0.5175438523292542\n",
      "val_loss: 0.0019073581788688898, ATE: 0.1350427269935608, ATE_hat: 0.12592779099941254, loss: 0.157084122300148, balance: 0.4912280738353729\n",
      "val_loss: 0.0018375221407040954, ATE: 0.010145068168640137, ATE_hat: 0.05005180835723877, loss: 0.13629096746444702, balance: 0.5\n",
      "val_loss: 0.0017438980285078287, ATE: 0.2146589308977127, ATE_hat: 0.16336411237716675, loss: 0.14386090636253357, balance: 0.5175438523292542\n",
      "val_loss: 0.0017939932877197862, ATE: 0.1022036075592041, ATE_hat: 0.12864650785923004, loss: 0.12449699640274048, balance: 0.4736842215061188\n",
      "val_loss: 0.0014567265752702951, ATE: 0.014169037342071533, ATE_hat: 0.009166181087493896, loss: 0.14861071109771729, balance: 0.5\n",
      "val_loss: 0.0017784649971872568, ATE: 0.2240954488515854, ATE_hat: 0.1937641203403473, loss: 0.14480111002922058, balance: 0.5\n",
      "val_loss: 0.0017750991974025965, ATE: 0.05570483207702637, ATE_hat: 0.0571158230304718, loss: 0.1097797304391861, balance: 0.5263158082962036\n",
      "val_loss: 0.0017658283468335867, ATE: 0.03610748052597046, ATE_hat: 0.11523579061031342, loss: 0.12655757367610931, balance: 0.5175438523292542\n",
      "val_loss: 0.0017947994638234377, ATE: 0.08230288326740265, ATE_hat: 0.06670716404914856, loss: 0.08548504114151001, balance: 0.5438596606254578\n",
      "val_loss: 0.0017884598346427083, ATE: 0.07904857397079468, ATE_hat: 0.10118505358695984, loss: 0.12248474359512329, balance: 0.4912280738353729\n",
      "val_loss: 0.0017059784149751067, ATE: 0.13154250383377075, ATE_hat: 0.0730353593826294, loss: 0.1641794741153717, balance: 0.5614035129547119\n",
      "val_loss: 0.0016233028145506978, ATE: 0.25619232654571533, ATE_hat: 0.16787369549274445, loss: 0.17867016792297363, balance: 0.4912280738353729\n",
      "val_loss: 0.0018517988501116633, ATE: 0.13414542376995087, ATE_hat: 0.10069361329078674, loss: 0.12638327479362488, balance: 0.44736841320991516\n",
      "val_loss: 0.0019595474004745483, ATE: 0.04838249087333679, ATE_hat: 0.08154204487800598, loss: 0.1121424064040184, balance: 0.4649122953414917\n"
     ]
    }
   ],
   "source": [
    "cnn2.train(data_loader, epochs=200, validation_data = {\"X\":torch.tensor(X_val).float(), \n",
    "                                              \"tau\":torch.Tensor(tau_val).float()})"
   ]
  },
  {
   "cell_type": "code",
   "execution_count": 30,
   "metadata": {},
   "outputs": [
    {
     "data": {
      "image/png": "[encoded data removed]",
      "text/plain": [
       "<Figure size 432x288 with 1 Axes>"
      ]
     },
     "metadata": {
      "needs_background": "light"
     },
     "output_type": "display_data"
    }
   ],
   "source": [
    "import matplotlib.pyplot as plt\n",
    "plt.plot(cnn2.val_loss)\n",
    "plt.show()"
   ]
  },
  {
   "cell_type": "markdown",
   "metadata": {},
   "source": [
    "For neural networks without hidden layer, we can compare the coefficients to the known true coefficients."
   ]
  },
  {
   "cell_type": "code",
   "execution_count": 31,
   "metadata": {},
   "outputs": [
    {
     "data": {
      "text/plain": [
       "0.09941928491355384"
      ]
     },
     "execution_count": 31,
     "metadata": {},
     "output_type": "execute_result"
    }
   ],
   "source": [
    "tau_zero"
   ]
  },
  {
   "cell_type": "code",
   "execution_count": 32,
   "metadata": {},
   "outputs": [
    {
     "data": {
      "text/plain": [
       "array([0.09839207], dtype=float32)"
      ]
     },
     "execution_count": 32,
     "metadata": {},
     "output_type": "execute_result"
    }
   ],
   "source": [
    "list(cnn2.net1.parameters())[1].detach().numpy()"
   ]
  },
  {
   "cell_type": "markdown",
   "metadata": {},
   "source": [
    "The estimated coefficients usually capture the direction and even approximate size of the effect."
   ]
  },
  {
   "cell_type": "code",
   "execution_count": 33,
   "metadata": {},
   "outputs": [
    {
     "data": {
      "text/plain": [
       "array([-0.01181628, -0.00056324, -0.00038409, -0.0026142 ,  0.00355688,\n",
       "       -0.01024895,  0.00623549,  0.00018308, -0.00534166, -0.01784753])"
      ]
     },
     "execution_count": 33,
     "metadata": {},
     "output_type": "execute_result"
    }
   ],
   "source": [
    "coef_tau"
   ]
  },
  {
   "cell_type": "code",
   "execution_count": 34,
   "metadata": {},
   "outputs": [
    {
     "data": {
      "text/plain": [
       "array([[-0.01961956,  0.00386629, -0.0082767 ,  0.00134611, -0.00027067,\n",
       "        -0.01149784,  0.00668612, -0.00531666, -0.00999668, -0.01973524]],\n",
       "      dtype=float32)"
      ]
     },
     "execution_count": 34,
     "metadata": {},
     "output_type": "execute_result"
    }
   ],
   "source": [
    "list(cnn2.net1.parameters())[0].detach().numpy()"
   ]
  },
  {
   "cell_type": "markdown",
   "metadata": {},
   "source": [
    "The predicted treatment effects are usually not a accurate estimate of the true individual treatment effects, but correlation is often high."
   ]
  },
  {
   "cell_type": "code",
   "execution_count": 35,
   "metadata": {},
   "outputs": [],
   "source": [
    "pred = cnn2.net1(torch.tensor(X).float()).detach().numpy()"
   ]
  },
  {
   "cell_type": "code",
   "execution_count": 36,
   "metadata": {},
   "outputs": [
    {
     "name": "stdout",
     "output_type": "stream",
     "text": [
      "0.09954795307329109 0.02537136176155067\n",
      "0.09848804 0.033865847\n",
      "[[1.         0.90684453]\n",
      " [0.90684453 1.        ]]\n"
     ]
    }
   ],
   "source": [
    "print(tau.mean(), tau.std())\n",
    "print(pred.mean(), pred.std())\n",
    "print(np.corrcoef(tau,pred.flatten()))"
   ]
  },
  {
   "cell_type": "code",
   "execution_count": 37,
   "metadata": {},
   "outputs": [
    {
     "data": {
      "text/plain": [
       "array([0.12902333, 0.11898324, 0.0572401 , 0.08173908, 0.14059615,\n",
       "       0.13592334, 0.11062738, 0.13640127, 0.09566238, 0.08779384],\n",
       "      dtype=float32)"
      ]
     },
     "execution_count": 37,
     "metadata": {},
     "output_type": "execute_result"
    }
   ],
   "source": [
    "pred.flatten()[:10]"
   ]
  },
  {
   "cell_type": "code",
   "execution_count": 38,
   "metadata": {},
   "outputs": [
    {
     "data": {
      "text/plain": [
       "array([0.12381572, 0.10763013, 0.04988213, 0.0977745 , 0.12228992,\n",
       "       0.13137319, 0.1038555 , 0.10988424, 0.09399612, 0.09210034])"
      ]
     },
     "execution_count": 38,
     "metadata": {},
     "output_type": "execute_result"
    }
   ],
   "source": [
    "tau[:10]"
   ]
  },
  {
   "cell_type": "code",
   "execution_count": null,
   "metadata": {},
   "outputs": [],
   "source": []
  }
 ],
 "metadata": {
  "kernelspec": {
   "display_name": "Python [deeplearning]",
   "language": "python",
   "name": "Python [deeplearning]"
  },
  "language_info": {
   "codemirror_mode": {
    "name": "ipython",
    "version": 3
   },
   "file_extension": ".py",
   "mimetype": "text/x-python",
   "name": "python",
   "nbconvert_exporter": "python",
   "pygments_lexer": "ipython3",
   "version": "3.6.7"
  }
 },
 "nbformat": 4,
 "nbformat_minor": 2
}
